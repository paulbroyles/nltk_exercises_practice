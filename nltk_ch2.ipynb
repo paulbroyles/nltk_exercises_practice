{
 "cells": [
  {
   "cell_type": "markdown",
   "metadata": {},
   "source": [
    "# Initialize the environment"
   ]
  },
  {
   "cell_type": "code",
   "execution_count": 75,
   "metadata": {
    "collapsed": true
   },
   "outputs": [],
   "source": [
    "import nltk"
   ]
  },
  {
   "cell_type": "markdown",
   "metadata": {},
   "source": [
    "# Ch. 2 Exercises"
   ]
  },
  {
   "cell_type": "markdown",
   "metadata": {},
   "source": [
    "1\\. ☼ Create a variable phrase containing a list of words. Review the operations described in the previous chapter, including addition, multiplication, indexing, slicing, and sorting."
   ]
  },
  {
   "cell_type": "code",
   "execution_count": 76,
   "metadata": {
    "collapsed": true
   },
   "outputs": [],
   "source": [
    "phrase = ['This', 'is', 'my', 'list', 'of', 'words']"
   ]
  },
  {
   "cell_type": "code",
   "execution_count": 77,
   "metadata": {},
   "outputs": [
    {
     "data": {
      "text/plain": [
       "['This', 'is', 'my', 'list', 'of', 'words', 'stupidly']"
      ]
     },
     "execution_count": 77,
     "metadata": {},
     "output_type": "execute_result"
    }
   ],
   "source": [
    "phrase + ['stupidly']"
   ]
  },
  {
   "cell_type": "code",
   "execution_count": 78,
   "metadata": {},
   "outputs": [
    {
     "data": {
      "text/plain": [
       "['This',\n",
       " 'is',\n",
       " 'my',\n",
       " 'list',\n",
       " 'of',\n",
       " 'words',\n",
       " 'This',\n",
       " 'is',\n",
       " 'my',\n",
       " 'list',\n",
       " 'of',\n",
       " 'words',\n",
       " 'This',\n",
       " 'is',\n",
       " 'my',\n",
       " 'list',\n",
       " 'of',\n",
       " 'words']"
      ]
     },
     "execution_count": 78,
     "metadata": {},
     "output_type": "execute_result"
    }
   ],
   "source": [
    "phrase * 3"
   ]
  },
  {
   "cell_type": "code",
   "execution_count": 79,
   "metadata": {},
   "outputs": [
    {
     "data": {
      "text/plain": [
       "3"
      ]
     },
     "execution_count": 79,
     "metadata": {},
     "output_type": "execute_result"
    }
   ],
   "source": [
    "phrase.index('list')"
   ]
  },
  {
   "cell_type": "code",
   "execution_count": 80,
   "metadata": {},
   "outputs": [
    {
     "data": {
      "text/plain": [
       "['list', 'of', 'words']"
      ]
     },
     "execution_count": 80,
     "metadata": {},
     "output_type": "execute_result"
    }
   ],
   "source": [
    "phrase[-3:]"
   ]
  },
  {
   "cell_type": "code",
   "execution_count": 81,
   "metadata": {},
   "outputs": [
    {
     "data": {
      "text/plain": [
       "['is', 'list', 'my', 'of', 'this', 'words']"
      ]
     },
     "execution_count": 81,
     "metadata": {},
     "output_type": "execute_result"
    }
   ],
   "source": [
    "sorted(set(w.lower() for w in phrase))"
   ]
  },
  {
   "cell_type": "markdown",
   "metadata": {},
   "source": [
    "2\\. ☼ Use the corpus module to explore `austen-persuasion.txt`. How many word tokens does this book have? How many word types?"
   ]
  },
  {
   "cell_type": "code",
   "execution_count": 82,
   "metadata": {
    "scrolled": true
   },
   "outputs": [
    {
     "data": {
      "text/plain": [
       "98171"
      ]
     },
     "execution_count": 82,
     "metadata": {},
     "output_type": "execute_result"
    }
   ],
   "source": [
    "from nltk.corpus import gutenberg\n",
    "len(gutenberg.words('austen-persuasion.txt')) # Number of tokens"
   ]
  },
  {
   "cell_type": "code",
   "execution_count": 83,
   "metadata": {},
   "outputs": [
    {
     "data": {
      "text/plain": [
       "5835"
      ]
     },
     "execution_count": 83,
     "metadata": {},
     "output_type": "execute_result"
    }
   ],
   "source": [
    "len(set(w.lower() for w in gutenberg.words('austen-persuasion.txt'))) # Number of unique words"
   ]
  },
  {
   "cell_type": "markdown",
   "metadata": {},
   "source": [
    "3\\. ☼ Use the Brown corpus reader `nltk.corpus.brown.words()` or the Web text corpus reader `nltk.corpus.webtext.words()` to access some sample text in two different genres."
   ]
  },
  {
   "cell_type": "code",
   "execution_count": 84,
   "metadata": {},
   "outputs": [
    {
     "data": {
      "text/plain": [
       "'As/cs a/at result/nn ,/, although/cs we/ppss still/rb make/vb use/nn of/in this/dt distinc'"
      ]
     },
     "execution_count": 84,
     "metadata": {},
     "output_type": "execute_result"
    }
   ],
   "source": [
    "nltk.corpus.brown.raw(categories=['religion'])[:90]"
   ]
  },
  {
   "cell_type": "code",
   "execution_count": 85,
   "metadata": {},
   "outputs": [
    {
     "data": {
      "text/plain": [
       "'\\n\\n\\tThe/at Office/nn-tl of/in-tl Business/nn-tl Economics/nn-tl (/( OBE/np )/) of/in the/at'"
      ]
     },
     "execution_count": 85,
     "metadata": {},
     "output_type": "execute_result"
    }
   ],
   "source": [
    "nltk.corpus.brown.raw(categories=['government'])[:90]"
   ]
  },
  {
   "cell_type": "code",
   "execution_count": 86,
   "metadata": {},
   "outputs": [
    {
     "name": "stdout",
     "output_type": "stream",
     "text": [
      "firefox.txt\n",
      "grail.txt\n",
      "overheard.txt\n",
      "pirates.txt\n",
      "singles.txt\n",
      "wine.txt\n"
     ]
    }
   ],
   "source": [
    "for fileid in nltk.corpus.webtext.fileids():\n",
    "    print(fileid)"
   ]
  },
  {
   "cell_type": "code",
   "execution_count": 87,
   "metadata": {},
   "outputs": [
    {
     "data": {
      "text/plain": [
       "'25 SEXY MALE, seeks attrac older single lady, for discreet encounters.\\n35YO Security Guard'"
      ]
     },
     "execution_count": 87,
     "metadata": {},
     "output_type": "execute_result"
    }
   ],
   "source": [
    "nltk.corpus.webtext.raw('singles.txt')[:90]"
   ]
  },
  {
   "cell_type": "markdown",
   "metadata": {},
   "source": [
    "4\\. ☼ Read in the texts of the _State of the Union_ addresses, using the `state_union` corpus reader. Count occurrences of `men`, `women`, and `people` in each document. What has happened to the usage of these words over time?"
   ]
  },
  {
   "cell_type": "code",
   "execution_count": 88,
   "metadata": {},
   "outputs": [
    {
     "data": {
      "image/png": "[encoded data removed]",
      "text/plain": [
       "<matplotlib.figure.Figure at 0x10820a7b8>"
      ]
     },
     "metadata": {},
     "output_type": "display_data"
    }
   ],
   "source": [
    "from nltk.corpus import state_union\n",
    "\n",
    "cfd = nltk.ConditionalFreqDist(\n",
    "    (target, fileid[:4])\n",
    "    for fileid in state_union.fileids()\n",
    "    for w in state_union.words(fileid)\n",
    "    for target in ['men', 'women', 'people']\n",
    "    if w.lower() == target)\n",
    "cfd.plot()"
   ]
  },
  {
   "cell_type": "code",
   "execution_count": 89,
   "metadata": {},
   "outputs": [
    {
     "name": "stdout",
     "output_type": "stream",
     "text": [
      "        men  women people \n",
      "1945      2      2     10 \n",
      "1946     12      7     49 \n",
      "1947      7      2     12 \n",
      "1948      5      1     22 \n",
      "1949      2      1     15 \n",
      "1950      6      2     15 \n",
      "1951      8      2     10 \n",
      "1953      3      0     17 \n",
      "1954      2      0     15 \n",
      "1955      4      0     26 \n",
      "1956      2      2     30 \n",
      "1957      5      2     11 \n",
      "1958      2      1     19 \n",
      "1959      4      1     11 \n",
      "1960      2      0     10 \n",
      "1961      6      0     10 \n",
      "1962      6      2     10 \n",
      "1963      8      5     15 \n",
      "1964      3      1      3 \n",
      "1965     19      3     30 \n",
      "1966     12      1     35 \n",
      "1967     11      1     25 \n",
      "1968      4      0     17 \n",
      "1969      5      2      6 \n",
      "1970      2      0     23 \n",
      "1971      1      0     32 \n",
      "1972      1      0      7 \n",
      "1973      1      0      9 \n",
      "1974      0      0     20 \n",
      "1975      0      0     14 \n",
      "1976      3      1     18 \n",
      "1977      2      1     19 \n",
      "1978      0      1     26 \n",
      "1979      0      1     15 \n",
      "1980      1      2     12 \n",
      "1981      1      1     11 \n",
      "1982      1      2     17 \n",
      "1983      3      7     19 \n",
      "1984      3      5     27 \n",
      "1985      1      1     12 \n",
      "1986      2      2     14 \n",
      "1987      1      0     24 \n",
      "1988      1      0     17 \n",
      "1989      2      3     13 \n",
      "1990      3      2      9 \n",
      "1991      9      9     27 \n",
      "1992      4      4     27 \n",
      "1993      1      2     45 \n",
      "1994      1      1     66 \n",
      "1995      1      3     73 \n",
      "1996      2      3     43 \n",
      "1997      1      2     31 \n",
      "1998      2      2     22 \n",
      "1999      2      3     22 \n",
      "2000      5      7     41 \n",
      "2001      4      6     27 \n",
      "2002      3      6     14 \n",
      "2003      6      4     33 \n",
      "2004      7      8     21 \n",
      "2005      8     11     18 \n",
      "2006      7      7     22 \n"
     ]
    }
   ],
   "source": [
    "cfd = nltk.ConditionalFreqDist(\n",
    "    (fileid[:4], w.lower())\n",
    "    for fileid in state_union.fileids()\n",
    "    for w in state_union.words(fileid))\n",
    "cfd.tabulate(samples=['men', 'women', 'people'])"
   ]
  },
  {
   "cell_type": "markdown",
   "metadata": {},
   "source": [
    "5\\. ☼ Investigate the holonym-meronym relations for some nouns. Remember that there are three kinds of holonym-meronym relation, so you need to use: `member_meronyms()`, `part_meronyms()`, `substance_meronyms()`, `member_holonyms()`, `part_holonyms()`, and `substance_holonyms()`."
   ]
  },
  {
   "cell_type": "code",
   "execution_count": null,
   "metadata": {
    "collapsed": true
   },
   "outputs": [],
   "source": []
  },
  {
   "cell_type": "code",
   "execution_count": 157,
   "metadata": {},
   "outputs": [
    {
     "data": {
      "text/plain": [
       "[Synset('computer.n.01'), Synset('calculator.n.01')]"
      ]
     },
     "execution_count": 157,
     "metadata": {},
     "output_type": "execute_result"
    }
   ],
   "source": [
    "from nltk.corpus import wordnet as wn\n",
    "wn.synsets('computer')"
   ]
  },
  {
   "cell_type": "code",
   "execution_count": 158,
   "metadata": {},
   "outputs": [
    {
     "data": {
      "text/plain": [
       "[]"
      ]
     },
     "execution_count": 158,
     "metadata": {},
     "output_type": "execute_result"
    }
   ],
   "source": [
    "word = wn.synset('computer.n.01')\n",
    "word.member_meronyms()"
   ]
  },
  {
   "cell_type": "code",
   "execution_count": 159,
   "metadata": {},
   "outputs": [
    {
     "data": {
      "text/plain": [
       "[Synset('busbar.n.01'),\n",
       " Synset('cathode-ray_tube.n.01'),\n",
       " Synset('central_processing_unit.n.01'),\n",
       " Synset('chip.n.07'),\n",
       " Synset('computer_accessory.n.01'),\n",
       " Synset('computer_circuit.n.01'),\n",
       " Synset('data_converter.n.01'),\n",
       " Synset('disk_cache.n.01'),\n",
       " Synset('diskette.n.01'),\n",
       " Synset('hardware.n.03'),\n",
       " Synset('keyboard.n.01'),\n",
       " Synset('memory.n.04'),\n",
       " Synset('monitor.n.04'),\n",
       " Synset('peripheral.n.01')]"
      ]
     },
     "execution_count": 159,
     "metadata": {},
     "output_type": "execute_result"
    }
   ],
   "source": [
    "word.part_meronyms()"
   ]
  },
  {
   "cell_type": "code",
   "execution_count": 160,
   "metadata": {},
   "outputs": [
    {
     "data": {
      "text/plain": [
       "[]"
      ]
     },
     "execution_count": 160,
     "metadata": {},
     "output_type": "execute_result"
    }
   ],
   "source": [
    "word.substance_meronyms()"
   ]
  },
  {
   "cell_type": "code",
   "execution_count": 161,
   "metadata": {},
   "outputs": [
    {
     "data": {
      "text/plain": [
       "[]"
      ]
     },
     "execution_count": 161,
     "metadata": {},
     "output_type": "execute_result"
    }
   ],
   "source": [
    "word.member_holonyms()"
   ]
  },
  {
   "cell_type": "code",
   "execution_count": 162,
   "metadata": {},
   "outputs": [
    {
     "data": {
      "text/plain": [
       "[Synset('platform.n.03')]"
      ]
     },
     "execution_count": 162,
     "metadata": {},
     "output_type": "execute_result"
    }
   ],
   "source": [
    "word.part_holonyms()"
   ]
  },
  {
   "cell_type": "code",
   "execution_count": 163,
   "metadata": {},
   "outputs": [
    {
     "data": {
      "text/plain": [
       "[]"
      ]
     },
     "execution_count": 163,
     "metadata": {},
     "output_type": "execute_result"
    }
   ],
   "source": [
    "word.substance_holonyms()"
   ]
  },
  {
   "cell_type": "markdown",
   "metadata": {},
   "source": [
    "6\\. ☼ In the discussion of comparative wordlists, we created an object called `translate` which you could look up using words in both German and Spanish in order to get corresponding words in English. What problem might arise with this approach? Can you suggest a way to avoid this problem?"
   ]
  },
  {
   "cell_type": "markdown",
   "metadata": {
    "collapsed": true
   },
   "source": [
    "The two languages might have words with the same spelling. Since keys in dictionaries must be unique, the translate object could not contain entries for the words in both languages: from my reading of the documentation, update() would replace the old value with the new value as each language was added. One approach to solving this problem while keeping the universal translation is to add new dictionaries by iterating over them manually, rather than by using the update() method. Basically, for each item, check whether the key already exists. If it does, cast the value as a list and append the new value, rather than overwriting the value."
   ]
  },
  {
   "cell_type": "code",
   "execution_count": 107,
   "metadata": {},
   "outputs": [
    {
     "name": "stdout",
     "output_type": "stream",
     "text": [
      "{'a': ['A', 'OK', 'Yay'], 'b': 'B', 'c': ['D', 'see'], 'f': 'eff'}\n"
     ]
    }
   ],
   "source": [
    "def combine_dicts(dict1, dict2):\n",
    "    for key in dict2.keys():\n",
    "        if key in dict1:\n",
    "            val = list(dict1[key])\n",
    "            val += [dict2[key]]\n",
    "            dict1[key] = val\n",
    "        else:\n",
    "            dict1[key] = dict2[key]\n",
    "    return dict1\n",
    "\n",
    "dict1 = {'a': 'A', 'b': 'B'}\n",
    "dict2 = {'a': 'OK', 'c': 'D'}\n",
    "dict3 = {'a': 'Yay', 'c': 'see', 'f': 'eff'}\n",
    "\n",
    "dict1 = combine_dicts(dict1, dict2)\n",
    "dict1 = combine_dicts(dict1, dict3)\n",
    "print(dict1)"
   ]
  },
  {
   "cell_type": "markdown",
   "metadata": {},
   "source": [
    "That approach, of course, loses the context of what word comes from what language, but given the weirdness of a function that will translate an arbitrary string to English without caring what language it's from, that's probably an acceptable loss in this case.\n",
    "\n",
    "This solution as written also assumes that dict2 values don't come in the form of a list. Where they do, we'll end up with inappropriately nested lists. But given the weirdness that results from casting string to list, I'm considering a more robust solution beyond the scope of this assignment. If I knew type-checking, better solutions might present themselves."
   ]
  },
  {
   "cell_type": "markdown",
   "metadata": {},
   "source": [
    "7\\. ☼ According to Strunk and White's _Elements of Style_, the word _however_, used at the start of a sentence, means \"in whatever way\" or \"to whatever extent\", and not \"nevertheless\". They give this example of correct usage: _However you advise him, he will probably do as he thinks best._ (http://www.bartleby.com/141/strunk3.html) Use the concordance tool to study actual usage of this word in the various texts we have been considering. See also the _LanguageLog_ posting \"Fossilized prejudices about 'however'\" at http://itre.cis.upenn.edu/~myl/languagelog/archives/001913.html"
   ]
  },
  {
   "cell_type": "code",
   "execution_count": 108,
   "metadata": {},
   "outputs": [
    {
     "name": "stdout",
     "output_type": "stream",
     "text": [
      "Displaying 25 of 673 matches:\n",
      " her many enjoyments . The danger , however , was at present so unperceived , t\n",
      "ion would offend . Miss Churchill , however , being of age , and with the full \n",
      "n . From the expense of the child , however , he was soon relieved . The boy ha\n",
      " -- and been very well brought up . However , I do not mean to set up my opinio\n",
      "f and predict . It was not likely , however , that any body should have equalle\n",
      "to be borne . We will not despair , however . Weston may grow cross from the wa\n",
      "is so very handsome and agreeable . However , I do really think Mr . Martin a v\n",
      " accepted after all . This letter , however , was written , and sealed , and se\n",
      "e him .\" \" And if I did , ( which , however , I am far from allowing ) I should\n",
      " slightingly . Waiving that point , however , and supposing her to be , as you \n",
      "e was not so materially cast down , however , but that a little time and the re\n",
      "ld inspire him .\" The very next day however produced some proof of inspiration \n",
      "and staid to look through herself ; however , she called me back presently , an\n",
      "t turn up . His ostensible reason , however , was to ask whether Mr . Woodhouse\n",
      "l and cross . This does not apply , however , to Miss Bates ; she is only too g\n",
      "and sufferings of the poor family , however , were the first subject on meeting\n",
      "ting for her . She gained on them , however , involuntarily : the child ' s pac\n",
      "ould close it . It was not closed , however , it still remained ajar ; but by e\n",
      " believes himself secure .\" Still , however , though every thing had not been a\n",
      "ght advance rapidly if they would , however ; they must advance somehow or othe\n",
      " offence came not . The beginning , however , of every visit displayed none but\n",
      "eed !-- and my memory is very bad . However , it was an exceeding good , pretty\n",
      "first day . Emma ' s sense of right however had decided it ; and besides the co\n",
      "le fatigued . I could have wished , however , as you know , that you had seen M\n",
      "\" Our little friend Harriet Smith , however , is just such another pretty kind \n"
     ]
    }
   ],
   "source": [
    "nltk.Text(nltk.corpus.gutenberg.words()).concordance('However')"
   ]
  },
  {
   "cell_type": "markdown",
   "metadata": {},
   "source": [
    "8\\. ◑ Define a conditional frequency distribution over the Names corpus that allows you to see which initial letters are more frequent for males vs. females (cf. [4.4](http://www.nltk.org/book/ch02.html#fig-cfd-gender))."
   ]
  },
  {
   "cell_type": "code",
   "execution_count": 168,
   "metadata": {},
   "outputs": [
    {
     "data": {
      "image/png": "[encoded data removed]",
      "text/plain": [
       "<matplotlib.figure.Figure at 0x10df85a90>"
      ]
     },
     "metadata": {},
     "output_type": "display_data"
    }
   ],
   "source": [
    "from nltk.corpus import names\n",
    "cfd = nltk.ConditionalFreqDist(\n",
    "    (fileid[:-4], name[0])\n",
    "    for fileid in names.fileids()\n",
    "    for name in names.words(fileid)\n",
    ")\n",
    "cfd.plot()"
   ]
  },
  {
   "cell_type": "markdown",
   "metadata": {},
   "source": [
    "9\\. ◑ Pick a pair of texts and study the differences between them, in terms of vocabulary, vocabulary richness, genre, etc. Can you find pairs of words which have quite different meanings across the two texts, such as _monstrous_ in _Moby Dick_ and in _Sense and Sensibility_?"
   ]
  },
  {
   "cell_type": "code",
   "execution_count": 2,
   "metadata": {},
   "outputs": [
    {
     "data": {
      "text/plain": [
       "['austen-emma.txt',\n",
       " 'austen-persuasion.txt',\n",
       " 'austen-sense.txt',\n",
       " 'bible-kjv.txt',\n",
       " 'blake-poems.txt',\n",
       " 'bryant-stories.txt',\n",
       " 'burgess-busterbrown.txt',\n",
       " 'carroll-alice.txt',\n",
       " 'chesterton-ball.txt',\n",
       " 'chesterton-brown.txt',\n",
       " 'chesterton-thursday.txt',\n",
       " 'edgeworth-parents.txt',\n",
       " 'melville-moby_dick.txt',\n",
       " 'milton-paradise.txt',\n",
       " 'shakespeare-caesar.txt',\n",
       " 'shakespeare-hamlet.txt',\n",
       " 'shakespeare-macbeth.txt',\n",
       " 'whitman-leaves.txt']"
      ]
     },
     "execution_count": 2,
     "metadata": {},
     "output_type": "execute_result"
    }
   ],
   "source": [
    "from nltk.corpus import gutenberg\n",
    "gutenberg.fileids()"
   ]
  },
  {
   "cell_type": "code",
   "execution_count": 5,
   "metadata": {},
   "outputs": [
    {
     "name": "stdout",
     "output_type": "stream",
     "text": [
      "Length: Bible - 1010654 Milton - 96825\n"
     ]
    }
   ],
   "source": [
    "bible = gutenberg.words('bible-kjv.txt')\n",
    "milton = gutenberg.words('milton-paradise.txt')\n",
    "\n",
    "def words_set(word_list):\n",
    "    return set(w.lower() for w in word_list)\n",
    "\n",
    "print('Length: Bible -',len(bible), 'Milton -',len(milton))"
   ]
  },
  {
   "cell_type": "code",
   "execution_count": 6,
   "metadata": {},
   "outputs": [
    {
     "name": "stdout",
     "output_type": "stream",
     "text": [
      "Vocab: Bible - 12767 Milton - 9021\n"
     ]
    }
   ],
   "source": [
    "print('Vocab: Bible -',len(words_set(bible)), 'Milton -', len(words_set(milton)))"
   ]
  },
  {
   "cell_type": "code",
   "execution_count": 8,
   "metadata": {},
   "outputs": [
    {
     "name": "stdout",
     "output_type": "stream",
     "text": [
      "Richness: Bible - 0.012632414258490047 Milton - 0.09316808675445391\n"
     ]
    }
   ],
   "source": [
    "print('Richness: Bible -', len(words_set(bible))/len(bible), 'Milton -', len(words_set(milton))/len(milton))"
   ]
  },
  {
   "cell_type": "markdown",
   "metadata": {},
   "source": [
    "10\\. ◑ Read the BBC News article: _UK's Vicky Pollards_ 'left behind' http://news.bbc.co.uk/1/hi/education/6173441.stm. The article gives the following statistic about teen language: \"the top 20 words used, including yeah, no, but and like, account for around a third of all words.\" How many word types account for a third of all word tokens, for a variety of text sources? What do you conclude about this statistic? Read more about this on _LanguageLog_, at http://itre.cis.upenn.edu/~myl/languagelog/archives/003993.html."
   ]
  },
  {
   "cell_type": "code",
   "execution_count": null,
   "metadata": {
    "collapsed": true
   },
   "outputs": [],
   "source": []
  },
  {
   "cell_type": "markdown",
   "metadata": {},
   "source": [
    "11\\. ◑ Read the BBC News article: UK's Vicky Pollards 'left behind' http://news.bbc.co.uk/1/hi/education/6173441.stm. The article gives the following statistic about teen language: \"the top 20 words used, including yeah, no, but and like, account for around a third of all words.\" How many word types account for a third of all word tokens, for a variety of text sources? What do you conclude about this statistic? Read more about this on LanguageLog, at http://itre.cis.upenn.edu/~myl/languagelog/archives/003993.html."
   ]
  },
  {
   "cell_type": "code",
   "execution_count": null,
   "metadata": {
    "collapsed": true
   },
   "outputs": [],
   "source": []
  },
  {
   "cell_type": "markdown",
   "metadata": {},
   "source": [
    "12\\. ◑ Read the BBC News article: UK's Vicky Pollards 'left behind' http://news.bbc.co.uk/1/hi/education/6173441.stm. The article gives the following statistic about teen language: \"the top 20 words used, including yeah, no, but and like, account for around a third of all words.\" How many word types account for a third of all word tokens, for a variety of text sources? What do you conclude about this statistic? Read more about this on LanguageLog, at http://itre.cis.upenn.edu/~myl/languagelog/archives/003993.html."
   ]
  },
  {
   "cell_type": "code",
   "execution_count": null,
   "metadata": {
    "collapsed": true
   },
   "outputs": [],
   "source": []
  },
  {
   "cell_type": "markdown",
   "metadata": {},
   "source": [
    "13\\. ◑ What percentage of noun synsets have no hyponyms? You can get all noun synsets using `wn.all_synsets('n')`."
   ]
  },
  {
   "cell_type": "code",
   "execution_count": null,
   "metadata": {
    "collapsed": true
   },
   "outputs": [],
   "source": []
  },
  {
   "cell_type": "markdown",
   "metadata": {},
   "source": [
    "14\\. ◑ Define a function `supergloss(s)` that takes a synset `s` as its argument and returns a string consisting of the concatenation of the definition of s, and the definitions of all the hypernyms and hyponyms of `s`."
   ]
  },
  {
   "cell_type": "code",
   "execution_count": null,
   "metadata": {
    "collapsed": true
   },
   "outputs": [],
   "source": []
  },
  {
   "cell_type": "markdown",
   "metadata": {},
   "source": [
    "15\\. ◑ Write a program to find all words that occur at least three times in the Brown Corpus."
   ]
  },
  {
   "cell_type": "code",
   "execution_count": null,
   "metadata": {
    "collapsed": true
   },
   "outputs": [],
   "source": []
  },
  {
   "cell_type": "markdown",
   "metadata": {},
   "source": [
    "16\\. ◑ Write a program to generate a table of lexical diversity scores (i.e. token/type ratios), as we saw in [1.1](http://www.nltk.org/book/ch01.html#tab-brown-types). Include the full set of Brown Corpus genres (nltk.corpus.brown.categories()). Which genre has the lowest diversity (greatest number of tokens per type)? Is this what you would have expected?"
   ]
  },
  {
   "cell_type": "code",
   "execution_count": null,
   "metadata": {
    "collapsed": true
   },
   "outputs": [],
   "source": []
  },
  {
   "cell_type": "markdown",
   "metadata": {},
   "source": [
    "17\\. ◑ Write a function that finds the 50 most frequently occurring words of a text that are not stopwords."
   ]
  },
  {
   "cell_type": "code",
   "execution_count": null,
   "metadata": {
    "collapsed": true
   },
   "outputs": [],
   "source": []
  },
  {
   "cell_type": "markdown",
   "metadata": {},
   "source": [
    "18\\. ◑ Write a program to print the 50 most frequent bigrams (pairs of adjacent words) of a text, omitting bigrams that contain stopwords."
   ]
  },
  {
   "cell_type": "code",
   "execution_count": null,
   "metadata": {
    "collapsed": true
   },
   "outputs": [],
   "source": []
  },
  {
   "cell_type": "markdown",
   "metadata": {},
   "source": [
    "19\\. ◑ Write a program to create a table of word frequencies by genre, like the one given in 1 for modals. Choose your own words and try to find words whose presence (or absence) is typical of a genre. Discuss your findings."
   ]
  },
  {
   "cell_type": "code",
   "execution_count": null,
   "metadata": {
    "collapsed": true
   },
   "outputs": [],
   "source": []
  },
  {
   "cell_type": "markdown",
   "metadata": {},
   "source": [
    "20\\. ◑ Write a function `word_freq()` that takes a word and the name of a section of the Brown Corpus as arguments, and computes the frequency of the word in that section of the corpus."
   ]
  },
  {
   "cell_type": "code",
   "execution_count": null,
   "metadata": {
    "collapsed": true
   },
   "outputs": [],
   "source": []
  },
  {
   "cell_type": "markdown",
   "metadata": {},
   "source": [
    "21\\. ◑ Write a program to guess the number of syllables contained in a text, making use of the CMU Pronouncing Dictionary."
   ]
  },
  {
   "cell_type": "code",
   "execution_count": null,
   "metadata": {
    "collapsed": true
   },
   "outputs": [],
   "source": []
  },
  {
   "cell_type": "markdown",
   "metadata": {},
   "source": [
    "22\\. ◑ Define a function `hedge(text)` which processes a text and produces a new version with the word `'like'` between every third word."
   ]
  },
  {
   "cell_type": "code",
   "execution_count": null,
   "metadata": {
    "collapsed": true
   },
   "outputs": [],
   "source": []
  },
  {
   "cell_type": "markdown",
   "metadata": {},
   "source": [
    "23\\. ★ Zipf's Law: Let _f(w)_ be the frequency of a word _w_ in free text. Suppose that all the words of a text are ranked according to their frequency, with the most frequent word first. Zipf's law states that the frequency of a word type is inversely proportional to its rank (i.e. _f × r = k_, for some constant _k_). For example, the 50th most common word type should occur three times as frequently as the 150th most common word type.\n",
    "<ol type=\"a\">\n",
    "<li>Write a function to process a large text and plot word frequency against word rank using `pylab.plot`. Do you confirm Zipf's law? (Hint: it helps to use a logarithmic scale). What is going on at the extreme ends of the plotted line?</li>\n",
    "<li>Generate random text, e.g., using `random.choice(\"abcdefg \")`, taking care to include the space character. You will need to `import random` first. Use the string concatenation operator to accumulate characters into a (very) long string. Then tokenize this string, and generate the Zipf plot as before, and compare the two plots. What do you make of Zipf's Law in the light of this?</li>\n",
    "</ol>"
   ]
  },
  {
   "cell_type": "code",
   "execution_count": null,
   "metadata": {
    "collapsed": true
   },
   "outputs": [],
   "source": []
  },
  {
   "cell_type": "markdown",
   "metadata": {},
   "source": [
    "24\\. ★ Modify the text generation program in [2.2](http://www.nltk.org/book/ch02.html#code-random-text) further, to do the following tasks:\n",
    "<ol type=\"a\">\n",
    "<li>Store the _n_ most likely words in a list `words` then randomly choose a word from the list using `random.choice()`. (You will need to `import random` first.)</li>\n",
    "<li>Select a particular genre, such as a section of the Brown Corpus, or a genesis translation, one of the Gutenberg texts, or one of the Web texts. Train the model on this corpus and get it to generate random text. You may have to experiment with different start words. How intelligible is the text? Discuss the strengths and weaknesses of this method of generating random text.</li>\n",
    "<li>Now train your system using two distinct genres and experiment with generating text in the hybrid genre. Discuss your observations.</li>\n",
    "</ol>"
   ]
  },
  {
   "cell_type": "code",
   "execution_count": null,
   "metadata": {
    "collapsed": true
   },
   "outputs": [],
   "source": []
  },
  {
   "cell_type": "markdown",
   "metadata": {},
   "source": [
    "25\\. ★ Define a function `find_language()` that takes a string as its argument, and returns a list of languages that have that string as a word. Use the `udhr` corpus and limit your searches to files in the Latin-1 encoding."
   ]
  },
  {
   "cell_type": "code",
   "execution_count": null,
   "metadata": {
    "collapsed": true
   },
   "outputs": [],
   "source": []
  },
  {
   "cell_type": "markdown",
   "metadata": {},
   "source": [
    "26\\. ★ What is the branching factor of the noun hypernym hierarchy? I.e. for every noun synset that has hyponyms — or children in the hypernym hierarchy — how many do they have on average? You can get all noun synsets using `wn.all_synsets('n')`."
   ]
  },
  {
   "cell_type": "code",
   "execution_count": null,
   "metadata": {
    "collapsed": true
   },
   "outputs": [],
   "source": []
  },
  {
   "cell_type": "markdown",
   "metadata": {},
   "source": [
    "27\\. ★ The polysemy of a word is the number of senses it has. Using WordNet, we can determine that the noun _dog_ has 7 senses with: `len(wn.synsets('dog', 'n'))`. Compute the average polysemy of nouns, verbs, adjectives and adverbs according to WordNet."
   ]
  },
  {
   "cell_type": "code",
   "execution_count": null,
   "metadata": {
    "collapsed": true
   },
   "outputs": [],
   "source": []
  },
  {
   "cell_type": "markdown",
   "metadata": {},
   "source": [
    "28\\. ★ Use one of the predefined similarity measures to score the similarity of each of the following pairs of words. Rank the pairs in order of decreasing similarity. How close is your ranking to the order given here, an order that was established experimentally by ([Miller & Charles, 1998](http://www.nltk.org/book/bibliography.html#millercharles1998)): car-automobile, gem-jewel, journey-voyage, boy-lad, coast-shore, asylum-madhouse, magician-wizard, midday-noon, furnace-stove, food-fruit, bird-cock, bird-crane, tool-implement, brother-monk, lad-brother, crane-implement, journey-car, monk-oracle, cemetery-woodland, food-rooster, coast-hill, forest-graveyard, shore-woodland, monk-slave, coast-forest, lad-wizard, chord-smile, glass-magician, rooster-voyage, noon-string."
   ]
  },
  {
   "cell_type": "code",
   "execution_count": null,
   "metadata": {
    "collapsed": true
   },
   "outputs": [],
   "source": []
  },
  {
   "cell_type": "markdown",
   "metadata": {},
   "source": [
    "29\\. ◑ We have been using sets to store vocabularies. Try the following Python expression: set(sent3) < set(text1). Experiment with this using different arguments to set(). What does it do? Can you think of a practical application for this?"
   ]
  },
  {
   "cell_type": "code",
   "execution_count": null,
   "metadata": {
    "collapsed": true
   },
   "outputs": [],
   "source": []
  }
 ],
 "metadata": {
  "kernelspec": {
   "display_name": "Python 3",
   "language": "python",
   "name": "python3"
  },
  "language_info": {
   "codemirror_mode": {
    "name": "ipython",
    "version": 3
   },
   "file_extension": ".py",
   "mimetype": "text/x-python",
   "name": "python",
   "nbconvert_exporter": "python",
   "pygments_lexer": "ipython3",
   "version": "3.6.1"
  }
 },
 "nbformat": 4,
 "nbformat_minor": 2
}
