{
 "cells": [
  {
   "cell_type": "markdown",
   "metadata": {},
   "source": [
    "# Initialize the environment"
   ]
  },
  {
   "cell_type": "code",
   "execution_count": 2,
   "metadata": {
    "collapsed": true
   },
   "outputs": [],
   "source": [
    "import nltk"
   ]
  },
  {
   "cell_type": "markdown",
   "metadata": {},
   "source": [
    "# Ch. 2 Exercises"
   ]
  },
  {
   "cell_type": "markdown",
   "metadata": {},
   "source": [
    "1\\. ☼ Create a variable phrase containing a list of words. Review the operations described in the previous chapter, including addition, multiplication, indexing, slicing, and sorting."
   ]
  },
  {
   "cell_type": "code",
   "execution_count": 3,
   "metadata": {
    "collapsed": true
   },
   "outputs": [],
   "source": [
    "phrase = ['This', 'is', 'my', 'list', 'of', 'words']"
   ]
  },
  {
   "cell_type": "code",
   "execution_count": 4,
   "metadata": {},
   "outputs": [
    {
     "data": {
      "text/plain": [
       "['This', 'is', 'my', 'list', 'of', 'words', 'stupidly']"
      ]
     },
     "execution_count": 4,
     "metadata": {},
     "output_type": "execute_result"
    }
   ],
   "source": [
    "phrase + ['stupidly']"
   ]
  },
  {
   "cell_type": "code",
   "execution_count": 5,
   "metadata": {},
   "outputs": [
    {
     "data": {
      "text/plain": [
       "['This',\n",
       " 'is',\n",
       " 'my',\n",
       " 'list',\n",
       " 'of',\n",
       " 'words',\n",
       " 'This',\n",
       " 'is',\n",
       " 'my',\n",
       " 'list',\n",
       " 'of',\n",
       " 'words',\n",
       " 'This',\n",
       " 'is',\n",
       " 'my',\n",
       " 'list',\n",
       " 'of',\n",
       " 'words']"
      ]
     },
     "execution_count": 5,
     "metadata": {},
     "output_type": "execute_result"
    }
   ],
   "source": [
    "phrase * 3"
   ]
  },
  {
   "cell_type": "code",
   "execution_count": 6,
   "metadata": {},
   "outputs": [
    {
     "data": {
      "text/plain": [
       "3"
      ]
     },
     "execution_count": 6,
     "metadata": {},
     "output_type": "execute_result"
    }
   ],
   "source": [
    "phrase.index('list')"
   ]
  },
  {
   "cell_type": "code",
   "execution_count": 7,
   "metadata": {},
   "outputs": [
    {
     "data": {
      "text/plain": [
       "['list', 'of', 'words']"
      ]
     },
     "execution_count": 7,
     "metadata": {},
     "output_type": "execute_result"
    }
   ],
   "source": [
    "phrase[-3:]"
   ]
  },
  {
   "cell_type": "code",
   "execution_count": 8,
   "metadata": {},
   "outputs": [
    {
     "data": {
      "text/plain": [
       "['is', 'list', 'my', 'of', 'this', 'words']"
      ]
     },
     "execution_count": 8,
     "metadata": {},
     "output_type": "execute_result"
    }
   ],
   "source": [
    "sorted(set(w.lower() for w in phrase))"
   ]
  },
  {
   "cell_type": "markdown",
   "metadata": {},
   "source": [
    "2\\. ☼ Use the corpus module to explore `austen-persuasion.txt`. How many word tokens does this book have? How many word types?"
   ]
  },
  {
   "cell_type": "code",
   "execution_count": 9,
   "metadata": {
    "scrolled": true
   },
   "outputs": [
    {
     "data": {
      "text/plain": [
       "98171"
      ]
     },
     "execution_count": 9,
     "metadata": {},
     "output_type": "execute_result"
    }
   ],
   "source": [
    "from nltk.corpus import gutenberg\n",
    "len(gutenberg.words('austen-persuasion.txt')) # Number of tokens"
   ]
  },
  {
   "cell_type": "code",
   "execution_count": 10,
   "metadata": {},
   "outputs": [
    {
     "data": {
      "text/plain": [
       "5835"
      ]
     },
     "execution_count": 10,
     "metadata": {},
     "output_type": "execute_result"
    }
   ],
   "source": [
    "len(set(w.lower() for w in gutenberg.words('austen-persuasion.txt'))) # Number of unique words"
   ]
  },
  {
   "cell_type": "markdown",
   "metadata": {},
   "source": [
    "3\\. ☼ Use the Brown corpus reader `nltk.corpus.brown.words()` or the Web text corpus reader `nltk.corpus.webtext.words()` to access some sample text in two different genres."
   ]
  },
  {
   "cell_type": "code",
   "execution_count": 11,
   "metadata": {},
   "outputs": [
    {
     "data": {
      "text/plain": [
       "'As/cs a/at result/nn ,/, although/cs we/ppss still/rb make/vb use/nn of/in this/dt distinc'"
      ]
     },
     "execution_count": 11,
     "metadata": {},
     "output_type": "execute_result"
    }
   ],
   "source": [
    "nltk.corpus.brown.raw(categories=['religion'])[:90]"
   ]
  },
  {
   "cell_type": "code",
   "execution_count": 12,
   "metadata": {},
   "outputs": [
    {
     "data": {
      "text/plain": [
       "'\\n\\n\\tThe/at Office/nn-tl of/in-tl Business/nn-tl Economics/nn-tl (/( OBE/np )/) of/in the/at'"
      ]
     },
     "execution_count": 12,
     "metadata": {},
     "output_type": "execute_result"
    }
   ],
   "source": [
    "nltk.corpus.brown.raw(categories=['government'])[:90]"
   ]
  },
  {
   "cell_type": "code",
   "execution_count": 13,
   "metadata": {},
   "outputs": [
    {
     "name": "stdout",
     "output_type": "stream",
     "text": [
      "firefox.txt\n",
      "grail.txt\n",
      "overheard.txt\n",
      "pirates.txt\n",
      "singles.txt\n",
      "wine.txt\n"
     ]
    }
   ],
   "source": [
    "for fileid in nltk.corpus.webtext.fileids():\n",
    "    print(fileid)"
   ]
  },
  {
   "cell_type": "code",
   "execution_count": 14,
   "metadata": {},
   "outputs": [
    {
     "data": {
      "text/plain": [
       "'25 SEXY MALE, seeks attrac older single lady, for discreet encounters.\\n35YO Security Guard'"
      ]
     },
     "execution_count": 14,
     "metadata": {},
     "output_type": "execute_result"
    }
   ],
   "source": [
    "nltk.corpus.webtext.raw('singles.txt')[:90]"
   ]
  },
  {
   "cell_type": "markdown",
   "metadata": {},
   "source": [
    "4\\. ☼ Read in the texts of the _State of the Union_ addresses, using the `state_union` corpus reader. Count occurrences of `men`, `women`, and `people` in each document. What has happened to the usage of these words over time?"
   ]
  },
  {
   "cell_type": "code",
   "execution_count": 15,
   "metadata": {},
   "outputs": [
    {
     "data": {
      "image/png": "[encoded data removed]",
      "text/plain": [
       "<matplotlib.figure.Figure at 0x10ce43668>"
      ]
     },
     "metadata": {},
     "output_type": "display_data"
    }
   ],
   "source": [
    "from nltk.corpus import state_union\n",
    "\n",
    "cfd = nltk.ConditionalFreqDist(\n",
    "    (target, fileid[:4])\n",
    "    for fileid in state_union.fileids()\n",
    "    for w in state_union.words(fileid)\n",
    "    for target in ['men', 'women', 'people']\n",
    "    if w.lower() == target)\n",
    "cfd.plot()"
   ]
  },
  {
   "cell_type": "code",
   "execution_count": 16,
   "metadata": {},
   "outputs": [
    {
     "name": "stdout",
     "output_type": "stream",
     "text": [
      "        men  women people \n",
      "1945      2      2     10 \n",
      "1946     12      7     49 \n",
      "1947      7      2     12 \n",
      "1948      5      1     22 \n",
      "1949      2      1     15 \n",
      "1950      6      2     15 \n",
      "1951      8      2     10 \n",
      "1953      3      0     17 \n",
      "1954      2      0     15 \n",
      "1955      4      0     26 \n",
      "1956      2      2     30 \n",
      "1957      5      2     11 \n",
      "1958      2      1     19 \n",
      "1959      4      1     11 \n",
      "1960      2      0     10 \n",
      "1961      6      0     10 \n",
      "1962      6      2     10 \n",
      "1963      8      5     15 \n",
      "1964      3      1      3 \n",
      "1965     19      3     30 \n",
      "1966     12      1     35 \n",
      "1967     11      1     25 \n",
      "1968      4      0     17 \n",
      "1969      5      2      6 \n",
      "1970      2      0     23 \n",
      "1971      1      0     32 \n",
      "1972      1      0      7 \n",
      "1973      1      0      9 \n",
      "1974      0      0     20 \n",
      "1975      0      0     14 \n",
      "1976      3      1     18 \n",
      "1977      2      1     19 \n",
      "1978      0      1     26 \n",
      "1979      0      1     15 \n",
      "1980      1      2     12 \n",
      "1981      1      1     11 \n",
      "1982      1      2     17 \n",
      "1983      3      7     19 \n",
      "1984      3      5     27 \n",
      "1985      1      1     12 \n",
      "1986      2      2     14 \n",
      "1987      1      0     24 \n",
      "1988      1      0     17 \n",
      "1989      2      3     13 \n",
      "1990      3      2      9 \n",
      "1991      9      9     27 \n",
      "1992      4      4     27 \n",
      "1993      1      2     45 \n",
      "1994      1      1     66 \n",
      "1995      1      3     73 \n",
      "1996      2      3     43 \n",
      "1997      1      2     31 \n",
      "1998      2      2     22 \n",
      "1999      2      3     22 \n",
      "2000      5      7     41 \n",
      "2001      4      6     27 \n",
      "2002      3      6     14 \n",
      "2003      6      4     33 \n",
      "2004      7      8     21 \n",
      "2005      8     11     18 \n",
      "2006      7      7     22 \n"
     ]
    }
   ],
   "source": [
    "cfd = nltk.ConditionalFreqDist(\n",
    "    (fileid[:4], w.lower())\n",
    "    for fileid in state_union.fileids()\n",
    "    for w in state_union.words(fileid))\n",
    "cfd.tabulate(samples=['men', 'women', 'people'])"
   ]
  },
  {
   "cell_type": "markdown",
   "metadata": {},
   "source": [
    "5\\. ☼ Investigate the holonym-meronym relations for some nouns. Remember that there are three kinds of holonym-meronym relation, so you need to use: `member_meronyms()`, `part_meronyms()`, `substance_meronyms()`, `member_holonyms()`, `part_holonyms()`, and `substance_holonyms()`."
   ]
  },
  {
   "cell_type": "code",
   "execution_count": null,
   "metadata": {
    "collapsed": true
   },
   "outputs": [],
   "source": []
  },
  {
   "cell_type": "code",
   "execution_count": 17,
   "metadata": {},
   "outputs": [
    {
     "data": {
      "text/plain": [
       "[Synset('computer.n.01'), Synset('calculator.n.01')]"
      ]
     },
     "execution_count": 17,
     "metadata": {},
     "output_type": "execute_result"
    }
   ],
   "source": [
    "from nltk.corpus import wordnet as wn\n",
    "wn.synsets('computer')"
   ]
  },
  {
   "cell_type": "code",
   "execution_count": 18,
   "metadata": {},
   "outputs": [
    {
     "data": {
      "text/plain": [
       "[]"
      ]
     },
     "execution_count": 18,
     "metadata": {},
     "output_type": "execute_result"
    }
   ],
   "source": [
    "word = wn.synset('computer.n.01')\n",
    "word.member_meronyms()"
   ]
  },
  {
   "cell_type": "code",
   "execution_count": 19,
   "metadata": {},
   "outputs": [
    {
     "data": {
      "text/plain": [
       "[Synset('busbar.n.01'),\n",
       " Synset('cathode-ray_tube.n.01'),\n",
       " Synset('central_processing_unit.n.01'),\n",
       " Synset('chip.n.07'),\n",
       " Synset('computer_accessory.n.01'),\n",
       " Synset('computer_circuit.n.01'),\n",
       " Synset('data_converter.n.01'),\n",
       " Synset('disk_cache.n.01'),\n",
       " Synset('diskette.n.01'),\n",
       " Synset('hardware.n.03'),\n",
       " Synset('keyboard.n.01'),\n",
       " Synset('memory.n.04'),\n",
       " Synset('monitor.n.04'),\n",
       " Synset('peripheral.n.01')]"
      ]
     },
     "execution_count": 19,
     "metadata": {},
     "output_type": "execute_result"
    }
   ],
   "source": [
    "word.part_meronyms()"
   ]
  },
  {
   "cell_type": "code",
   "execution_count": 20,
   "metadata": {},
   "outputs": [
    {
     "data": {
      "text/plain": [
       "[]"
      ]
     },
     "execution_count": 20,
     "metadata": {},
     "output_type": "execute_result"
    }
   ],
   "source": [
    "word.substance_meronyms()"
   ]
  },
  {
   "cell_type": "code",
   "execution_count": 21,
   "metadata": {},
   "outputs": [
    {
     "data": {
      "text/plain": [
       "[]"
      ]
     },
     "execution_count": 21,
     "metadata": {},
     "output_type": "execute_result"
    }
   ],
   "source": [
    "word.member_holonyms()"
   ]
  },
  {
   "cell_type": "code",
   "execution_count": 22,
   "metadata": {},
   "outputs": [
    {
     "data": {
      "text/plain": [
       "[Synset('platform.n.03')]"
      ]
     },
     "execution_count": 22,
     "metadata": {},
     "output_type": "execute_result"
    }
   ],
   "source": [
    "word.part_holonyms()"
   ]
  },
  {
   "cell_type": "code",
   "execution_count": 23,
   "metadata": {},
   "outputs": [
    {
     "data": {
      "text/plain": [
       "[]"
      ]
     },
     "execution_count": 23,
     "metadata": {},
     "output_type": "execute_result"
    }
   ],
   "source": [
    "word.substance_holonyms()"
   ]
  },
  {
   "cell_type": "markdown",
   "metadata": {},
   "source": [
    "6\\. ☼ In the discussion of comparative wordlists, we created an object called `translate` which you could look up using words in both German and Spanish in order to get corresponding words in English. What problem might arise with this approach? Can you suggest a way to avoid this problem?"
   ]
  },
  {
   "cell_type": "markdown",
   "metadata": {
    "collapsed": true
   },
   "source": [
    "The two languages might have words with the same spelling. Since keys in dictionaries must be unique, the translate object could not contain entries for the words in both languages: from my reading of the documentation, update() would replace the old value with the new value as each language was added. One approach to solving this problem while keeping the universal translation is to add new dictionaries by iterating over them manually, rather than by using the update() method. Basically, for each item, check whether the key already exists. If it does, cast the value as a list and append the new value, rather than overwriting the value."
   ]
  },
  {
   "cell_type": "code",
   "execution_count": 24,
   "metadata": {},
   "outputs": [
    {
     "name": "stdout",
     "output_type": "stream",
     "text": [
      "{'a': ['A', 'OK', 'Yay'], 'b': 'B', 'c': ['D', 'see'], 'f': 'eff'}\n"
     ]
    }
   ],
   "source": [
    "def combine_dicts(dict1, dict2):\n",
    "    for key in dict2.keys():\n",
    "        if key in dict1:\n",
    "            val = list(dict1[key])\n",
    "            val += [dict2[key]]\n",
    "            dict1[key] = val\n",
    "        else:\n",
    "            dict1[key] = dict2[key]\n",
    "    return dict1\n",
    "\n",
    "dict1 = {'a': 'A', 'b': 'B'}\n",
    "dict2 = {'a': 'OK', 'c': 'D'}\n",
    "dict3 = {'a': 'Yay', 'c': 'see', 'f': 'eff'}\n",
    "\n",
    "dict1 = combine_dicts(dict1, dict2)\n",
    "dict1 = combine_dicts(dict1, dict3)\n",
    "print(dict1)"
   ]
  },
  {
   "cell_type": "markdown",
   "metadata": {},
   "source": [
    "That approach, of course, loses the context of what word comes from what language, but given the weirdness of a function that will translate an arbitrary string to English without caring what language it's from, that's probably an acceptable loss in this case.\n",
    "\n",
    "This solution as written also assumes that dict2 values don't come in the form of a list. Where they do, we'll end up with inappropriately nested lists. But given the weirdness that results from casting string to list, I'm considering a more robust solution beyond the scope of this assignment. If I knew type-checking, better solutions might present themselves."
   ]
  },
  {
   "cell_type": "markdown",
   "metadata": {},
   "source": [
    "7\\. ☼ According to Strunk and White's _Elements of Style_, the word _however_, used at the start of a sentence, means \"in whatever way\" or \"to whatever extent\", and not \"nevertheless\". They give this example of correct usage: _However you advise him, he will probably do as he thinks best._ (http://www.bartleby.com/141/strunk3.html) Use the concordance tool to study actual usage of this word in the various texts we have been considering. See also the _LanguageLog_ posting \"Fossilized prejudices about 'however'\" at http://itre.cis.upenn.edu/~myl/languagelog/archives/001913.html"
   ]
  },
  {
   "cell_type": "code",
   "execution_count": 25,
   "metadata": {},
   "outputs": [
    {
     "name": "stdout",
     "output_type": "stream",
     "text": [
      "Displaying 25 of 673 matches:\n",
      " her many enjoyments . The danger , however , was at present so unperceived , t\n",
      "ion would offend . Miss Churchill , however , being of age , and with the full \n",
      "n . From the expense of the child , however , he was soon relieved . The boy ha\n",
      " -- and been very well brought up . However , I do not mean to set up my opinio\n",
      "f and predict . It was not likely , however , that any body should have equalle\n",
      "to be borne . We will not despair , however . Weston may grow cross from the wa\n",
      "is so very handsome and agreeable . However , I do really think Mr . Martin a v\n",
      " accepted after all . This letter , however , was written , and sealed , and se\n",
      "e him .\" \" And if I did , ( which , however , I am far from allowing ) I should\n",
      " slightingly . Waiving that point , however , and supposing her to be , as you \n",
      "e was not so materially cast down , however , but that a little time and the re\n",
      "ld inspire him .\" The very next day however produced some proof of inspiration \n",
      "and staid to look through herself ; however , she called me back presently , an\n",
      "t turn up . His ostensible reason , however , was to ask whether Mr . Woodhouse\n",
      "l and cross . This does not apply , however , to Miss Bates ; she is only too g\n",
      "and sufferings of the poor family , however , were the first subject on meeting\n",
      "ting for her . She gained on them , however , involuntarily : the child ' s pac\n",
      "ould close it . It was not closed , however , it still remained ajar ; but by e\n",
      " believes himself secure .\" Still , however , though every thing had not been a\n",
      "ght advance rapidly if they would , however ; they must advance somehow or othe\n",
      " offence came not . The beginning , however , of every visit displayed none but\n",
      "eed !-- and my memory is very bad . However , it was an exceeding good , pretty\n",
      "first day . Emma ' s sense of right however had decided it ; and besides the co\n",
      "le fatigued . I could have wished , however , as you know , that you had seen M\n",
      "\" Our little friend Harriet Smith , however , is just such another pretty kind \n"
     ]
    }
   ],
   "source": [
    "nltk.Text(nltk.corpus.gutenberg.words()).concordance('However')"
   ]
  },
  {
   "cell_type": "markdown",
   "metadata": {},
   "source": [
    "8\\. ◑ Define a conditional frequency distribution over the Names corpus that allows you to see which initial letters are more frequent for males vs. females (cf. [4.4](http://www.nltk.org/book/ch02.html#fig-cfd-gender))."
   ]
  },
  {
   "cell_type": "code",
   "execution_count": 197,
   "metadata": {},
   "outputs": [
    {
     "data": {
      "image/png": "[encoded data removed]",
      "text/plain": [
       "<matplotlib.figure.Figure at 0x1341c3860>"
      ]
     },
     "metadata": {},
     "output_type": "display_data"
    }
   ],
   "source": [
    "from nltk.corpus import names\n",
    "cfd = nltk.ConditionalFreqDist(\n",
    "    (fileid[:-4], name[0])\n",
    "    for fileid in names.fileids()\n",
    "    for name in names.words(fileid)\n",
    ")\n",
    "cfd.plot()"
   ]
  },
  {
   "cell_type": "markdown",
   "metadata": {},
   "source": [
    "9\\. ◑ Pick a pair of texts and study the differences between them, in terms of vocabulary, vocabulary richness, genre, etc. Can you find pairs of words which have quite different meanings across the two texts, such as _monstrous_ in _Moby Dick_ and in _Sense and Sensibility_?"
   ]
  },
  {
   "cell_type": "code",
   "execution_count": 27,
   "metadata": {},
   "outputs": [
    {
     "data": {
      "text/plain": [
       "['austen-emma.txt',\n",
       " 'austen-persuasion.txt',\n",
       " 'austen-sense.txt',\n",
       " 'bible-kjv.txt',\n",
       " 'blake-poems.txt',\n",
       " 'bryant-stories.txt',\n",
       " 'burgess-busterbrown.txt',\n",
       " 'carroll-alice.txt',\n",
       " 'chesterton-ball.txt',\n",
       " 'chesterton-brown.txt',\n",
       " 'chesterton-thursday.txt',\n",
       " 'edgeworth-parents.txt',\n",
       " 'melville-moby_dick.txt',\n",
       " 'milton-paradise.txt',\n",
       " 'shakespeare-caesar.txt',\n",
       " 'shakespeare-hamlet.txt',\n",
       " 'shakespeare-macbeth.txt',\n",
       " 'whitman-leaves.txt']"
      ]
     },
     "execution_count": 27,
     "metadata": {},
     "output_type": "execute_result"
    }
   ],
   "source": [
    "from nltk.corpus import gutenberg\n",
    "gutenberg.fileids()"
   ]
  },
  {
   "cell_type": "code",
   "execution_count": 28,
   "metadata": {},
   "outputs": [
    {
     "name": "stdout",
     "output_type": "stream",
     "text": [
      "Length: Bible - 1010654 Milton - 96825\n",
      "Vocab: Bible - 12767 Milton - 9021\n",
      "Richness: Bible - 1.2632414258490048 Milton - 9.316808675445392\n"
     ]
    }
   ],
   "source": [
    "bible = gutenberg.words('bible-kjv.txt')\n",
    "milton = gutenberg.words('milton-paradise.txt')\n",
    "\n",
    "def words_set(word_list):\n",
    "    return set(w.lower() for w in word_list)\n",
    "\n",
    "print('Length: Bible -',len(bible), 'Milton -',len(milton))\n",
    "print('Vocab: Bible -',len(words_set(bible)), 'Milton -', len(words_set(milton)))\n",
    "print('Richness: Bible -', len(words_set(bible))/len(bible)*100, 'Milton -', len(words_set(milton))/len(milton)*100)"
   ]
  },
  {
   "cell_type": "markdown",
   "metadata": {},
   "source": [
    "10\\. ◑ Read the BBC News article: _UK's Vicky Pollards_ 'left behind' http://news.bbc.co.uk/1/hi/education/6173441.stm. The article gives the following statistic about teen language: \"the top 20 words used, including yeah, no, but and like, account for around a third of all words.\" How many word types account for a third of all word tokens, for a variety of text sources? What do you conclude about this statistic? Read more about this on _LanguageLog_, at http://itre.cis.upenn.edu/~myl/languagelog/archives/003993.html."
   ]
  },
  {
   "cell_type": "code",
   "execution_count": 203,
   "metadata": {},
   "outputs": [
    {
     "name": "stdout",
     "output_type": "stream",
     "text": [
      "Milton: 31\n",
      "Bible: 15\n",
      "Chat: 23\n",
      "Humor: 21\n",
      "Romance: 19\n",
      "Hamlet: 25\n",
      "adventure 20\n",
      "belles_lettres 19\n",
      "editorial 22\n",
      "fiction 19\n",
      "government 18\n",
      "hobbies 23\n",
      "humor 21\n",
      "learned 19\n",
      "lore 21\n",
      "mystery 20\n",
      "news 24\n",
      "religion 20\n",
      "reviews 22\n",
      "romance 19\n",
      "science_fiction 23\n"
     ]
    }
   ],
   "source": [
    "from nltk.book import *\n",
    "def words_as_pct(wordlist, pct):\n",
    "    words = [w.lower() for w in wordlist if w.isalpha()]\n",
    "    ranked = FreqDist(words).most_common(None)\n",
    "    targ = len(words) * pct\n",
    "    count = 0\n",
    "    i = 0\n",
    "    out_words = []\n",
    "    while count < targ and i < len(ranked):\n",
    "        count += ranked[i][1]\n",
    "        out_words += [ranked[i][0]]\n",
    "        i += 1\n",
    "    return out_words\n",
    "    \n",
    "print('Milton:',len(words_as_pct(milton,.33)))\n",
    "print('Bible:',len(words_as_pct(bible,.33)))\n",
    "print('Chat:',len(words_as_pct(text5,.33)))\n",
    "print('Humor:',len(words_as_pct(nltk.corpus.brown.words(categories='humor'),.33)))\n",
    "print('Romance:',len(words_as_pct(nltk.corpus.brown.words(categories='romance'),.33)))\n",
    "print('Hamlet:',len(words_as_pct(nltk.corpus.gutenberg.words('shakespeare-hamlet.txt'),.33)))\n",
    "\n",
    "for cat in nltk.corpus.brown.categories():\n",
    "    print(cat,len(words_as_pct(nltk.corpus.brown.words(categories=cat),.33)))"
   ]
  },
  {
   "cell_type": "markdown",
   "metadata": {},
   "source": [
    "11\\. ◑ Investigate the table of modal distributions and look for other patterns. Try to explain them in terms of your own impressionistic understanding of the different genres. Can you find other closed classes of words that exhibit significant differences across different genres?"
   ]
  },
  {
   "cell_type": "markdown",
   "metadata": {
    "collapsed": true
   },
   "source": [
    "The \"hobbies\" section has by far the most \"can\" and \"will,\" suggesting that such texts emphasize both potential and outcomes. \"Might\" has comparatively small representation, thought that's typical. Both science fiction and humor are heavy in \"could,\" which may make sense for genres devoted to counterfactuals."
   ]
  },
  {
   "cell_type": "code",
   "execution_count": null,
   "metadata": {
    "collapsed": true
   },
   "outputs": [],
   "source": []
  },
  {
   "cell_type": "markdown",
   "metadata": {},
   "source": [
    "12\\. ◑ The CMU Pronouncing Dictionary contains multiple pronunciations for certain words. How many distinct words does it contain? What fraction of words in this dictionary have more than one possible pronunciation?"
   ]
  },
  {
   "cell_type": "code",
   "execution_count": 30,
   "metadata": {},
   "outputs": [
    {
     "name": "stdout",
     "output_type": "stream",
     "text": [
      "123455 distinct entries\n",
      "7.485318537118789 %\n"
     ]
    }
   ],
   "source": [
    "entries = set(w[0] for w in nltk.corpus.cmudict.entries())\n",
    "print(len(entries),'distinct entries')\n",
    "prondict = nltk.corpus.cmudict.dict()\n",
    "mult = [item for item in entries if len(prondict[item]) > 1]\n",
    "pct = len(mult) / len(entries)\n",
    "print(pct*100,'%')"
   ]
  },
  {
   "cell_type": "markdown",
   "metadata": {},
   "source": [
    "13\\. ◑ What percentage of noun synsets have no hyponyms? You can get all noun synsets using `wn.all_synsets('n')`."
   ]
  },
  {
   "cell_type": "code",
   "execution_count": 31,
   "metadata": {},
   "outputs": [
    {
     "name": "stdout",
     "output_type": "stream",
     "text": [
      "79.67119283931072 %\n"
     ]
    }
   ],
   "source": [
    "from nltk.corpus import wordnet as wn\n",
    "synsets = list(wn.all_synsets('n'))\n",
    "nohyp = [s for s in synsets if len(s.hyponyms()) == 0]\n",
    "pct = len(nohyp) / len(list(synsets))\n",
    "print(pct*100,'%')"
   ]
  },
  {
   "cell_type": "markdown",
   "metadata": {},
   "source": [
    "14\\. ◑ Define a function `supergloss(s)` that takes a synset `s` as its argument and returns a string consisting of the concatenation of the definition of s, and the definitions of all the hypernyms and hyponyms of `s`."
   ]
  },
  {
   "cell_type": "code",
   "execution_count": 32,
   "metadata": {},
   "outputs": [
    {
     "data": {
      "text/plain": [
       "\"a motor vehicle with four wheels; usually propelled by an internal combustion engine -- a self-propelled wheeled vehicle that does not run on rails -- a vehicle that takes people to and from hospitals -- a car that has a long body and rear door with space behind rear seat -- a car that is old and unreliable -- a car driven by a person whose job is to take passengers where they want to go in exchange for money -- a small and economical car -- a car that has top that can be folded or removed -- a car with two doors and front seats and a luggage compartment -- a car in which policemen cruise the streets; equipped with radiotelephonic communications to headquarters -- a car that is powered by electricity -- a car with relatively low fuel efficiency -- a car that resembles a convertible but has a fixed rigid top -- a car having a hatchback door -- an early term for an automobile -- a car modified to increase its speed and acceleration -- a car suitable for traveling over rough terrain -- large luxurious car; usually driven by a chauffeur -- a car that is lent as a replacement for one that is under repair -- a car that is even smaller than a subcompact car -- a small box-shaped passenger van; usually has removable seats; used as a family car -- the first widely available automobile powered by a gasoline engine; mass-produced by Henry Ford from 1908 to 1927 -- a high-performance car that leads a parade of competing cars through the pace lap and then pulls off the course -- a fast car that competes in races -- an open automobile having a front seat and a rumble seat -- a car that is closed and that has front and rear seats and two or four doors -- a high-performance four-wheel drive car built on a truck chassis -- a small low car with a high-powered engine; usually seats two persons -- a steam-powered automobile -- a car kept in dealers' stock for regular sales -- a car smaller than a compact car -- large open car seating four with folding top -- a car that has been previously owned; not a new car\""
      ]
     },
     "execution_count": 32,
     "metadata": {},
     "output_type": "execute_result"
    }
   ],
   "source": [
    "def supergloss(s):\n",
    "    str = s.definition()\n",
    "    for h in s.hypernyms() + s.hyponyms():\n",
    "        str += ' -- '\n",
    "        str += h.definition()\n",
    "    return str\n",
    "\n",
    "supergloss(wn.synset('car.n.01'))"
   ]
  },
  {
   "cell_type": "markdown",
   "metadata": {},
   "source": [
    "15\\. ◑ Write a program to find all words that occur at least three times in the Brown Corpus."
   ]
  },
  {
   "cell_type": "code",
   "execution_count": 33,
   "metadata": {},
   "outputs": [
    {
     "name": "stdout",
     "output_type": "stream",
     "text": [
      "['the', 'of', 'and', 'to', 'a', 'in', 'that', 'is', 'was', 'he', 'for', 'it', 'with', 'as', 'his', 'on', 'be', 'at', 'by', 'i', 'this', 'had', 'not', 'are', 'but', 'from', 'or', 'have', 'an', 'they', 'which', 'one', 'you', 'were', 'her', 'all', 'she', 'there', 'would', 'their', 'we', 'him', 'been', 'has', 'when', 'who', 'will', 'more', 'if', 'no', 'out', 'so', 'said', 'what', 'up', 'its', 'about', 'into', 'than', 'them', 'can', 'only', 'other', 'new', 'some', 'could', 'time', 'these', 'two', 'may', 'then', 'do', 'first', 'any', 'my', 'now', 'such', 'like', 'our', 'over', 'man', 'me', 'even', 'most', 'made', 'also', 'after', 'did', 'many', 'before', 'must', 'af', 'through', 'back', 'years', 'where', 'much', 'your', 'way', 'well', 'down', 'should', 'because', 'each', 'just', 'those', 'people', 'too', 'how', 'little', 'state', 'good', 'very', 'make', 'world', 'still', 'see', 'own', 'men', 'work', 'long', 'here', 'get', 'both', 'between', 'life', 'being', 'under', 'never', 'day', 'same', 'another', 'know', 'while', 'last', 'us', 'might', 'great', 'old', 'year', 'off', 'come', 'since', 'against', 'go', 'came', 'right', 'used', 'take', 'three', 'himself', 'states', 'few', 'house', 'use', 'during', 'without', 'again', 'place', 'american', 'around', 'however', 'home', 'small', 'found', 'thought', 'went', 'say', 'part', 'once', 'general', 'high', 'upon', 'school', 'every', 'does', 'got', 'united', 'left', 'number', 'course', 'war', 'until', 'always', 'away', 'something', 'fact', 'water', 'though', 'public', 'less', 'put', 'think', 'almost', 'hand', 'enough', 'took', 'far', 'head', 'yet', 'government', 'system', 'set', 'better', 'told', 'night', 'nothing', 'end', 'why', 'called', 'eyes', 'find', 'going', 'look', 'asked', 'later', 'knew', 'point', 'next', 'program', 'city', 'business', 'group', 'give', 'toward', 'young', 'let', 'days', 'room', 'president', 'side', 'social', 'present', 'given', 'several', 'order', 'national', 'possible', 'rather', 'second', 'face', 'per', 'among', 'form', 'often', 'important', 'things', 'looked', 'early', 'white', 'john', 'case', 'large', 'four', 'need', 'big', 'become', 'within', 'felt', 'children', 'along', 'saw', 'best', 'church', 'ever', 'least', 'power', 'development', 'seemed', 'thing', 'light', 'family', 'interest', 'want', 'members', 'mind', 'area', 'country', 'others', 'although', 'turned', 'done', 'open', 'god', 'service', 'problem', 'certain', 'kind', 'different', 'thus', 'began', 'door', 'help', 'sense', 'means', 'whole', 'matter', 'perhaps', 'itself', 'york', 'times', 'law', 'human', 'line', 'above', 'name', 'example', 'action', 'company', 'hands', 'local', 'show', 'whether', 'five', 'history', 'gave', 'today', 'either', 'act', 'feet', 'across', 'taken', 'past', 'quite', 'anything', 'seen', 'having', 'death', 'experience', 'body', 'week', 'half', 'really', 'word', 'field', 'car', 'words', 'already', 'themselves', 'information', 'tell', 'shall', 'together', 'college', 'money', 'period', 'held', 'keep', 'sure', 'probably', 'free', 'seems', 'political', 'real', 'cannot', 'behind', 'question', 'air', 'office', 'making', 'brought', 'miss', 'whose', 'special', 'major', 'heard', 'problems', 'federal', 'became', 'study', 'ago', 'moment', 'available', 'known', 'result', 'street', 'economic', 'boy', 'position', 'reason', 'change', 'south', 'board', 'individual', 'job', 'am', 'society', 'areas', 'west', 'close', 'turn', 'community', 'true', 'love', 'court', 'force', 'full', 'cost', 'seem', 'wife', 'future', 'age', 'wanted', 'voice', 'department', 'center', 'woman', 'control', 'common', 'policy', 'necessary', 'following', 'front', 'sometimes', 'six', 'girl', 'clear', 'further', 'land', 'provide', 'feel', 'party', 'able', 'mother', 'music', 'education', 'university', 'child', 'effect', 'students', 'level', 'run', 'stood', 'military', 'town', 'short', 'morning', 'total', 'outside', 'rate', 'figure', 'art', 'century', 'class', 'washington', 'north', 'usually', 'plan', 'leave', 'therefore', 'evidence', 'top', 'million', 'sound', 'black', 'strong', 'hard', 'tax', 'various', 'says', 'believe', 'type', 'value', 'play', 'surface', 'soon', 'mean', 'near', 'lines', 'table', 'peace', 'modern', 'road', 'red', 'book', 'personal', 'process', 'situation', 'minutes', 'increase', 'schools', 'idea', 'english', 'alone', 'women', 'gone', 'nor', 'living', 'america', 'started', 'longer', 'cut', 'finally', 'secretary', 'nature', 'private', 'third', 'months', 'section', 'greater', 'call', 'fire', 'expected', 'needed', 'kept', 'ground', 'view', 'values', 'everything', 'pressure', 'dark', 'basis', 'space', 'east', 'father', 'required', 'union', 'spirit', 'complete', 'except', 'wrote', 'moved', 'support', 'return', 'conditions', 'recent', 'attention', 'late', 'particular', 'live', 'hope', 'costs', 'else', 'brown', 'taking', 'forces', 'nations', 'beyond', 'stage', 'read', 'report', 'coming', 'hours', 'person', 'inside', 'dead', 'material', 'instead', 'lost', 'heart', 'looking', 'low', 'miles', 'data', 'added', 'pay', 'amount', 'followed', 'feeling', 'single', 'makes', 'research', 'including', 'basic', 'hundred', 'move', 'industry', 'cold', 'simply', 'developed', 'tried', 'hold', 'reached', 'committee', 'island', 'defense', 'equipment', 'actually', 'shown', 'son', 'central', 'religious', 'river', 'getting', 'beginning', 'sort', 'ten', 'received', 'doing', 'terms', 'trying', 'rest', 'medical', 'care', 'especially', 'friends', 'picture', 'indeed', 'administration', 'fine', 'subject', 'difficult', 'building', 'higher', 'wall', 'simple', 'meeting', 'walked', 'floor', 'foreign', 'bring', 'similar', 'passed', 'range', 'paper', 'property', 'natural', 'final', 'training', 'county', 'police', 'cent', 'international', 'growth', 'market', 'talk', 'start', 'england', 'written', 'hear', 'suddenly', 'story', 'issue', 'congress', 'needs', 'answer', 'hall', 'likely', 'working', 'countries', 'considered', 'earth', 'sat', 'purpose', 'meet', 'labor', 'results', 'entire', 'happened', 'william', 'cases', 'stand', 'difference', 'production', 'hair', 'involved', 'fall', 'stock', 'food', 'earlier', 'increased', 'whom', 'particularly', 'paid', 'sent', 'effort', 'knowledge', 'hour', 'letter', 'club', 'using', 'below', 'thinking', 'yes', 'christian', 'blue', 'ready', 'bill', 'deal', 'points', 'trade', 'certainly', 'ideas', 'industrial', 'square', 'boys', 'methods', 'addition', 'method', 'bad', 'due', 'girls', 'moral', 'decided', 'reading', 'statement', 'weeks', 'neither', 'nearly', 'directly', 'showed', 'throughout', 'according', 'questions', 'color', 'kennedy', 'anyone', 'try', 'services', 'programs', 'nation', 'lay', 'french', 'size', 'remember', 'physical', 'record', 'member', 'comes', 'understand', 'southern', 'western', 'strength', 'population', 'normal', 'merely', 'district', 'volume', 'concerned', 'appeared', 'temperature', 'aid', 'trouble', 'trial', 'summer', 'direction', 'ran', 'sales', 'list', 'continued', 'friend', 'evening', 'maybe', 'literature', 'generally', 'association', 'provided', 'led', 'army', 'met', 'influence', 'opened', 'former', 'science', 'student', 'step', 'changes', 'chance', 'husband', 'hot', 'series', 'average', 'works', 'month', 'cause', 'effective', 'george', 'planning', 'systems', 'direct', 'soviet', 'stopped', 'wrong', 'lead', 'myself', 'piece', 'theory', 'ask', 'worked', 'freedom', 'organization', 'clearly', 'movement', 'ways', 'press', 'somewhat', 'spring', 'efforts', 'consider', 'meaning', 'bed', 'fear', 'lot', 'treatment', 'beautiful', 'note', 'forms', 'placed', 'hotel', 'truth', 'apparently', 'degree', 'groups', 'plant', 'carried', 'wide', 'respect', 'herself', 'numbers', 'manner', 'reaction', 'easy', 'farm', 'immediately', 'running', 'approach', 'game', 'recently', 'larger', 'lower', 'charge', 'couple', 'de', 'daily', 'eye', 'performance', 'feed', 'oh', 'march', 'persons', 'understanding', 'arms', 'opportunity', 'c', 'blood', 'additional', 'technical', 'fiscal', 'radio', 'described', 'stop', 'progress', 'steps', 'test', 'chief', 'reported', 'served', 'based', 'main', 'determined', 'image', 'decision', 'window', 'religion', 'aj', 'gun', 'responsibility', 'middle', 'europe', 'british', 'character', 'learned', 'horse', 'writing', 'appear', 'account', 'ones', 'serious', 'activity', 'types', 'green', 'length', 'lived', 'audience', 'letters', 'returned', 'obtained', 'nuclear', 'specific', 'corner', 'forward', 'activities', 'slowly', 'doubt', 'justice', 'moving', 'latter', 'gives', 'straight', 'hit', 'plane', 'quality', 'design', 'obviously', 'operation', 'plans', 'shot', 'seven', 'choice', 'poor', 'staff', 'function', 'figures', 'parts', 'stay', 'saying', 'include', 'born', 'pattern', 'cars', 'whatever', 'sun', 'faith', 'pool', 'hospital', 'corps', 'wish', 'lack', 'completely', 'heavy', 'waiting', 'speak', 'ball', 'standard', 'extent', 'visit', 'democratic', 'firm', 'income', 'ahead', 'deep', 'language', 'principle', 'none', 'price', 'designed', 'indicated', 'analysis', 'distance', 'expect', 'established', 'products', 'effects', 'growing', 'importance', 'continue', 'serve', 'determine', 'cities', 'elements', 'negro', 'leaders', 'division', 'pretty', 'easily', 'existence', 'attitude', 'stress', 'afternoon', 'limited', 'hardly', 'agreement', 'factors', 'scene', 'remained', 'closed', 'write', 'applied', 'health', 'married', 'suggested', 'attack', 'rhode', 'interested', 'station', 'professional', 'drive', 'season', 'reach', 'b', 'despite', 'current', 'spent', 'eight', 'covered', 'role', 'played', 'becomes', 'date', 'council', 'race', 'unit', 'commission', 'original', 'mouth', 'reasons', 'studies', 'exactly', 'machine', 'built', 'teeth', 'relations', 'rise', 'demand', 'prepared', 'related', 'rates', 'news', 'supply', 'james', 'director', 'sunday', 'bit', 'raised', 'events', 'unless', 'officer', 'dropped', 'playing', 'trees', 'standing', 'doctor', 'places', 'facilities', 'walk', 'energy', 'thomas', 'talking', 'meant', 'clay', 'sides', 'gas', 'filled', 'techniques', 'june', 'knows', 'glass', 'jazz', 'poet', 'actual', 'fight', 'concern', 'caught', 'share', 'popular', 'mass', 'claim', 'entered', 'chicago', 'happy', 'bridge', 'institutions', 'style', 'follow', 'dollars', 'communist', 'status', 'included', 'thousand', 'christ', 'heat', 'radiation', 'materials', 'cattle', 'suppose', 'primary', 'accepted', 'books', 'charles', 'sitting', 'conference', 'opinion', 'usual', 'churches', 'film', 'giving', 'behavior', 'considerable', 'funds', 'construction', 'attempt', 'changed', 'proper', 'successful', 'marriage', 'sea', 'oil', 'sir', 'hell', 'wait', 'sign', 'worth', 'source', 'highly', 'park', 'discussion', 'everyone', 'practice', 'arm', 'tradition', 'shows', 'someone', 'authority', 'older', 'annual', 'project', 'americans', 'lord', 'success', 'remain', 'principal', 'leadership', 'jack', 'obvious', 'fell', 'thin', 'pieces', 'management', 'measure', 'parents', 'security', 'base', 'entirely', 'civil', 'frequently', 'records', 'structure', 'dinner', 'weight', 'condition', 'mike', 'objective', 'complex', 'produced', 'noted', 'caused', 'equal', 'balance', 'purposes', 'corporation', 'dance', 'kitchen', 'failure', 'pass', 'goes', 'names', 'quickly', 'regard', 'published', 'famous', 'develop', 'london', 'clothes', 'laws', 'announced', 'carry', 'cover', 'moreover', 'add', 'greatest', 'check', 'enemy', 'leaving', 'key', 'manager', 'active', 'break', 'king', 'bottom', 'pain', 'relationship', 'sources', 'poetry', 'assistance', 'operating', 'battle', 'companies', 'fixed', 'possibility', 'mary', 'product', 'spoke', 'units', 'touch', 'bright', 'finished', 'carefully', 'facts', 'previous', 'citizens', 'takes', 'allowed', 'require', 'workers', 'build', 'patient', 'financial', 'philosophy', 'loss', 'rose', 'died', 'scientific', 'otherwise', 'inches', 'significant', 'seeing', 'distribution', 'marked', 'post', 'rules', 'capital', 'captain', 'relatively', 'classes', 'variety', 'stated', 'shape', 'stations', 'german', 'musical', 'concept', 'reports', 'proposed', 'begin', 'impossible', 'affairs', 'named', 'circumstances', 'learn', 'remains', 'appears', 'strange', 'catholic', 'operations', 'collection', 'aware', 'sex', 'broad', 'henry', 'robert', 'governor', 'offered', 'bank', 'team', 'yesterday', 'requirements', 'capacity', 'speed', 'prevent', 'regular', 'officers', 'houses', 'mark', 'opening', 'spread', 'winter', 'ship', 'slightly', 'remembered', 'interests', 'sight', 'bar', 'produce', 'crisis', 'youth', 'presented', 'interesting', 'fresh', 'train', 'instance', 'drink', 'poems', 'agreed', 'campaign', 'event', 'subjects', 'forced', 'nine', 'essential', 'immediate', 'lives', 'file', 'provides', 'watch', 'opposite', 'apartment', 'created', 'germany', 'trip', 'neck', 'watched', 'index', 'cells', 'session', 'offer', 'fully', 'teacher', 'recognized', 'providence', 'explained', 'indicate', 'twenty', 'lady', 'russian', 'features', 'gray', 'term', 'studied', 'sam', 'economy', 'reduced', 'maximum', 'separate', 'procedure', 'atmosphere', 'desire', 'mentioned', 'reality', 'expression', 'differences', 'fair', 'enter', 'traditional', 'mission', 'favor', 'looks', 'secret', 'fast', 'picked', 'coffee', 'smaller', 'edge', 'tone', 'beside', 'literary', 'election', 'judge', 'title', 'permit', 'address', 'rights', 'vocational', 'laid', 'response', 'believed', 'model', 'solid', 'follows', 'editor', 't', 'anode', 'receive', 'quiet', 'telephone', 'hearing', 'buildings', 'formed', 'nice', 'watching', 'memory', 'presence', 'difficulty', 'region', 'knife', 'p', 'bottle', 'personnel', 'fit', 'official', 'vote', 'junior', 'treated', 'expressed', 'planned', 'round', 'dog', 'virginia', 'killed', 'camp', 'stayed', 'murder', 'removed', 'rock', 'france', 'turning', 'pointed', 'november', 'selected', 'berlin', 'claims', 'increasing', 'leader', 'positive', 'frame', 'gain', 'twice', 'failed', 'nobody', 'send', 'ability', 'fourth', 'interior', 'jewish', 'store', 'faculty', 'standards', 'rich', 'contrast', 'observed', 'nevertheless', 'brief', 'louis', 'individuals', 'rule', 'powers', 'advantage', 'discovered', 'pulled', 'writer', 'chapter', 'writers', 'brother', 'valley', 'membership', 'die', 'items', 'daughter', 'platform', 'allow', 'ordinary', 'jones', 'faces', 'accept', 'plus', 'master', 'legal', 'hill', 'fighting', 'resources', 'increases', 'assumed', 'sharp', 'everybody', 'broke', 'command', 'evil', 'wants', 'village', 'phase', 'russia', 'detail', 'morgan', 'somehow', 'fields', 'familiar', 'upper', 'wine', 'boat', 'april', 'unity', 'richard', 'responsible', 'factor', 'chosen', 'principles', 'constant', 'proved', 'carrying', 'mercer', 'column', 'forth', 'beauty', 'compared', 'approximately', 'du', 'historical', 'smiled', 'universe', 'calls', 'san', 'educational', 'independent', 'danger', 'dogs', 'waited', 'rain', 'song', 'naturally', 'rome', 'box', 'buy', 'shelter', 'drawn', 'dust', 'communism', 'exchange', 'sections', 'walls', 'foot', 'aircraft', 'independence', 'revolution', 'realize', 'texas', 'seek', 'willing', 'league', 'teachers', 'connection', 'politics', 'liberal', 'clean', 'completed', 'weather', 'fashion', 'ordered', 'levels', 'sweet', 'settled', 'realized', 'ancient', 'china', 'lips', 'won', 'policies', 'actions', 'monday', 'directed', 'leading', 'frank', 'statements', 'projects', 'starting', 'initial', 'application', 'traffic', 'stands', 'signs', 'families', 'quick', 'khrushchev', 'largely', 'flow', 'drew', 'animal', 'beat', 'horses', 'characteristic', 'excellent', 'practical', 'electric', 'electronic', 'pictures', 'ought', 'protection', 'article', 'appropriate', 'fifty', 'minimum', 'dry', 'emotional', 'jury', 'career', 'chairman', 'aside', 'asking', 'estimated', 'paris', 'teaching', 'reference', 'saturday', 'flat', 'ends', 'background', 'sit', 'dress', 'occurred', 'warm', 'potential', 'impact', 'yourself', 'legs', 'wonder', 'communication', 'answered', 'thick', 'birth', 'declared', 'honor', 'july', 'significance', 'score', 'helped', 'gross', 'issues', 'forest', 'search', 'block', 'cutting', 'substantial', 'gets', 'relief', 'plays', 'arts', 'besides', 'employees', 'page', 'intellectual', 'properties', 'experiments', 'closely', 'chair', 'capable', 'adequate', 'measured', 'ourselves', 'fingers', 'hanover', 'attorney', 'passing', 'discussed', 'achievement', 'headquarters', 'rapidly', 'object', 'escape', 'jobs', 'join', 'phil', 'california', 'supposed', 'typical', 'wore', 'cell', 'newspaper', 'desk', 'imagination', 'hung', 'holding', 'objects', 'sleep', 'dominant', 'reasonable', 'matters', 'resolution', 'site', 'credit', 'aspects', 'message', 'maintenance', 'laos', 'explain', 'located', 'towards', 'belief', 'yards', 'bodies', 'contemporary', 'primarily', 'grew', 'spiritual', 'dream', 'empty', 'wind', 'tom', 'kill', 'benefit', 'signal', 'tomorrow', 'sufficient', 'dramatic', 'fellow', 'happen', 'jesus', 'contact', 'unusual', 'argument', 'powerful', 'narrow', 'parker', 'shop', 'rifle', 'highest', 'broken', 'appeal', 'competition', 'domestic', 'grow', 'experiment', 'assume', 'relation', 'location', 'reduce', 'homes', 'portion', 'officials', 'senate', 'fund', 'billion', 'rising', 'speaking', 'internal', 'struggle', 'agencies', 'december', 'equally', 'sets', 'please', 'drove', 'arrived', 'save', 'achieved', 'assignment', 'baby', 'guests', 'greatly', 'recognize', 'wilson', 'library', 'careful', 'pleasure', 'cool', 'extreme', 'concerning', 'governments', 'procedures', 'prices', 'duty', 'courses', 'friendly', 'coast', 'acting', 'closer', 'speech', 'european', 'showing', 'boston', 'victory', 'beach', 'minister', 'commercial', 'metal', 'possibly', 'tests', 'soft', 'kid', 'vast', 'continuing', 'associated', 'shoulder', 'weapons', 'shore', 'greek', 'travel', 'imagine', 'feelings', 'organizations', 'ideal', 'eat', 'friday', 'keeping', 'heavily', 'armed', 'ended', 'learning', 'text', 'existing', 'scale', 'setting', 'goal', 'task', 'contract', 'garden', 'nose', 'refused', 'streets', 'orchestra', 'contained', 'machinery', 'chemical', 'onto', 'circle', 'slow', 'maintain', 'fat', 'somewhere', 'technique', 'stared', 'moon', 'notice', 'drop', 'budget', 'providing', 'formula', 'housing', 'tension', 'advance', 'repeated', 'parties', 'uses', 'judgment', 'taste', 'novel', 'headed', 'sensitive', 'conclusion', 'roof', 'solution', 'bible', 'lie', 'ultimate', 'songs', 'struck', 'negroes', 'snow', 'tree', 'plants', 'finds', 'stories', 'mine', 'painting', 'exist', 'thirty', 'sexual', 'tuesday', 'roads', 'commerce', 'dallas', 'establish', 'previously', 'causes', 'talked', 'railroad', 'critical', 'remove', 'emphasis', 'grounds', 'neighborhood', 'surprised', 'minor', 'india', 'understood', 'perfect', 'avoid', 'somebody', 'hole', 'hence', 'leg', 'busy', 'occasion', 'smile', 'stone', 'roman', 'unique', 'animals', 'sky', 'safe', 'orders', 'fairly', 'liked', 'useful', 'exercise', 'lose', 'culture', 'pale', 'wondered', 'charged', 'details', 'informed', 'permitted', 'professor', 'replied', 'completion', 'processes', 'apart', 'apparent', 'bay', 'truck', 'majority', 'afraid', 'artist', 'goods', 'birds', 'appearance', 'baseball', 'spot', 'flowers', 'lewis', 'notes', 'enjoyed', 'entrance', 'uncle', 'alive', 'beneath', 'combination', 'truly', 'congo', 'becoming', 'requires', 'sample', 'bear', 'dictionary', 'shook', 'granted', 'confidence', 'agency', 'joined', 'apply', 'vital', 'september', 'review', 'wage', 'motor', 'fifteen', 'regarded', 'soldiers', 'draw', 'wheel', 'organized', 'vision', 'wild', 'double', 'palmer', 'intensity', 'bought', 'represented', 'entitled', 'hat', 'pure', 'academic', 'chinese', 'minds', 'guess', 'loved', 'spite', 'evident', 'executive', 'conducted', 'item', 'sought', 'firms', 'joe', 'fort', 'martin', 'minute', 'demands', 'extended', 'huge', 'joseph', 'cross', 'win', 'pick', 'worry', 'britain', 'begins', 'divided', 'theme', 'rooms', 'device', 'conduct', 'runs', 'improved', 'games', 'cultural', 'plenty', 'artists', 'components', 'generation', 'motion', 'properly', 'identity', 'wood', 'tall', 'yellow', 'marine', 'inner', 'wished', 'sounds', 'wagon', 'publication', 'rural', 'phone', 'attend', 'decisions', 'unable', 'faced', 'republican', 'positions', 'risk', 'supported', 'symbol', 'machines', 'description', 'seat', 'smith', 'walking', 'lake', 'trained', 'suggest', 'create', 'soil', 'interpretation', 'putting', 'forget', 'dear', 'jews', 'thoughts', 'preparation', 'measurements', 'practices', 'experienced', 'welfare', 'crowd', 'largest', 'hudson', 'pushed', 'payment', 'handle', 'absence', 'prove', 'bitter', 'negative', 'vehicles', 'spend', 'january', 'remarks', 'assigned', 'administrative', 'percent', 'driving', 'grass', 'loose', 'wonderful', 'advanced', 'august', 'troops', 'band', 'chest', 'finding', 'slight', 'japanese', 'windows', 'version', 'breakfast', 'sin', 'examples', 'experiences', 'depth', 'disease', 'wet', 'breath', 'practically', 'content', 'establishment', 'introduced', 'la', 'conflict', 'element', 'detailed', 'eventually', 'theater', 'correct', 'widely', 'hero', 'trust', 'raise', 'developing', 'advice', 'centers', 'gold', 'dozen', 'telling', 'alfred', 'bedroom', 'detective', 'colors', 'indian', 'silence', 'contrary', 'characteristics', 'flesh', 'investigation', 'achieve', 'approval', 'estate', 'elections', 'supreme', 'listen', 'conventional', 'gradually', 'david', 'views', 'foods', 'pull', 'october', 'arthur', 'stream', 'warren', 'los', 'surprise', 'stages', 'player', 'guy', 'agree', 'uniform', 'abroad', 'devoted', 'papers', 'rear', 'cousin', 'situations', 'boats', 'ages', 'begun', 'easier', 'shoulders', 'sick', 'nodded', 'opportunities', 'necessarily', 'angle', 'throat', 'protestant', 'waves', 'laughed', 'efficiency', 'automobile', 'mention', 'courts', 'issued', 'expense', 'extremely', 'fill', 'massachusetts', 'institute', 'television', 'choose', 'assembly', 'chain', 'latin', 'eisenhower', 'd', 'knowing', 'proud', 'wooden', 'worse', 'advertising', 'extra', 'philadelphia', 'pair', 'brilliant', 'conversation', 'taught', 'welcome', 'hills', 'conviction', 'female', 'strike', 'engine', 'moments', 'fundamental', 'tiny', 'desired', 'convinced', 'noticed', 'towns', 'motors', 'childhood', 'employed', 'speaker', 'constitution', 'passage', 'millions', 'request', 'firmly', 'count', 'hopes', 'tendency', 'acceptance', 'driver', 'depends', 'ride', 'impressive', 'sports', 'milk', 'quietly', 'holy', 'tragedy', 'burning', 'incident', 'operator', 'payments', 'creative', 'silent', 'measures', 'consideration', 'till', 'leaves', 'partly', 'grand', 'suit', 'destroy', 'hoped', 'royal', 'limit', 'operate', 'twelve', 'guard', 'integration', 'tired', 'screen', 'mantle', 'charlie', 'shooting', 'cry', 'via', 'pink', 'mile', 'missile', 'functions', 'formal', 'occasionally', 'rolled', 'comparison', 'resistance', 'personality', 'concrete', 'precisely', 'plain', 'swung', 'sorry', 'maintained', 'drinking', 'intelligence', 'anger', 'poem', 'attitudes', 'liquid', 'hearst', 'considering', 'bonds', 'denied', 'bills', 'employment', 'cook', 'grant', 'fears', 'cuba', 'sold', 'thousands', 'manufacturers', 'engaged', 'provision', 'purchase', 'safety', 'honest', 'representative', 'deny', 'northern', 'moscow', 'expenses', 'expansion', 'testimony', 'angeles', 'prior', 'blind', 'luck', 'lights', 'remarkable', 'surely', 'humor', 'opera', 'italian', 'singing', 'mail', 'everywhere', 'vacation', 'models', 'boards', 'supplies', 'stairs', 'ring', 'concentration', 'congregation', 'unknown', 'movements', 'wearing', 'aspect', 'numerous', 'instrument', 'mere', 'essentially', 'soul', 'periods', 'patterns', 'lincoln', 'skin', 'superior', 'relative', 'recommended', 'legislation', 'georgia', 'bond', 'violence', 'insurance', 'opposition', 'creation', 'loan', 'dollar', 'difficulties', 'atomic', 'encourage', 'losses', 'trend', 'weakness', 'wave', 'identified', 'native', 'avenue', 'decade', 'curious', 'anyway', 'engineering', 'threw', 'flight', 'dangerous', 'award', 'wright', 'panels', 'seriously', 'liberty', 'shares', 'percentage', 'conscious', 'salt', 'author', 'chamber', 'centuries', 'equivalent', 'electrical', 'fought', 'pocket', 'fiction', 'doctrine', 'precision', 'artery', 'shut', 'q', 'offices', 'promised', 'promise', 'residential', 'adopted', 'taxes', 'load', 'depend', 'sum', 'africa', 'sheet', 'impression', 'feels', 'referred', 'edward', 'calling', 'pennsylvania', 'valuable', 'alexander', 'steel', 'charges', 'containing', 'target', 'includes', 'nearby', 'interference', 'mounted', 'cup', 'intended', 'brain', 'qualities', 'offers', 'february', 'riding', 'lucy', 'contain', 'expenditures', 'meat', 'watson', 'elsewhere', 'prime', 'ballet', 'cast', 'approached', 'angry', 'universal', 'terrible', 'medium', 'diameter', 'discovery', 'ice', 'curve', 'mold', 'burden', 'listed', 'warning', 'considerably', 'mostly', 'amounts', 'admitted', 'errors', 'wisdom', 'opinions', 'asia', 'continuous', 'seeking', 'origin', 'acres', 'changing', 'confusion', 'hundreds', 'developments', 'enjoy', 'fired', 'younger', 'helping', 'pounds', 'accomplished', 'lies', 'suffering', 'lovely', 'snake', 'fun', 'sale', 'driven', 'spirits', 'agent', 'collected', 'extensive', 'path', 'climbed', 'pilot', 'shoes', 'mobile', 'tables', 'expensive', 'adam', 'arranged', 'volumes', 'answers', 'confused', 'contribute', 'recognition', 'brush', 'manchester', 'odd', 'hans', 'slaves', 'washing', 'oxygen', 'thickness', 'mama', 'believes', 'mental', 'liquor', 'republic', 'lawyer', 'insisted', 'technology', 'bureau', 'route', 'explanation', 'core', 'dealing', 'rapid', 'salary', 'saved', 'transportation', 'reader', 'external', 'pace', 'recorded', 'iron', 'flying', 'dirt', 'switch', 'concerns', 'separated', 'tour', 'dancing', 'comfort', 'consists', 'warfare', 'ships', 'investment', 'coat', 'raw', 'occur', 'reaching', 'grown', 'marketing', 'resulting', 'tend', 'drama', 'heads', 'identification', 'lifted', 'catch', 'mountains', 'recreation', 'heaven', 'readily', 'porch', 'cloth', 'darkness', 'whenever', 'emotions', 'environment', 'appointed', 'prison', 'obtain', 'urban', 'smooth', 'holds', 'excess', 'waters', 'reply', 'unlike', 'reduction', 'comment', 'replaced', 'nineteenth', 'ease', 'throw', 'suffered', 'threat', 'demanded', 'lots', 'crossed', 'wire', 'muscle', 'anybody', 'golden', 'hardy', 'anne', 'wages', 'hate', 'increasingly', 'bag', 'bound', 'express', 'regional', 'pride', 'engineer', 'adams', 'sufficiently', 'distinguished', 'reflected', 'reactions', 'varying', 'varied', 'weapon', 'journal', 'touched', 'guns', 'exists', 'editorial', 'seeds', 'possibilities', 'civilization', 'distinct', 'particles', 'skill', 'rachel', 'cooling', 'anxiety', 'linda', 'opposed', 'proposal', 'storage', 'representatives', 'teach', 'societies', 'constantly', 'removal', 'communities', 'vice', 'sell', 'visited', 'writes', 'rough', 'steady', 'spending', 'distinction', 'francisco', 'carl', 'arc', 'comparable', 'rare', 'continues', 'favorite', 'sake', 'display', 'brothers', 'queen', 'downtown', 'restaurant', 'pleased', 'institution', 'assumption', 'seed', 'bread', 'match', 'musicians', 'remaining', 'pike', 'shift', 'participation', 'virtually', 'limits', 'psychological', 'funny', 'fed', 'smoke', 'involves', 'rarely', 'whereas', 'describe', 'tissue', 'henrietta', 'kate', 'combined', 'exception', 'regarding', 'highway', 'approved', 'personally', 'customers', 'composed', 'senator', 'legislative', 'dependent', 'afford', 'atlantic', 'dean', 'neighbors', 'happens', 'walter', 'democrats', 'languages', 'goals', 'orleans', 'decide', 'notion', 'laboratory', 'illinois', 'proof', 'existed', 'bob', 'grace', 'missed', 'prominent', 'thoroughly', 'shared', 'talent', 'studying', 'handsome', 'automatic', 'burned', 'permanent', 'observations', 'drawing', 'winston', 'desegregation', 'guidance', 'improvement', 'treasury', 'presumably', 'bars', 'brings', 'papa', 'indicates', 'discover', 'painted', 'intense', 'tool', 'necessity', 'eleven', 'shouted', 'focus', 'stepped', 'finger', 'conscience', 'criticism', 'thrown', 'glance', 'regions', 'stranger', 'joy', 'pope', 'e', 'atoms', 'visual', 'parallel', 'shear', 'rode', 'legislature', 'authorities', 'estimate', 'lawrence', 'acts', 'improve', 'rayburn', 'cooperation', 'communists', 'neutral', 'determination', 'deeply', 'assured', 'attractive', 'transfer', 'represents', 'colleges', 'joint', 'mississippi', 'severe', 'introduction', 'emergency', 'striking', 'trials', 'self', 'gained', 'contributed', 'mad', 'magazine', 'forever', 'mystery', 'tv', 'selection', 'code', 'anywhere', 'furniture', 'agents', 'derived', 'revealed', 'provisions', 'guest', 'allotment', 'satisfactory', 'controlled', 'finish', 'maturity', 'concert', 'comedy', 'stick', 'sleeping', 'listening', 'soldier', 'holes', 'recall', 'mankind', 'destroyed', 'hydrogen', 'furthermore', 'objectives', 'inch', 'defined', 'handling', 'mayor', 'candidates', 'specifically', 'scheduled', 'accounts', 'districts', 'serving', 'leaned', 'experimental', 'tonight', 'track', 'r', 'simultaneously', 'handed', 'copy', 'glad', 'thompson', 'paul', 'newspapers', 'sharply', 'experts', 'reception', 'temple', 'fifth', 'robinson', 'ohio', 'cotton', 'attempts', 'sudden', 'bringing', 'sister', 'foundation', 'ears', 'japan', 'palace', 'arrangements', 'corresponding', 'consumer', 'definition', 'processing', 'turns', 'random', 'piano', 'relationships', 'knees', 'briefly', 'pressures', 'represent', 'agricultural', 'instant', 'pleasant', 'inevitably', 'regardless', 'voices', 'thyroid', 'destruction', 'sacred', 'clouds', 'forgotten', 'contains', 'primitive', 'organic', 'axis', 'onset', 'n', 'thanks', 'banks', 'roberts', 'effectively', 'skills', 'strongly', 'mood', 'tremendous', 'deeper', 'assure', 'authorized', 'fail', 'definite', 'navy', 'reserve', 'edges', 'feature', 'stronger', 'signed', 'delivered', 'resulted', 'roy', 'outstanding', 'formation', 'illustrated', 'contribution', 'push', 'supper', 'gate', 'magic', 'swimming', 'susan', 'chose', 'harbor', 'innocent', 'atom', 'release', 'spoken', 'plot', 'survey', 'profession', 'male', 'cleaning', 'accompanied', 'belong', 'colonel', 'serves', 'chicken', 'fool', 'edition', 'noise', 'drunk', 'hurt', 'illusion', 'occasional', 'comfortable', 'enormous', 'admit', 'holmes', 'stomach', 'readers', 'distant', 'aim', 'paint', 'foam', 'constructed', 'blocks', 'devices', 'tested', 'mixed', 'species', 'images', 'questionnaire', 'staining', 'attended', 'assistant', 'jackson', 'automatically', 'license', 'printed', 'wise', 'football', 'extension', 'visiting', 'scholarship', 'moves', 'affected', 'intention', 'challenge', 'sees', 'jim', 'filling', 'guide', 'normally', 'cash', 'industries', 'schedule', 'bomb', 'multiple', 'lying', 'satisfied', 'doors', 'peoples', 'error', 'tough', 'maris', 'cards', 'thank', 'peter', 'baker', 'fellowship', 'paintings', 'supplied', 'camera', 'sympathy', 'f', 'crew', 'equipped', 'managed', 'kinds', 'occupied', 'outlook', 'classic', 'characters', 'substantially', 'worship', 'visitors', 'desirable', 'conclusions', 'patients', 'hurry', 'spanish', 'shadow', 'stored', 'beings', 'columns', 'scientists', 'dressed', 'similarly', 'host', 'accuracy', 'variable', 'smiling', 'symbols', 'forty', 'ratio', 'coating', 'dirty', 'binomial', 'atlanta', 'urged', 'counties', 'wednesday', 'meanwhile', 'harry', 'revenue', 'sounded', 'clark', 'bench', 'latest', 'nationalism', 'crime', 'vehicle', 'stores', 'retired', 'lumber', 'preserve', 'sympathetic', 'returning', 'virgin', 'owners', 'row', 'meets', 'performed', 'knee', 'yard', 'claimed', 'pat', 'jumped', 'beer', 'jane', 'wear', 'bombs', 'stanley', 'affect', 'grade', 'tape', 'eggs', 'fruit', 'sciences', 'installed', 'yield', 'presently', 'probability', 'routine', 'output', 'adjustment', 'dignity', 'height', 'calm', 'sad', 'isolated', 'washed', 'consequences', 'accurate', 'producing', 'prepare', 'instructions', 'phenomenon', 'tongue', 'waste', 'pont', 'symbolic', 'disappeared', 'calculated', 'fish', 'context', 'myth', 'worried', 'patent', 'sequence', 'matsuo', 'protect', 'candidate', 'alternative', 'shortly', 'smell', 'dispute', 'sending', 'senior', 'receiving', 'tied', 'presidential', 'genuine', 'facing', 'canada', 'raising', 'harvard', 'exposed', 'clerk', 'suggestion', 'blame', 'financing', 'bigger', 'reporters', 'johnson', 'badly', 'currently', 'samuel', 'sentence', 'lee', 'realistic', 'net', 'golf', 'arrangement', 'logical', 'owned', 'metropolitan', 'thereby', 'worst', 'bus', 'folk', 'sing', 'roles', 'tells', 'crazy', 'sugar', 'duties', 'decades', 'vary', 'roll', 'visible', 'emotion', 'seldom', 'swept', 'suitable', 'hunting', 'italy', 'lists', 'corn', 'mechanical', 'quarter', 'mistake', 'returns', 'frequent', 'ocean', 'phrase', 'fallen', 'tears', 'dying', 'openly', 'bent', 'tools', 'tends', 'reasonably', 'findings', 'divine', 'stretched', 'abstract', 'keys', 'measurement', 'pencil', 'elected', 'filed', 'succeeded', 'rejected', 'thursday', 'missing', 'gift', 'favorable', 'guilt', 'involving', 'benefits', 'matching', 'fate', 'affair', 'fewer', 'naval', 'prince', 'stems', 'examine', 'advised', 'charter', 'presentation', 'campus', 'interview', 'owner', 'classical', 'branches', 'admission', 'harmony', 'determining', 'accident', 'strictly', 'blow', 'andy', 'unfortunately', 'damage', 'rice', 'performances', 'drill', 'leads', 'fly', 'branch', 'lunch', 'bride', 'artistic', 'nights', 'presents', 'jacket', 'attempted', 'parked', 'survive', 'funeral', 'alert', 'massive', 'violent', 'engineers', 'burst', 'farmers', 'adjusted', 'symphony', 'substance', 'wash', 'precise', 'inevitable', 'grave', 'demonstrated', 'equation', 'scheme', 'catholics', 'namely', 'swift', 'connected', 'suffer', 'tragic', 'falling', 'rector', 'poland', 'quantity', 'bone', 'prokofieff', 'healthy', 'mountain', 'slavery', 'chlorine', 'thermal', 'pathology', 'jess', 'inadequate', 'lacking', 'elaborate', 'williams', 'howard', 'debate', 'shouting', 'discussions', 'spots', 'castro', 'gesture', 'concluded', 'falls', 'factory', 'awareness', 'partner', 'loans', 'universities', 'remarked', 'transition', 'effectiveness', 'depending', 'covering', 'harold', 'temporary', 'mills', 'kids', 'mud', 'indians', 'van', 'romantic', 'wedding', 'eastern', 'salvation', 'covers', 'excitement', 'household', 'promote', 'collective', 'efficient', 'missiles', 'survival', 'fishing', 'museum', 'variation', 'chandler', 'stuff', 'poets', 'gathered', 'remote', 'confronted', 'testing', 'initiative', 'eating', 'coal', 'cooking', 'slipped', 'weak', 'courage', 'reflection', 'circles', 'conception', 'gardens', 'crowded', 'naked', 'farther', 'plastic', 'electronics', 'gorton', 'skywave', 'emission', 'scotty', 'damn', 'curt', 'protected', 'starts', 'tossed', 'conservative', 'reducing', 'ruled', 'finance', 'allowing', 'mainly', 'territory', 'extraordinary', 'enterprise', 'remark', 'panel', 'consequently', 'defeat', 'involve', 'kansas', 'knocked', 'identical', 'mature', 'winning', 'checked', 'bird', 'seventh', 'dave', 'barely', 'helps', 'movies', 'dancer', 'heading', 'pacific', 'secondary', 'strain', 'fourteen', 'ending', 'letting', 'successfully', 'dancers', 'fallout', 'studio', 'juniors', 'maid', 'decline', 'recording', 'parking', 'structures', 'selling', 'colored', 'competitive', 'lightly', 'trail', 'tube', 'beef', 'christianity', 'poetic', 'films', 'gallery', 'russians', 'troubled', 'muscles', 'extend', 'outer', 'markets', 'density', 'respectively', 'softly', 'shock', 'horn', 'invariably', 'ceiling', 'articles', 'considerations', 'perfectly', 'counter', 'pages', 'composer', 'frequencies', 'accordingly', 'locking', 'gently', 'basement', 'evaluation', 'plastics', 'saline', 'widespread', 'voting', 'felix', 'representing', 'sponsored', 'worker', 'medicine', 'absolute', 'doctors', 'allies', 'directions', 'reform', 'instances', 'expert', 'sheets', 'replace', 'gay', 'islands', 'split', 'suspect', 'graduate', 'fence', 'suspended', 'franklin', 'louisiana', 'lane', 'sacrifice', 'et', 'network', 'johnny', 'eddie', 'dates', 'cuts', 'reveal', 'nowhere', 'comments', 'locked', 'ranging', 'controls', 'strip', 'alex', 'dealers', 'excessive', 'buying', 'associations', 'era', 'virtue', 'dreams', 'secure', 'sharpe', 'impressed', 'historian', 'listened', 'crucial', 'propaganda', 'deliberately', 'measuring', 'hoping', 'surprising', 'complicated', 'occurrence', 'preceding', 'skilled', 'radical', 'citizen', 'slave', 'altogether', 'purely', 'frontier', 'dimensions', 'root', 'blanket', 'encountered', 'consequence', 'consciousness', 'flux', 'shakespeare', 'cried', 'mixture', 'asleep', 'concentrated', 'meal', 'stable', 'stem', 'carbon', 'grinned', 'unconscious', 'dartmouth', 'sovereign', 'miriam', 'woodruff', 'fees', 'divorce', 'republicans', 'sherman', 'argued', 'tea', 'extending', 'utility', 'lieutenant', 'proposals', 'questioned', 'modest', 'contributions', 'mighty', 'ignored', 'morse', 'allied', 'perform', 'transferred', 'false', 'guilty', 'merit', 'brooklyn', 'ethical', 'recovery', 'sons', 'builder', 'threatened', 'testament', 'volunteers', 'players', 'ann', 'mickey', 'silver', 'belt', 'shots', 'trips', 'exciting', 'entertainment', 'movie', 'albert', 'tasks', 'unions', 'encouraged', 'suburban', 'signals', 'barn', 'sewage', 'jet', 'drying', 'lesson', 'furnish', 'creating', 'morality', 'fabrics', 'stars', 'residence', 'delight', 'theatre', 'subsequent', 'jurisdiction', 'poured', 'vigorous', 'argue', 'applying', 'prestige', 'bare', 'sang', 'helpful', 'precious', 'constitute', 'magnitude', 'solutions', 'lighted', 'suggests', 'shapes', 'anxious', 'glasses', 'cow', 'apparatus', 'scenes', 'petitioner', 'eternal', 'shorts', 'proportion', 'regulations', 'reminded', 'ecumenical', 'samples', 'commonly', 'ear', 'electron', 'pressed', 'perception', 'examination', 'carleton', 'bronchial', 'brannon', 'appointment', 'responses', 'enthusiasm', 'newly', 'harris', 'calendar', 'absent', 'innocence', 'meetings', 'diplomatic', 'southeast', 'specified', 'profit', 'municipal', 'demonstrate', 'gathering', 'exclusive', 'irish', 'encounter', 'expanding', 'losing', 'formerly', 'compare', 'examined', 'roosevelt', 'yankees', 'arise', 'prize', 'wound', 'hal', 'talents', 'african', 'santa', 'dining', 'journey', 'ladies', 'freight', 'maintaining', 'designs', 'marks', 'promptly', 'witness', 'fled', 'cloud', 'upstairs', 'dawn', 'commander', 'communications', 'quarters', 'rendered', 'convention', 'mechanism', 'surfaces', 'satisfaction', 'offering', 'pound', 'tons', 'closing', 'colony', 'warmth', 'shade', 'discuss', 'peculiar', 'paused', 'folklore', 'tight', 'sand', 'happening', 'textile', 'mines', 'libraries', 'limitations', 'advantages', 'excuse', 'sovereignty', 'humanity', 'prayer', 'hanging', 'cure', 'consistent', 'clarity', 'verse', 'gentleman', 'committed', 'passion', 'pot', 'laugh', 'sensitivity', 'worthy', 'dried', 'hated', 'bullet', 'stained', 'drugs', 'laughing', 'powder', 'sergeant', 'optimal', 'polynomial', 'ramey', 'operated', 'weekend', 'voted', 'veteran', 'davis', 'pistol', 'permits', 'hughes', 'requirement', 'acquire', 'marshall', 'prefer', 'prevention', 'aids', 'absolutely', 'placing', 'scattered', 'profound', 'wherever', 'insist', 'shopping', 'exact', 'surplus', 'publicly', 'combat', 'reorganization', 'builders', 'victim', 'ours', 'surrounding', 'flew', 'injury', 'magnificent', 'passes', 'dan', 'permission', 'eager', 'rushed', 'christmas', 'publicity', 'festival', 'suite', 'reputation', 'delaware', 'greenwich', 'clayton', 'suspicion', 'fred', 'approaching', 'literally', 'distributed', 'jefferson', 'newport', 'enemies', 'restrictions', 'wings', 'reserved', 'upward', 'dull', 'grain', 'ranch', 'butter', 'mirror', 'marriages', 'refer', 'utterly', 'cap', 'consisting', 'horizon', 'define', 'delicate', 'scope', 'seconds', 'scholars', 'friendship', 'customer', 'germans', 'concepts', 'judgments', 'outdoor', 'occurs', 'imagined', 'discipline', 'supporting', 'shoot', 'conceived', 'observation', 'roots', 'gentle', 'prevented', 'theological', 'minimal', 'frozen', 'holder', 'oral', 'clinical', 'shirt', 'slept', 'julia', 'fiber', 'pursuant', 'v', 'pulmonary', 'myra', 'shayne', 'cady', 'eliminate', 'settlement', 'sessions', 'controversy', 'intelligent', 'paying', 'retirement', 'mutual', 'climate', 'critics', 'outcome', 'ill', 'establishing', 'assist', 'released', 'liberals', 'handled', 'sixth', 'mitchell', 'unhappy', 'desperate', 'pointing', 'premier', 'kingdom', 'promotion', 'revenues', 'widow', 'bridges', 'threatening', 'disaster', 'frames', 'contest', 'stretch', 'billy', 'bears', 'quoted', 'entry', 'inherent', 'recalled', 'overcome', 'concerts', 'storm', 'cellar', 'bath', 'temperatures', 'eileen', 'mount', 'register', 'submarine', 'gear', 'electricity', 'meals', 'treat', 'planes', 'stockholders', 'landing', 'card', 'instruction', 'justify', 'o', 'invited', 'exceptions', 'sophisticated', 'charm', 'appreciate', 'lively', 'hang', 'instruments', 'delightful', 'acquired', 'preferred', 'marginal', 'southerners', 'cents', 'legend', 'wars', 'coolidge', 'peaceful', 'repeat', 'trembling', 'emerged', 'disturbed', 'feeding', 'perspective', 'philosophical', 'marshal', 'mysterious', 'arlene', 'sarah', 'frightened', 'switches', 'identify', 'phenomena', 'beard', 'zen', 'jew', 'aesthetic', 'velocity', 'staring', 'traders', 'cavalry', 'palfrey', 'variables', 'patchen', 'snakes', 'tangent', 'johnnie', 'urethane', 'gyro', 'ekstrohm', 'helva', 'greg', 'departments', 'allowances', 'constitutional', 'abandoned', 'recommend', 'corporations', 'houston', 'owen', 'racial', 'viewed', 'composition', 'ward', 'nato', 'nixon', 'intervals', 'bearing', 'cocktail', 'jersey', 'succession', 'attracted', 'accused', 'parade', 'probable', 'dilemma', 'prospect', 'eugene', 'torn', 'critic', 'mothers', 'noon', 'al', 'inspired', 'stadium', 'delayed', 'nick', 'productive', 'star', 'pack', 'aboard', 'conductor', 'reaches', 'harm', 'wally', 'pittsburgh', 'amateur', 'breaking', 'terror', 'cancer', 'shelters', 'pressing', 'exhibit', 'suits', 'partially', 'blanche', 'patrol', 'trustees', 'generous', 'applications', 'evidently', 'attacked', 'northwest', 'magnetic', 'tim', 'adult', 'demonstration', 'hired', 'attached', 'faint', 'trading', 'roughly', 'dealer', 'coverage', 'vivid', 'woods', 'pile', 'flexible', 'pulling', 'grateful', 'correspondence', 'carolina', 'conferences', 'rational', 'painful', 'proceeded', 'impressions', 'fortune', 'glanced', 'ritual', 'wildly', 'vague', 'responsibilities', 'pupils', 'chin', 'approaches', 'vein', 'operational', 'honey', 'lonely', 'fist', 'component', 'magazines', 'continually', 'observe', 'destructive', 'lands', 'exposure', 'fog', 'devil', 'cigarette', 'continuity', 'yours', 'disk', 'subtle', 'reflect', 'transformed', 'pond', 'structural', 'contacts', 'saddle', 'detergent', 'exploration', 'penny', 'regiment', 'sba', 'yeah', 'alec', 'barton', 'tilghman', 'occupation', 'enthusiastic', 'entering', 'contracts', 'insure', 'subjected', 'absorbed', 'recommendation', 'criminal', 'ruling', 'qualified', 'backed', 'rank', 'realization', 'neighboring', 'advisory', 'undoubtedly', 'cited', 'draft', 'clubs', 'managers', 'announcement', 'democracy', 'tractor', 'explicit', 'honored', 'estimates', 'biggest', 'puerto', 'preliminary', 'portland', 'workshop', 'accomplish', 'relieved', 'coach', 'promising', 'swing', 'academy', 'moore', 'chances', 'ford', 'masters', 'bend', 'broadway', 'arrive', 'mason', 'jump', 'civilian', 'motel', 'seated', 'prospects', 'manufacturing', 'heating', 'firing', 'seized', 'slid', 'tribute', 'expressing', 'seventeen', 'tail', 'factories', 'depression', 'phases', 'consisted', 'weekly', 'charming', 'assembled', 'functional', 'mexican', 'exclusively', 'leather', 'nearest', 'tended', 'employee', 'aimed', 'specimen', 'forgive', 'barrel', 'declaration', 'angels', 'drivers', 'scarcely', 'access', 'cheap', 'wholly', 'realism', 'utopia', 'meaningful', 'bore', 'nervous', 'interpreted', 'lock', 'desires', 'wishes', 'brave', 'automobiles', 'accurately', 'actor', 'narrative', 'cycle', 'stupid', 'categories', 'astronomy', 'mathematical', 'peas', 'rigid', 'drug', 'zero', 'tubes', 'norms', 'sitter', 'wines', 'diffusion', 'theresa', 'registration', 'registered', 'amendment', 'agriculture', 'midnight', 'anticipated', 'savings', 'thinks', 'discrimination', 'monthly', 'originally', 'attending', 'regime', 'channels', 'encouraging', 'compete', 'luncheon', 'orange', 'colleagues', 'historic', 'governmental', 'settle', 'dedicated', 'douglas', 'memorial', 'circuit', 'beliefs', 'stressed', 'strategic', 'eighth', 'pete', 'champion', 'casey', 'bobby', 'bowl', 'maryland', 'controlling', 'don', 'bases', 'hearts', 'ruth', 'crystal', 'tie', 'harder', 'expectations', 'heights', 'westminster', 'flower', 'jean', 'suggestions', 'furnished', 'adults', 'chairs', 'worn', 'dances', 'arrival', 'burns', 'resumed', 'ultimately', 'cleared', 'lawyers', 'sharing', 'killing', 'rifles', 'category', 'madison', 'sheep', 'assessment', 'farmer', 'insects', 'incredible', 'dive', 'spare', 'attempting', 'gin', 'manufacturer', 'lift', 'heels', 'plates', 'hollywood', 'stern', 'noble', 'stuck', 'musician', 'select', 'justified', 'giant', 'sink', 'unexpected', 'hungry', 'illustration', 'fraction', 'protest', 'variations', 'cabin', 'whisky', 'generations', 'wake', 'craft', 'plug', 'continuously', 'sentiment', 'reflects', 'civic', 'searching', 'cat', 'grades', 'exercises', 'trace', 'lighting', 'sweat', 'publications', 'victor', 'refrigerator', 'enable', 'rocks', 'substances', 'relevant', 'tennessee', 'belly', 'radar', 'h', 'deck', 'genius', 'curiosity', 'boating', 'degrees', 'oxidation', 'hurried', 'assumptions', 'empirical', 'excited', 'habit', 'lengths', 'imitation', 'displacement', 'plaster', 'fibers', 'inventory', 'wounded', 'whispered', 'fogg', 'pa', 'happiness', 'authors', 'maggie', 'quiney', 'spencer', 'substrate', 'pip', 'ambiguous', 'recommendations', 'servants', 'warned', 'traveled', 'congressional', 'miller', 'obligations', 'sponsor', 'complained', 'expects', 'gulf', 'physics', 'relatives', 'capitol', 'carries', 'rehabilitation', 'voluntary', 'troubles', 'appreciation', 'attacks', 'suited', 'earliest', 'trucks', 'retained', 'strategy', 'posts', 'intentions', 'bid', 'conspiracy', 'investigations', 'uncertain', 'overseas', 'adding', 'loyalty', 'patience', 'ralph', 'empire', 'miami', 'exhibition', 'hits', 'pitch', 'plate', 'palm', 'triumph', 'baltimore', 'doubtful', 'statistics', 'spectacular', 'sighed', 'balanced', 'respects', 'nerves', 'teams', 'dealt', 'engagement', 'ah', 'vienna', 'merchants', 'aunt', 'altered', 'valid', 'ambassador', 's', 'auto', 'elaine', 'blues', 'convenient', 'loaded', 'di', 'gang', 'regularly', 'autumn', 'moderate', 'surrender', 'chiefly', 'chart', 'resist', 'architect', 'eighteenth', 'rhythm', 'ownership', 'participate', 'totally', 'tip', 'belongs', 'panic', 'shell', 'capabilities', 'substitute', 'wealth', 'savage', 'occasions', 'racing', 'describes', 'mess', 'bombers', 'successes', 'grows', 'sticks', 'backward', 'desperately', 'hide', 'implications', 'fault', 'lo', 'casual', 'sandburg', 'freely', 'laughter', 'destiny', 'drinks', 'motive', 'targets', 'thrust', 'sphere', 'novels', 'melting', 'formulas', 'unfortunate', 'joke', 'uneasy', 'souls', 'arbitrary', 'reliable', 'possessed', 'eliminated', 'fortunate', 'meanings', 'bother', 'insight', 'preparing', 'steadily', 'forests', 'physiological', 'planets', 'alaska', 'frequency', 'tire', 'dressing', 'economical', 'sixties', 'herd', 'soap', 'yelled', 'alienation', 'sampling', 'refund', 'hypothalamic', 'foams', 'bobbie', 'deegan', 'merger', 'taxpayers', 'jail', 'witnesses', 'saving', 'delay', 'springs', 'associate', 'startled', 'port', 'morris', 'questioning', 'speeches', 'inspection', 'acceptable', 'detroit', 'displayed', 'cope', 'pertinent', 'procurement', 'colonial', 'socialist', 'screw', 'johnston', 'hesitated', 'respond', 'launched', 'crises', 'michigan', 'dynamic', 'wagner', 'submitted', 'forming', 'rico', 'surrounded', 'keeps', 'congressman', 'dedication', 'unlikely', 'accepting', 'behalf', 'flash', 'trends', 'philip', 'russ', 'pitcher', 'races', 'crossing', 'definitely', 'loop', 'fans', 'masses', 'giants', 'vernon', 'helpless', 'replacement', 'ben', 'missouri', 'despair', 'warwick', 'stiff', 'anniversary', 'francis', 'luxury', 'skirt', 'beam', 'kay', 'colorful', 'taylor', 'availability', 'killer', 'joyce', 'drawings', 'prairie', 'suspected', 'revolutionary', 'prisoners', 'governing', 'prospective', 'profits', 'painter', 'wheels', 'conversion', 'defend', 'crack', 'lucky', 'characterized', 'winds', 'heritage', 'computed', 'inclined', 'lowered', 'dishes', 'marble', 'passengers', 'addresses', 'ideological', 'monument', 'fluid', 'shaking', 'vermont', 'urgent', 'pause', 'competent', 'commodities', 'indirect', 'ugly', 'gentlemen', 'belgians', 'obliged', 'katanga', 'respectable', 'desert', 'displays', 'educated', 'enjoyment', 'theirs', 'partisan', 'urge', 'bullets', 'resolved', 'diet', 'shame', 'bold', 'certainty', 'podger', 'aristotle', 'cholesterol', 'wondering', 'verbal', 'classification', 'wives', 'sidewalk', 'scared', 'melody', 'tales', 'cromwell', 'persuaded', 'thorough', 'sixty', 'breathing', 'theoretical', 'tale', 'envelope', 'possession', 'summary', 'heroic', 'shining', 'intimate', 'traditions', 'habits', 'dare', 'neat', 'hen', 'milligrams', 'protein', 'punishment', 'stumbled', 'reverend', 'mode', 'glory', 'reveals', 'shu', 'planet', 'rent', 'intermediate', 'nuts', 'circular', 'particle', 'garage', 'linear', 'smart', 'faulkner', 'complement', 'mate', 'telegraph', 'tsunami', 'bridget', 'planetary', 'occurring', 'keith', 'mars', 'utopian', 'steele', 'rang', 'maude', 'hoag', 'allen', 'voters', 'legislators', 'orderly', 'receives', 'adjustments', 'repair', 'votes', 'sheriff', 'enforced', 'el', 'stake', 'border', 'solve', 'underlying', 'observers', 'quarrel', 'cape', 'judges', 'grants', 'illness', 'hospitals', 'confirmed', 'treaty', 'alliance', 'submarines', 'disposal', 'dominated', 'intervention', 'negotiations', 'sailing', 'residents', 'bet', 'notte', 'conditioned', 'greeted', 'basically', 'expanded', 'emphasize', 'manhattan', 'aroused', 'temporarily', 'mathematics', 'explains', 'puts', 'tactics', 'decent', 'ranks', 'trim', 'donald', 'hotels', 'parks', 'injured', 'rush', 'compromise', 'pioneer', 'ninth', 'purchased', 'strongest', 'grabbed', 'florida', 'physically', 'clock', 'splendid', 'strikes', 'grip', 'guys', 'buck', 'arnold', 'tournament', 'invitation', 'loud', 'fitted', 'boss', 'mercy', 'chapel', 'promises', 'bundle', 'clothing', 'slim', 'improvements', 'secrets', 'hidden', 'converted', 'gather', 'crash', 'retail', 'guided', 'assessors', 'brushed', 'crop', 'newer', 'warrant', 'supplement', 'thereafter', 'foil', 'notable', 'pipe', 'struggling', 'cream', 'indication', 'tones', 'cafe', 'trap', 'figured', 'abel', 'reactionary', 'tent', 'blonde', 'lobby', 'renaissance', 'responded', 'founded', 'fantastic', 'binding', 'lean', 'landscape', 'amazing', 'alike', 'passages', 'reporter', 'cooperative', 'alabama', 'happily', 'shadows', 'rises', 'fortunately', 'vacuum', 'endless', 'minority', 'overwhelming', 'jungle', 'convictions', 'nest', 'fascinating', 'accordance', 'motives', 'listeners', 'distinctive', 'tooth', 'attain', 'styles', 'bones', 'wit', 'solely', 'socialism', 'grains', 'sixteen', 'hatred', 'creatures', 'biological', 'poverty', 'twentieth', 'historians', 'manage', 'authentic', 'laura', 'dolores', 'leaped', 'doc', 'transformation', 'theories', 'worries', 'merchant', 'anyhow', 'relating', 'probabilities', 'impulse', 'package', 'pupil', 'anticipation', 'slide', 'fractions', 'cathy', 'boots', 'sauce', 'mustard', 'michelangelo', 'invention', 'cheek', 'awake', 'pursue', 'peered', 'crawled', 'nude', 'okay', 'borden', 'plato', 'oedipus', 'lungs', 'input', 'suitcase', 'skyros', 'freddy', 'airport', 'rob', 'consistently', 'policeman', 'underground', 'remainder', 'arrest', 'whereby', 'imposed', 'discharge', 'avoided', 'cuban', 'enforcement', 'commissioner', 'appeals', 'supervision', 'interviews', 'tangible', 'politicians', 'elementary', 'respective', 'stresses', 'directors', 'continental', 'filing', 'males', 'guards', 'vincent', 'salem', 'lodge', 'specialists', 'wiped', 'slender', 'snapped', 'string', 'whip', 'ray', 'achievements', 'span', 'drank', 'fathers', 'stroke', 'frederick', 'addressed', 'ethics', 'toast', 'lover', 'solved', 'theology', 'crown', 'convenience', 'victims', 'arrested', 'cottage', 'lid', 'packed', 'lacked', 'condemned', 'documents', 'corporate', 'eve', 'entries', 'wildlife', 'livestock', 'businesses', 'attract', 'companion', 'rid', 'shipping', 'earnings', 'makers', 'gains', 'venture', 'affects', 'demanding', 'delivery', 'allows', 'toes', 'loves', 'mexico', 'likes', 'ham', 'label', 'ladder', 'dreamed', 'resting', 'guitar', 'pamela', 'traveling', 'slip', 'spell', 'neatly', 'decisive', 'tensions', 'caution', 'dated', 'fatal', 'insistence', 'midst', 'devotion', 'produces', 'shocked', 'flood', 'ambition', 'combinations', 'mechanics', 'deadly', 'lap', 'slope', 'instantly', 'rolling', 'ridiculous', 'startling', 'exceed', 'preserved', 'canvas', 'comprehensive', 'servant', 'assurance', 'dairy', 'infinite', 'individually', 'exceptional', 'lesser', 'shorter', 'polish', 'tobacco', 'ignore', 'applies', 'relax', 'brass', 'curves', 'sober', 'naive', 'depths', 'diseases', 'orthodox', 'hostile', 'blowing', 'wisconsin', 'rugged', 'broader', 'sketches', 'paula', 'fever', 'realm', 'emperor', 'salesmen', 'optical', 'situated', 'fats', 'hypothalamus', 'immortality', 'assert', 'numerical', 'realtors', 'daytime', 'amen', 'dim', 'distances', 'puzzled', 'hay', 'ma', 'twisted', 'fury', 'straightened', 'timber', 'glued', 'movable', 'essay', 'distinguish', 'patents', 'therapist', 'damned', 'murderer', 'plantation', 'helion', 'rousseau', 'smelled', 'reactivity', 'tetrachloride', 'sera', 'nonspecific', 'vector', 'vertex', 'rourke', 'killpath', 'haney', 'letch', 'commented', 'ridge', 'priority', 'privilege', 'formally', 'austin', 'stocks', 'folks', 'committees', 'earned', 'athletic', 'stolen', 'deliver', 'proceedings', 'repeatedly', 'abuse', 'aged', 'drain', 'asks', 'emerge', 'proceed', 'remarkably', 'compelled', 'faster', 'arkansas', 'juvenile', 'assign', 'arose', 'chorus', 'lip', 'resentment', 'talks', 'hunter', 'announce', 'shrugged', 'erected', 'halfway', 'columbia', 'camps', 'loyal', 'squeezed', 'ranged', 'sue', 'objection', 'pronounced', 'representation', 'bargaining', 'rebel', 'dick', 'squad', 'yankee', 'bat', 'wing', 'tokyo', 'favored', 'kicked', 'lemon', 'fan', 'ceremony', 'fame', 'ernie', 'harvey', 'stevens', 'costumes', 'tommy', 'stein', 'knight', 'angel', 'twist', 'birthday', 'chase', 'meredith', 'suburbs', 'competence', 'brick', 'predicted', 'buried', 'overnight', 'kowalski', 'candle', 'escaped', 'pole', 'battery', 'crops', 'emphasized', 'youngsters', 'stephen', 'investigated', 'acted', 'officially', 'ratios', 'overhead', 'classroom', 'abrupt', 'continuation', 'sank', 'bell', 'disposed', 'designer', 'pen', 'oxford', 'lamp', 'parlor', 'assignments', 'bishop', 'undertaken', 'attributed', 'fountain', 'informal', 'initially', 'mechanisms', 'specialized', 'manufacture', 'fellows', 'customs', 'tanks', 'drops', 'terribly', 'earnest', 'nineteen', 'cats', 'religions', 'autonomy', 'copies', 'advances', 'applicable', 'humble', 'defended', 'spectacle', 'submit', 'interrupted', 'expecting', 'rests', 'partnership', 'editors', 'congregations', 'drift', 'rubbed', 'plainly', 'surprisingly', 'consistency', 'biblical', 'phrases', 'bathroom', 'sung', 'brains', 'bitterness', 'causing', 'locations', 'bulletin', 'likewise', 'referring', 'sole', 'neglected', 'tap', 'cosmic', 'denial', 'shifted', 'selective', 'corners', 'faded', 'print', 'affection', 'hypothesis', 'refers', 'transport', 'speaks', 'simpler', 'beloved', 'tray', 'reverse', 'differ', 'consumption', 'technological', 'medieval', 'rod', 'proportions', 'interval', 'exercised', 'brightness', 'camping', 'cylinder', 'colt', 'photograph', 'aluminum', 'bunk', 'milling', 'grams', 'printing', 'ammunition', 'systematic', 'roared', 'epic', 'subjective', 'intuition', 'marry', 'upton', 'forgot', 'adolescence', 'griffith', 'stall', 'saxon', 'cobb', 'spectra', 'serum', 'iodine', 'tsh', 'theorem', 'abruptly', 'effluent', 'stevie', 'andrei', 'kitti', 'madden', 'langford', 'barco', 'fulton', 'praise', 'purchasing', 'compensation', 'employes', 'consulted', 'superintendent', 'anonymous', 'pockets', 'violation', 'counsel', 'pierre', 'nursing', 'nurse', 'combine', 'persuade', 'cabinet', 'wider', 'popularity', 'friction', 'geneva', 'lao', 'fleet', 'useless', 'performing', 'vitality', 'raymond', 'noting', 'deputy', 'shops', 'consent', 'vicious', 'fires', 'ivory', 'visits', 'declined', 'scientist', 'missionary', 'pays', 'separation', 'eighteen', 'slowed', 'assuming', 'stripped', 'weary', 'alternatives', 'followers', 'females', 'tract', 'designated', 'apartments', 'baptist', 'explosive', 'grasp', 'graduates', 'motions', 'catcher', 'balls', 'failing', 'reporting', 'defensive', 'walker', 'cleveland', 'hank', 'throwing', 'checks', 'cracked', 'porter', 'seasons', 'hitting', 'shaped', 'awards', 'departure', 'barriers', 'meadow', 'sport', 'admired', 'holiday', 'awarded', 'muttered', 'import', 'lessons', 'milton', 'wagons', 'portrait', 'detectives', 'mortgage', 'cooled', 'steam', 'codes', 'simms', 'confession', 'rested', 'spontaneous', 'describing', 'captured', 'rebels', 'renewed', 'operators', 'inability', 'indifference', 'intersection', 'economics', 'flowing', 'anniston', 'carroll', 'preservation', 'breed', 'fuel', 'suicide', 'gambling', 'tracing', 'counted', 'inquiries', 'chip', 'sooner', 'pushing', 'shake', 'reflecting', 'logic', 'connecticut', 'accompanying', 'preaching', 'darling', 'acquisition', 'stretching', 'seemingly', 'diplomacy', 'lest', 'aggressive', 'embassy', 'notions', 'illustrate', 'allocation', 'supernatural', 'brand', 'titles', 'destroying', 'artificial', 'sums', 'employers', 'chaos', 'quote', 'heroes', 'possess', 'frankie', 'belonged', 'vaguely', 'continent', 'hamilton', 'engines', 'capture', 'loudly', 'productivity', 'remembering', 'dome', 'seal', 'campaigns', 'mistaken', 'formidable', 'acceleration', 'guerrillas', 'rivers', 'pastor', 'silently', 'progressive', 'neighborhoods', 'enjoying', 'staying', 'significantly', 'readings', 'thee', 'basket', 'collar', 'tumor', 'gap', 'lion', 'christians', 'morale', 'consist', 'awful', 'statue', 'burma', 'prevailing', 'abandon', 'clever', 'shifts', 'obscure', 'uncertainty', 'horror', 'interaction', 'bunch', 'infectious', 'imaginary', 'fitting', 'summers', 'flame', 'benson', 'absurd', 'implied', 'inquiry', 'hunger', 'indirectly', 'comparative', 'gonna', 'packing', 'ballistic', 'bunks', 'whiskey', 'sunlight', 'lit', 'frankfurter', 'transom', 'respiratory', 'formulation', 'cereal', 'dandy', 'screaming', 'screamed', 'voyage', 'cops', 'giffen', 'lizzie', 'piazza', 'kiss', 'murmured', 'molecular', 'hiding', 'sensed', 'trevelyan', 'krim', 'graph', 'geometric', 'thyroglobulin', 'corridor', 'bod', 'accelerometer', 'ada', 'angie', 'lalaurie', 'nadine', 'moreland', 'deserves', 'revised', 'improving', 'farms', 'highways', 'raises', 'appearing', 'locate', 'circulation', 'scott', 'pro', 'fee', 'sites', 'costly', 'gotten', 'chemistry', 'indicating', 'inquired', 'thru', 'financed', 'payroll', 'unnecessary', 'ambitious', 'requiring', 'explosion', 'geographical', 'viet', 'invasion', 'observer', 'professors', 'pin', 'disturbing', 'severely', 'unemployment', 'glow', 'ticket', 'dropping', 'successor', 'confirm', 'taxi', 'viewpoint', 'chapters', 'commitments', 'quest', 'shortage', 'clearing', 'legitimate', 'transit', 'adequately', 'montgomery', 'greece', 'fighters', 'instructed', 'delegates', 'strengthen', 'reads', 'missions', 'arranging', 'indications', 'homer', 'brooks', 'chores', 'bounced', 'slammed', 'flavor', 'pitching', 'allowance', 'claiming', 'southwest', 'statistical', 'nelson', 'spotted', 'm', 'denver', 'buffalo', 'cherished', 'waved', 'stuart', 'commit', 'strings', 'cows', 'differently', 'inherited', 'earn', 'oriental', 'gown', 'byron', 'trains', 'goodness', 'candy', 'confident', 'collect', 'telephoned', 'opens', 'staged', 'link', 'tile', 'troop', 'proceeds', 'commissioners', 'broadcast', 'flashed', 'asserted', 'pursuit', 'spun', 'northeast', 'mailed', 'priests', 'obligation', 'producer', 'cranston', 'rider', 'mistakes', 'cockpit', 'beautifully', 'adjust', 'monk', 'investors', 'wanting', 'translated', 'fancy', 'grab', 'fringe', 'peak', 'pan', 'dangers', 'railroads', 'shipments', 'vessel', 'simplicity', 'composite', 'matched', 'henri', 'anthony', 'l', 'outfit', 'bass', 'dish', 'lecture', 'finest', 'persistent', 'sins', 'swinging', 'channel', 'delighted', 'discussing', 'confrontation', 'aims', 'satisfy', 'miracle', 'orientation', 'qualifications', 'secular', 'partners', 'foolish', 'devised', 'reasoning', 'parliament', 'stating', 'afterward', 'whites', 'excluding', 'switched', 'muscular', 'endurance', 'purchases', 'philosopher', 'notably', 'hammarskjold', 'soup', 'toll', 'gradual', 'rail', 'ample', 'maintains', 'capita', 'founding', 'bulk', 'translate', 'conjunction', 'hers', 'blockade', 'sturdy', 'audiences', 'piled', 'spreading', 'contents', 'flexibility', 'lined', 'disastrous', 'rows', 'specialist', 'stride', 'confined', 'influenced', 'rage', 'vegetables', 'implies', 'unto', 'resume', 'ashamed', 'injustice', 'typically', 'heated', 'prolonged', 'messages', 'translation', 'cleaned', 'vertical', 'ruined', 'compatible', 'alarm', 'compounds', 'transmission', 'veterans', 'flag', 'refuse', 'buffer', 'proves', 'minimize', 'ideals', 'orbit', 'boundary', 'conclude', 'historically', 'insights', 'bleeding', 'linked', 'alien', 'angular', 'doubts', 'damp', 'jeep', 'trails', 'proposition', 'differential', 'networks', 'curriculum', 'glorious', 'glimpse', 'photographs', 'bitterly', 'cowboy', 'inserted', 'ignorance', 'sketch', 'forehead', 'exhibits', 'occupy', 'wasted', 'gavin', 'stirring', 'references', 'humorous', 'arteries', 'liver', 'saint', 'priest', 'justification', 'downward', 'ate', 'thereof', 'weighed', 'judicial', 'attic', 'conformity', 'metaphysical', 'spray', 'mare', 'jaw', 'fences', 'hawaii', 'tourist', 'pottery', 'jar', 'infantry', 'closet', 'synthesis', 'lung', 'correlation', 'installations', 'farming', 'claire', 'g', 'isolation', 'dusty', 'crouched', 'dickens', 'analytic', 'solar', 'abstraction', 'optimum', 'opium', 'voltage', 'clover', 'secants', 'roleplaying', 'operand', 'leveling', 'payne', 'styka', 'gilborn', 'mae', 'handley', 'nicolas', 'hanford', 'willis', 'foster', 'petition', 'validity', 'defeated', 'bankers', 'termed', 'oppose', 'mentally', 'eliminating', 'succeed', 'decrease', 'policemen', 'client', 'devote', 'contempt', 'employer', 'boost', 'indispensable', 'hastily', 'administrator', 'selections', 'disappointment', 'tentative', 'essence', 'threshold', 'optimism', 'participating', 'morton', 'coalition', 'domination', 'constructive', 'react', 'hire', 'rescue', 'gaining', 'federation', 'stature', 'attraction', 'optimistic', 'seats', 'marching', 'operates', 'contributing', 'unpleasant', 'competing', 'berger', 'cambridge', 'backs', 'agreements', 'tore', 'blast', 'landed', 'reward', 'practicing', 'coordination', 'norman', 'oak', 'loses', 'powell', 'verdict', 'jerry', 'batting', 'apprentice', 'physician', 'kick', 'scored', 'jay', 'meaningless', 'trick', 'ace', 'smashed', 'newest', 'advocate', 'quit', 'graham', 'personalities', 'roger', 'brooding', 'potato', 'alongside', 'creature', 'cardinal', 'dragging', 'beaten', 'honors', 'knock', 'sights', 'lawn', 'tennis', 'swim', 'preceded', 'pools', 'loving', 'originated', 'bow', 'underwater', 'forbidden', 'cemetery', 'stove', 'havana', 'segregated', 'intend', 'excellence', 'waddell', 'cafeteria', 'assault', 'daylight', 'arguments', 'judged', 'judging', 'pains', 'rental', 'scores', 'connections', 'da', 'cubic', 'celebration', 'qualify', 'sizable', 'comparatively', 'alter', 'businessmen', 'supports', 'owed', 'province', 'parent', 'madame', 'apt', 'potatoes', 'onion', 'texture', 'rounded', 'heavier', 'carla', 'elizabeth', 'drums', 'picnic', 'actors', 'silly', 'mileage', 'associates', 'discouraged', 'evenings', 'realities', 'penetration', 'disapproval', 'dragged', 'cease', 'dimension', 'scholar', 'tightly', 'expressions', 'stimulus', 'restricted', 'deemed', 'stirred', 'readiness', 'gates', 'tense', 'deliberate', 'dutch', 'ties', 'dug', 'elder', 'stevenson', 'virtues', 'reluctant', 'nut', 'turnpike', 'textiles', 'imports', 'clue', 'feasible', 'joining', 'governed', 'drag', 'intensive', 'emerging', 'crude', 'clearer', 'divisions', 'selecting', 'forgiveness', 'sweep', 'dad', 'accustomed', 'fabric', 'considers', 'rubber', 'writings', 'straw', 'razor', 'shower', 'guessed', 'sheer', 'senses', 'explanations', 'opponent', 'cruel', 'exhausted', 'misery', 'distress', 'freezing', 'sincere', 'israel', 'horrible', 'remind', 'stalin', 'plunged', 'execution', 'refusal', 'commonplace', 'preventive', 'liberalism', 'lectures', 'placement', 'memories', 'sentimental', 'commands', 'lyrics', 'amy', 'cop', 'thread', 'circumstance', 'achieving', 'touching', 'crying', 'contours', 'deals', 'burn', 'anchor', 'novelist', 'vanished', 'ambitions', 'sloan', 'manners', 'sustained', 'englishman', 'expedition', 'arriving', 'literal', 'denominations', 'distinctions', 'socially', 'pill', 'hey', 'dissolved', 'cared', 'steinberg', 'tappet', 'substituted', 'cracking', 'needle', 'battens', 'armies', 'bathing', 'bottles', 'profile', 'swiftly', 'preparations', 'molding', 'fluids', 'doorway', 'soils', 'x', 'commanded', 'disappointed', 'ryan', 'rope', 'kissed', 'oils', 'ulyate', 'leaning', 'rancher', 'selden', 'bees', 'fromm', 'deserted', 'katie', 'aegean', 'blackman', 'folded', 'sociology', 'helium', 'lublin', 'homeric', 'burton', 'collage', 'lagoon', 'juanita', 'eugenia', 'influences', 'encouragement', 'picking', 'approve', 'bush', 'threats', 'feared', 'daniel', 'treasurer', 'amended', 'penalty', 'pending', 'dismissed', 'requests', 'criticized', 'customary', 'reforms', 'arises', 'kentucky', 'disclosed', 'organize', 'eligible', 'fails', 'lever', 'affixed', 'plains', 'applause', 'passenger', 'preferably', 'debut', 'carved', 'believing', 'corruption', 'amid', 'publishing', 'ceremonies', 'odds', 'annually', 'driveway', 'ap', 'paths', 'speakers', 'grove', 'theodore', 'revelation', 'sensation', 'engage', 'purse', 'columbus', 'bothered', 'upset', 'exclaimed', 'countless', 'chuck', 'examiner', 'incidentally', 'hodges', 'merits', 'bull', 'careers', 'gum', 'joan', 'egypt', 'invitations', 'farewell', 'appearances', 'entertain', 'marty', 'touches', 'frightening', 'boxes', 'gods', 'tickets', 'elegant', 'hats', 'husbands', 'celebrated', 'auditorium', 'prosperity', 'complexity', 'fastened', 'convicted', 'neighbor', 'surviving', 'pursued', 'executed', 'emory', 'daughters', 'uniforms', 'counts', 'flames', 'alice', 'valued', 'beverly', 'interstate', 'stopping', 'complaint', 'flights', 'scrutiny', 'swiss', 'pickup', 'sunset', 'momentum', 'hemisphere', 'producers', 'creator', 'shoe', 'designers', 'arrow', 'yarn', 'appealing', 'pianist', 'le', 'scenery', 'lend', 'bored', 'adventures', 'feathers', 'polished', 'presidents', 'organs', 'prone', 'protective', 'framed', 'structured', 'regulation', 'enterprises', 'monopoly', 'capitalism', 'impersonal', 'afterwards', 'intact', 'pine', 'borrowed', 'divide', 'classified', 'sweater', 'oldest', 'picasso', 'chancellor', 'boundaries', 'belgian', 'administered', 'ordinarily', 'anaconda', 'flung', 'vigor', 'nassau', 'psychology', 'centered', 'penetrating', 'dominican', 'habitat', 'hopeless', 'ruin', 'paragraphs', 'spectrum', 'draws', 'amusing', 'intent', 'accommodate', 'irrelevant', 'cannery', 'breeze', 'treats', 'deviation', 'uncomfortable', 'relaxed', 'crimes', 'sensible', 'thou', 'answering', 'congregational', 'brace', 'analyzed', 'seeming', 'kent', 'prescribed', 'heater', 'capability', 'vulnerable', 'vocal', 'mild', 'influential', 'usage', 'custom', 'leap', 'superiority', 'protestants', 'manpower', 'shallow', 'speeds', 'painfully', 'gloom', 'profitable', 'restored', 'symptoms', 'decay', 'shells', 'superb', 'weep', 'comedie', 'immense', 'nearer', 'retreat', 'upright', 'lightning', 'territorial', 'yalta', 'pity', 'stare', 'fists', 'pit', 'dared', 'thunder', 'evolution', 'projected', 'prose', 'solitary', 'fantasy', 'emancipation', 'heap', 'instinct', 'mist', 'sustain', 'minerals', 'proteins', 'irenaeus', 'foundations', 'fruits', 'odor', 'survived', 'pairs', 'climax', 'grim', 'conceive', 'attach', 'proclamation', 'width', 'ripe', 'favorably', 'resonance', 'coordinated', 'revolver', 'coupled', 'creek', 'fork', 'pie', 'beaches', 'adventure', 'illuminated', 'cups', 'charcoal', 'fix', 'strips', 'bubbles', 'wax', 'nails', 'screwed', 'confederate', 'insect', 'conditioning', 'thoughtfully', 'ultraviolet', 'generator', 'bacterial', 'pasture', 'wrapped', 'determines', 'neon', 'bari', 'gradient', 'bark', 'diane', 'eichmann', 'dislike', 'swore', 'garryowen', 'clung', 'singular', 'harlem', 'blank', 'discretion', 'bastards', 'dice', 'garth', 'chill', 'greville', 'rupees', 'decomposition', 'aqueous', 'proportional', 'woke', 'python', 'conjugates', 'diagonalizable', 'iliad', 'hawk', 'beowulf', 'jessica', 'edythe', 'welch', 'handful', 'remedy', 'enabling', 'incorporated', 'undue', 'deputies', 'pension', 'praised', 'cruelty', 'gop', 'tower', 'relieve', 'opponents', 'oklahoma', 'consulting', 'breakdown', 'spokesman', 'unfair', 'privately', 'expand', 'guaranteed', 'propose', 'emotionally', 'un', 'globe', 'nam', 'modified', 'spokesmen', 'restrained', 'reviewed', 'adopt', 'disposition', 'beating', 'witnessed', 'fits', 'conservation', 'resolve', 'visitor', 'democrat', 'protested', 'inhabitants', 'standpoint', 'spectators', 'lafayette', 'observing', 'restless', 'solidarity', 'convey', 'acute', 'objected', 'absorb', 'statewide', 'ed', 'buddy', 'gentile', 'completing', 'accelerated', 'helen', 'sox', 'tries', 'incomplete', 'defending', 'idle', 'minnesota', 'mays', 'elderly', 'belonging', 'lou', 'afternoons', 'matches', 'monstrous', 'par', 'slice', 'handy', 'grin', 'tumbled', 'correctly', 'youngest', 'singers', 'portable', 'sunny', 'lucille', 'dough', 'fur', 'tribune', 'colorado', 'grandma', 'methodist', 'lester', 'anderson', 'graduated', 'resident', 'outset', 'cumulative', 'hull', 'dot', 'indiana', 'appealed', 'adjoining', 'suburb', 'supplying', 'mcclellan', 'safely', 'exaggerated', 'statutory', 'commitment', 'survivors', 'sisters', 'handicapped', 'familiarity', 'collapsed', 'omitted', 'barbecue', 'acid', 'scotland', 'birmingham', 'imply', 'nazi', 'explaining', 'abilities', 'sells', 'sweeping', 'stimulation', 'undertake', 'lowest', 'inventories', 'assets', 'taxed', 'steep', 'ireland', 'truman', 'pepper', 'utter', 'lasting', 'shades', 'copper', 'carpet', 'couples', 'streetcar', 'walks', 'nonsense', 'understandable', 'performers', 'map', 'prayers', 'conducting', 'imperial', 'brutality', 'smallest', 'miserable', 'separately', 'rely', 'satisfying', 'owns', 'depreciation', 'derive', 'implicit', 'ideology', 'dictatorship', 'sentences', 'suspicious', 'rebellion', 'purple', 'electoral', 'rounds', 'roar', 'gifted', 'aloud', 'dumb', 'doubtless', 'pentagon', 'greene', 'collecting', 'journalism', 'investigators', 'ethnic', 'elite', 'consumed', 'planners', 'fiat', 'modernization', 'forcing', 'ton', 'biography', 'evaluate', 'vigorously', 'stability', 'creates', 'frankly', 'sector', 'specimens', 'prohibition', 'tempted', 'ironic', 'politician', 'earnestly', 'progressed', 'unlimited', 'objections', 'fearful', 'cake', 'posture', 'shy', 'document', 'contradiction', 'shattered', 'blessed', 'bursting', 'autistic', 'diagnosis', 'nursery', 'rug', 'curtain', 'invented', 'rockets', 'yale', 'repetition', 'experimentation', 'slightest', 'adapted', 'ego', 'embrace', 'remembers', 'erect', 'suggesting', 'promoting', 'statute', 'hart', 'inquirer', 'inspector', 'drainage', 'u', 'media', 'induced', 'virus', 'defects', 'fusion', 'doses', 'radically', 'perceive', 'insane', 'equilibrium', 'tips', 'painters', 'participated', 'foreigners', 'analogy', 'communicate', 'deer', 'patch', 'mix', 'composers', 'deepest', 'enters', 'resemblance', 'sincerity', 'charlotte', 'differed', 'diverse', 'permanently', 'boot', 'imaginative', 'casually', 'static', 'romance', 'curled', 'behaved', 'programing', 'spur', 'gospel', 'illustrations', 'abundance', 'rocking', 'fictional', 'eagerly', 'buzz', 'cone', 'whoever', 'averaged', 'refrigeration', 'alcohol', 'integral', 'mythological', 'mutually', 'ministry', 'debt', 'sprang', 'opposing', 'leveled', 'exerted', 'maps', 'clarify', 'involvement', 'gossip', 'ordering', 'dwelling', 'blade', 'waving', 'pansies', 'behave', 'tappets', 'insert', 'files', 'lantern', 'chewing', 'fond', 'lime', 'pint', 'squares', 'transparent', 'toilet', 'sealed', 'arch', 'beams', 'conditioner', 'compass', 'computer', 'antenna', 'receiver', 'detection', 'tub', 'oersted', 'necessities', 'champagne', 'linguist', 'therapeutic', 'depot', 'wires', 'begged', 'hymen', 'scream', 'vocabulary', 'chickens', 'hut', 'thayer', 'sinister', 'packard', 'proclaim', 'litigation', 'cluster', 'tory', 'copernicus', 'unaware', 'manifold', 'curb', 'null', 'piepsam', 'monitoring', 'incest', 'frieze', 'rabbi', 'hormone', 'arlen', 'diversity', 'garibaldi', 'moonlight', 'malraux', 'analyses', 'sally', 'subsection', 'paramagnetic', 'plasma', 'nighttime', 'solids', 'nuclei', 'tissues', 'skeletal', 'wtv', 'invariant', 'casework', 'kohnstamm', 'compulsivity', 'cheeks', 'athabascan', 'phosphor', 'ludie', 'argiento', 'hino', 'glendora', 'effected', 'ballot', 'expended', 'deficit', 'deaf', 'yearly', 'whipped', 'meantime', 'paradise', 'patrolman', 'ribbon', 'advisers', 'dental', 'staggered', 'enacted', 'wayne', 'ministers', 'harsh', 'ad', 'strengthening', 'correspondent', 'feeds', 'spark', 'urgency', 'outline', 'contended', 'controversial', 'nomination', 'essex', 'credited', 'rival', 'choices', 'episode', 'hopeful', 'parochial', 'technicians', 'premium', 'welcomed', 'dwight', 'tracks', 'andrew', 'guam', 'focused', 'crossroads', 'terminate', 'acknowledge', 'blocked', 'joints', 'flies', 'mining', 'turkish', 'dependence', 'surveys', 'babies', 'inning', 'lighter', 'breaks', 'crowds', 'nearing', 'kicking', 'undergoing', 'organ', 'twins', 'pops', 'loosely', 'richardson', 'pirates', 'strokes', 'honestly', 'enabled', 'bubble', 'monroe', 'holidays', 'housed', 'russell', 'nerve', 'herbert', 'peasants', 'dies', 'decides', 'restaurants', 'poised', 'tourists', 'winchester', 'ken', 'earl', 'entertaining', 'richmond', 'silk', 'maids', 'cab', 'tires', 'plow', 'blades', 'layer', 'benjamin', 'presumed', 'currency', 'indictment', 'wealthy', 'icy', 'salesman', 'grandfather', 'youthful', 'fulfillment', 'bloom', 'scratching', 'bryan', 'consultant', 'employ', 'theatrical', 'attendance', 'skies', 'acknowledged', 'beds', 'riders', 'freed', 'cane', 'crashed', 'manned', 'halted', 'challenging', 'switzerland', 'lately', 'realizing', 'maker', 'boil', 'durable', 'extends', 'gasoline', 'incentive', 'mineral', 'deduction', 'liquidation', 'harvest', 'bake', 'floors', 'railway', 'foliage', 'compact', 'cooper', 'hazard', 'supposedly', 'distinctly', 'pray', 'titled', 'tank', 'downstairs', 'laying', 'churchill', 'summit', 'temper', 'stereotype', 'tenure', 'equality', 'accounting', 'convert', 'reacted', 'sorts', 'ominous', 'turmoil', 'counting', 'guerrilla', 'pearson', 'borders', 'successive', 'couch', 'recalls', 'daring', 'statesman', 'interviewed', 'lasted', 'gripped', 'tribes', 'congolese', 'tin', 'instituted', 'lumumba', 'provinces', 'mercenaries', 'resort', 'raced', 'requested', 'ceased', 'populated', 'everyday', 'soviets', 'deserve', 'trujillo', 'deserved', 'maria', 'stray', 'settlers', 'nod', 'suspension', 'yielded', 'compounded', 'grey', 'debts', 'prayed', 'clergy', 'floating', 'smoothly', 'adjacent', 'furiously', 'favorites', 'sizes', 'korea', 'baptized', 'sermon', 'stereo', 'fifties', 'louder', 'hairs', 'lousy', 'actively', 'rockefeller', 'faithful', 'proceeding', 'stubborn', 'ardent', 'temptation', 'dialogue', 'functioning', 'purity', 'snap', 'foremost', 'nowadays', 'absorption', 'adolescent', 'swallowed', 'solemn', 'coincide', 'paragraph', 'rhythms', 'garry', 'poles', 'resultant', 'traced', 'ignorant', 'lyric', 'shelley', 'promoted', 'passionate', 'sadly', 'acquainted', 'nazis', 'fox', 'joel', 'shelf', 'collaboration', 'beethoven', 'attributes', 'impulses', 'sixteenth', 'fashionable', 'consciously', 'sail', 'neglect', 'saloon', 'interpretations', 'logically', 'contraction', 'intellectuals', 'sansom', 'explore', 'monsieur', 'cooler', 'trailers', 'eaten', 'insoluble', 'quaint', 'irony', 'blindness', 'evidenced', 'someday', 'thy', 'honorable', 'bits', 'passions', 'defenses', 'pleading', 'yang', 'initiated', 'cultures', 'calculation', 'affirm', 'aspirations', 'privacy', 'luminous', 'magical', 'perceived', 'whisper', 'landlord', 'porous', 'leaf', 'egg', 'vessels', 'hardened', 'atlas', 'infrared', 'ninety', 'combustion', 'tar', 'trot', 'trigger', 'gauge', 'inspect', 'grill', 'villages', 'canyon', 'meats', 'cavity', 'antique', 'construct', 'butt', 'tilted', 'installation', 'comfortably', 'pretending', 'overall', 'stones', 'max', 'independently', 'watercolor', 'climb', 'microorganisms', 'nitrogen', 'detected', 'lens', 'vapor', 'sodium', 'elevator', 'synthetic', 'carryover', 'discount', 'molded', 'therapy', 'gaze', 'dolls', 'phony', 'dentist', 'retention', 'deciding', 'selkirk', 'stockade', 'torrio', 'murders', 'jerked', 'crest', 'swollen', 'violently', 'coatings', 'unlocked', 'processed', 'dill', 'blew', 'unwed', 'palazzo', 'detached', 'persians', 'attendant', 'ptolemaic', 'metaphysics', 'mimesis', 'individualism', 'gabriel', 'cigarettes', 'hetman', 'wrinkled', 'demographic', 'howe', 'meltzer', 'cm', 'terminal', 'unadjusted', 'hollow', 'dimly', 'deduct', 'antibody', 'dialysis', 'fluorescence', 'antigen', 'nilpotent', 'intersections', 'secant', 'unstructured', 'transferor', 'mexicans', 'formulaic', 'frowning', 'bastard', 'chris', 'nigger', 'limp', 'purdew', 'andrus', 'mcfeeley', 'brassnose', 'delphine', 'feathertop', 'cappy', 'investigate', 'interim', 'criticisms', 'equitable', 'chambers', 'reconstruction', 'delegation', 'protests', 'rejection', 'taxation', 'unanimously', 'paso', 'gifts', 'adverse', 'teaches', 'portions', 'constituted', 'noticeable', 'preoccupied', 'fulfilled', 'concentrate', 'respected', 'kremlin', 'strenuous', 'aided', 'doubled', 'locally', 'declares', 'squeeze', 'misunderstanding', 'michael', 'regretted', 'proven', 'graduation', 'plowing', 'adoption', 'edwin', 'contrasting', 'sometime', 'conceded', 'marines', 'zone', 'script', 'ross', 'barnett', 'honeymoon', 'exert', 'elevated', 'architecture', 'cooperate', 'disagreement', 'repaired', 'economically', 'plea', 'oregon', 'assemblies', 'scriptures', 'forthcoming', 'orioles', 'mound', 'albany', 'posted', 'enlisted', 'swelling', 'consult', 'tony', 'moritz', 'timing', 'nailed', 'shaken', 'cliff', 'compartment', 'willie', 'injuries', 'retain', 'hogan', 'perfection', 'thirteen', 'ye', 'lengthy', 'blond', 'happier', 'hong', 'kong', 'drum', 'towels', 'proprietor', 'presbyterian', 'mortar', 'freeman', 'walnut', 'sculpture', 'entertained', 'easter', 'array', 'drastic', 'loading', 'necessitated', 'poorly', 'dodge', 'choosing', 'hardware', 'comprise', 'testified', 'dots', 'grimly', 'youths', 'pohl', 'subdivision', 'del', 'criteria', 'integrated', 'theaters', 'transfers', 'treating', 'claude', 'unusually', 'jimmy', 'hillsboro', 'showmanship', 'rabbit', 'poultry', 'mill', 'tide', 'ribs', 'drifting', 'alternate', 'incidents', 'wilderness', 'disarmament', 'sanitation', 'coincidence', 'prompt', 'threaten', 'dillon', 'satisfactorily', 'discrepancy', 'climbing', 'paradoxically', 'acreage', 'planted', 'deductions', 'taxpayer', 'warn', 'entities', 'descent', 'prejudice', 'archaeology', 'buys', 'breast', 'juice', 'arched', 'wells', 'glaze', 'midwest', 'violin', 'wired', 'appreciated', 'phillips', 'frantic', 'reunion', 'marking', 'wonderfully', 'fixing', 'toys', 'towering', 'mounting', 'dozens', 'tomb', 'catastrophe', 'shifting', 'smiles', 'eventual', 'willingness', 'expectation', 'interpret', 'unified', 'parish', 'generated', 'trivial', 'usefulness', 'nominal', 'unprecedented', 'squarely', 'manufactured', 'artillery', 'carriers', 'embarrassing', 'restrict', 'presidency', 'recover', 'moist', 'unquestionably', 'settling', 'dash', 'australia', 'accumulation', 'undergraduate', 'trusted', 'infant', 'quo', 'airplane', 'subsequently', 'streams', 'deficiency', 'exports', 'limiting', 'cheaper', 'twisting', 'contrasts', 'nucleus', 'develops', 'restraint', 'render', 'tyranny', 'symbolized', 'awkward', 'sanction', 'incapable', 'commanding', 'secured', 'coexistence', 'overt', 'hardest', 'compilation', 'politically', 'tropical', 'underneath', 'commissions', 'restoration', 'assistants', 'sliding', 'spaces', 'preserves', 'depressed', 'vacant', 'confess', 'haven', 'dominance', 'maxwell', 'beneficial', 'blankets', 'publishers', 'calf', 'sprawled', 'beg', 'frighten', 'rhythmic', 'shaft', 'eloquent', 'natives', 'conceivable', 'bronze', 'korean', 'instrumental', 'chronic', 'recordings', 'memorable', 'anticipate', 'oriented', 'hampshire', 'facility', 'frustration', 'distorted', 'agrees', 'appropriated', 'pollen', 'afforded', 'leisure', 'strained', 'wholesome', 'ghost', 'hiroshima', 'greatness', 'rake', 'cult', 'civilized', 'census', 'curse', 'dose', 'pose', 'expenditure', 'mainland', 'invite', 'introduce', 'constitutes', 'intelligible', 'curiously', 'muffled', 'rotation', 'rejects', 'criterion', 'convincing', 'preacher', 'concerto', 'marvelous', 'venus', 'rendering', 'ensemble', 'disciplined', 'bands', 'sleeve', 'baroque', 'amazed', 'philosophic', 'herald', 'waking', 'childish', 'narrator', 'partial', 'keen', 'agreeable', 'explored', 'energetic', 'quantities', 'fatigue', 'sociological', 'ash', 'electrons', 'barbed', 'sigh', 'shed', 'appetite', 'varies', 'schoolhouse', 'possessions', 'tender', 'strict', 'passive', 'tear', 'pituitary', 'boredom', 'calcium', 'framework', 'epidemic', 'elemental', 'grasped', 'apprehension', 'formulations', 'indifferent', 'anglican', 'communion', 'rolls', 'protestantism', 'endured', 'formulated', 'conclusive', 'histories', 'disguised', 'shivering', 'enclosed', 'uniformity', 'finite', 'thoughtful', 'psychologists', 'arising', 'burial', 'mahayana', 'unexpectedly', 'cursed', 'spit', 'weights', 'improves', 'duration', 'locating', 'trailer', 'infancy', 'commercially', 'angles', 'flush', 'rotating', 'computing', 'paced', 'duke', 'magnum', 'wart', 'pump', 'complain', 'photographic', 'ferry', 'seventeenth', 'vases', 'needless', 'cement', 'specify', 'obtainable', 'compound', 'adjusting', 'dimensional', 'timothy', 'eccentric', 'dreaming', 'pavement', 'furnace', 'eighty', 'gymnastics', 'meters', 'disappear', 'enzymes', 'evaluated', 'occupational', 'treatments', 'adopting', 'acrylic', 'linguists', 'revealing', 'ambiguity', 'hideous', 'snatched', 'postwar', 'pulley', 'foregoing', 'invested', 'surgeon', 'avoiding', 'cohesive', 'disliked', 'liking', 'spinning', 'counterparts', 'sexes', 'rubbing', 'bee', 'waist', 'acquiring', 'calmly', 'mckinley', 'log', 'winslow', 'spelman', 'motivation', 'reef', 'thereto', 'ghetto', 'posse', 'crawl', 'militia', 'crept', 'energies', 'approximate', 'boulevard', 'dylan', 'hub', 'szold', 'jastrow', 'taliesin', 'outcomes', 'kehl', 'plymouth', 'carriage', 'calendars', 'cylindrical', 'ml', 'inorganic', 'autonomic', 'congruence', 'cubism', 'brumidi', 'odyssey', 'aerator', 'goddamn', 'vince', 'rev', 'mahzeer', 'hesperus', 'mcbride', 'quint', 'vivian', 'viola', 'crombie', 'topics', 'rally', 'allotted', 'congressmen', 'polls', 'senators', 'miscellaneous', 'alleged', 'semester', 'chester', 'subsistence', 'preserving', 'defendants', 'goldberg', 'diagnostic', 'prediction', 'consultation', 'underdeveloped', 'aggression', 'tougher', 'restrain', 'bloc', 'asian', 'pathet', 'multiply', 'coordinate', 'hawksley', 'riverside', 'nationally', 'rotary', 'favors', 'counseling', 'sewer', 'simplest', 'dumont', 'forum', 'decency', 'elephants', 'mates', 'slate', 'queens', 'revulsion', 'norm', 'waterfront', 'gordon', 'unite', 'princess', 'viewing', 'representations', 'patronage', 'baton', 'segregation', 'frustrated', 'token', 'confronting', 'reviewing', 'pratt', 'leonard', 'replies', 'hazards', 'acre', 'sectors', 'seeks', 'barbara', 'consecutive', 'brandt', 'denying', 'deadlock', 'stole', 'singled', 'flock', 'streak', 'hansen', 'champions', 'richards', 'halfback', 'hip', 'slaughter', 'rushing', 'insists', 'meek', 'tackle', 'ramsey', 'averages', 'warmed', 'masterpiece', 'rocky', 'lifetime', 'privileged', 'slashed', 'skorich', 'shea', 'lease', 'sands', 'abandonment', 'margin', 'majestic', 'bounds', 'competitors', 'sore', 'compiled', 'professionals', 'adds', 'ringing', 'bushes', 'whirling', 'obstacle', 'wheeled', 'typewriter', 'schedules', 'bleak', 'reared', 'tastes', 'ellen', 'conrad', 'deposited', 'feminine', 'newman', 'arrange', 'sponsors', 'evans', 'drexel', 'margaret', 'eleanor', 'principally', 'robbery', 'cites', 'summoned', 'deficiencies', 'chains', 'lloyd', 'guiding', 'implication', 'magnification', 'clients', 'polaris', 'robbed', 'misfortune', 'fleeing', 'privileges', 'se', 'likelihood', 'negotiate', 'emma', 'disturbance', 'expressway', 'scottish', 'exhibited', 'cooked', 'theft', 'persian', 'sewing', 'founder', 'urging', 'halt', 'serene', 'mob', 'radioactive', 'huff', 'export', 'stacy', 'segment', 'mercury', 'thesis', 'declaring', 'convertible', 'merge', 'forecast', 'distributions', 'glowing', 'sunrise', 'steak', 'monks', 'tops', 'wool', 'finals', 'rides', 'tune', 'undergone', 'mouse', 'abolition', 'isaac', 'romans', 'unfamiliar', 'politely', 'hail', 'tours', 'journalist', 'ideally', 'veto', 'conversations', 'adaptation', 'owe', 'uniquely', 'mortal', 'spreads', 'knit', 'reservoir', 'begging', 'accuse', 'unconsciously', 'gigantic', 'bags', 'combining', 'pious', 'assuring', 'rusk', 'cautious', 'constituents', 'mister', 'dreadful', 'pork', 'traditionally', 'presiding', 'licked', 'bite', 'amazement', 'herman', 'enjoys', 'sandwich', 'crushed', 'zinc', 'prostitution', 'hunt', 'recruit', 'ranges', 'ration', 'puzzle', 'sweden', 'secede', 'immigration', 'luggage', 'slug', 'simmons', 'turnpikes', 'risen', 'wales', 'lovers', 'recognizes', 'specialization', 'balloon', 'echo', 'presenting', 'recognizing', 'seas', 'commercials', 'distilled', 'ads', 'occurrences', 'singer', 'patriotic', 'layers', 'applicants', 'disturb', 'integrity', 'arguing', 'diminished', 'admiration', 'clues', 'conscientious', 'loads', 'honesty', 'conform', 'pleasantly', 'impatience', 'thumb', 'extensively', 'limitation', 'tremendously', 'compulsive', 'gazette', 'looming', 'warsaw', 'hello', 'managerial', 'descending', 'blessing', 'discoveries', 'hebrew', 'buttons', 'paste', 'perfume', 'akin', 'admire', 'editorials', 'disabled', 'va', 'drastically', 'misleading', 'entity', 'folly', 'refusing', 'exceeds', 'prevents', 'solidly', 'utilize', 'departing', 'tremble', 'megatons', 'vengeance', 'nonetheless', 'imperative', 'indignant', 'projections', 'cultivated', 'generals', 'scars', 'dresses', 'bolt', 'genuinely', 'conservatism', 'rust', 'alas', 'analyze', 'larkin', 'longing', 'bearded', 'vegetable', 'museums', 'pleasing', 'mastery', 'dramatically', 'twenties', 'nickname', 'philharmonic', 'costume', 'admirable', 'witty', 'awfully', 'intensely', 'cheerful', 'intricate', 'reject', 'indebted', 'dialect', 'persisted', 'vain', 'sings', 'hysterical', 'oily', 'elegance', 'editions', 'fragile', 'compositions', 'julie', 'sensations', 'pony', 'retrieved', 'melodies', 'marital', 'systematically', 'grief', 'coarse', 'embodiment', 'rag', 'neurotic', 'argues', 'danced', 'accomplishments', 'listener', 'prints', 'herr', 'earthy', 'huddled', 'devoting', 'coin', 'framing', 'void', 'conceivably', 'patches', 'discourse', 'preventing', 'vitamins', 'k', 'undesirable', 'enduring', 'mornings', 'clergyman', 'immigrants', 'poison', 'vent', 'hints', 'diagram', 'hesitate', 'missionaries', 'swallow', 'seminary', 'patriot', 'outward', 'contributes', 'marina', 'blooming', 'dig', 'spade', 'moisture', 'avocado', 'tasted', 'detect', 'employing', 'doomed', 'differs', 'non', 'wipe', 'launch', 'rating', 'screws', 'drilling', 'equations', 'harness', 'muzzle', 'boulder', 'roast', 'boiled', 'ernest', 'button', 'cigar', 'forge', 'graceful', 'mosque', 'thermometer', 'stains', 'coats', 'reinforce', 'container', 'keelson', 'mixing', 'ingenious', 'oxen', 'raid', 'paints', 'screens', 'insulation', 'negligible', 'vastly', 'transducer', 'gram', 'creep', 'defining', 'educator', 'deceased', 'tents', 'advancement', 'cellulose', 'linguistic', 'sailed', 'anchored', 'weird', 'vue', 'imagery', 'psychologist', 'caring', 'fertility', 'concord', 'airplanes', 'messenger', 'doll', 'vagina', 'learns', 'accumulated', 'steichen', 'bacon', 'impatient', 'fake', 'jaws', 'brodie', 'utilized', 'duly', 'mice', 'refrain', 'comrades', 'legends', 'waiter', 'calculations', 'strode', 'scar', 'relevance', 'identities', 'instinctively', 'fragments', 'swear', 'tunnel', 'spatial', 'segments', 'calhoun', 'cooperatives', 'marijuana', 'purified', 'scanned', 'plotted', 'muddy', 'lunar', 'descriptions', 'wrist', 'specificity', 'assessing', 'littlepage', 'lilly', 'ditch', 'fosdick', 'sturley', 'viscosity', 'commuter', 'allotments', 'appendix', 'regulus', 'cathode', 'anionic', 'albumin', 'bumblebees', 'elbow', 'conjugate', 'polynomials', 'commute', 'subsystems', 'phonologic', 'istiqlal', 'aia', 'boris', 'kennings', 'autocoder', 'irradiation', 'trig', 'majdanek', 'pedersen', 'rustling', 'lauren', 'holster', 'lucien', 'meeker', 'montero', 'brenner', 'carmer', 'todman', 'eromonga', 'clerical', 'proportionate', 'periodic', 'pearl', 'berry', 'attorneys', 'savannah', 'resigned', 'garland', 'byrd', 'marvin', 'outright', 'reportedly', 'contention', 'scholastic', 'permitting', 'eminent', 'domain', 'poll', 'texans', 'retire', 'basketball', 'precipitated', 'prosecution', 'fundamentally', 'illegal', 'precedent', 'discourage', 'enforce', 'nightmare', 'unchanged', 'manifestations', 'hastened', 'solemnly', 'surveyed', 'timely', 'ally', 'resumption', 'centralized', 'assemble', 'revisions', 'grocery', 'obtaining', 'ordinance', 'addressing', 'harriet', 'inn', 'municipalities', 'voluntarily', 'stepping', 'induce', 'controller', 'bronx', 'indonesia', 'territories', 'toss', 'bounded', 'turkey', 'barnes', 'specifications', 'salter', 'athletics', 'pennant', 'yielding', 'rookie', 'glove', 'milwaukee', 'spectator', 'skinny', 'bulky', 'workable', 'catching', 'filly', 'timed', 'thigh', 'gene', 'bud', 'flooded', 'rulers', 'dissatisfaction', 'cincinnati', 'shaw', 'depended', 'bernard', 'athlete', 'motivated', 'delivering', 'guarding', 'minneapolis', 'slower', 'vinegar', 'larry', 'finishing', 'trio', 'doubted', 'fifteenth', 'towne', 'phoenix', 'comic', 'garson', 'deposit', 'esther', 'sporting', 'chef', 'scenic', 'dinners', 'chairmen', 'oscar', 'bermuda', 'carnival', 'jenkins', 'corrected', 'manual', 'murdered', 'terrace', 'spy', 'designing', 'potent', 'oddly', 'moses', 'reckless', 'sped', 'hengesbach', 'sidney', 'expresses', 'businessman', 'taxing', 'challenged', 'paramount', 'derives', 'occupants', 'picket', 'attacking', 'menace', 'humans', 'cameras', 'fulfill', 'handles', 'collaborated', 'quartet', 'thieves', 'coins', 'tearing', 'discharged', 'heel', 'hose', 'escort', 'wyoming', 'rogers', 'sanctuary', 'fiedler', 'pulse', 'roaring', 'steering', 'steer', 'schweitzer', 'dread', 'acquaintance', 'boiling', 'executives', 'employs', 'moss', 'cleaner', 'appropriations', 'questionable', 'monetary', 'consolidation', 'narrowed', 'battered', 'dense', 'averaging', 'incurred', 'surge', 'patrons', 'cadillac', 'melted', 'breasts', 'facets', 'ceramic', 'chocolate', 'reservations', 'hungarian', 'hardship', 'pilgrimage', 'notices', 'publisher', 'accent', 'accord', 'rated', 'lounge', 'pursuing', 'format', 'retains', 'slack', 'cologne', 'kirov', 'spacious', 'luis', 'unhappily', 'furnishings', 'miniature', 'simultaneous', 'confederacy', 'aide', 'warnings', 'exploit', 'resembles', 'emerges', 'attainment', 'paradox', 'grips', 'guarantee', 'earning', 'indignation', 'tortured', 'wheat', 'antagonism', 'consumers', 'blunt', 'dulles', 'numbered', 'choke', 'scrambled', 'closest', 'spontaneously', 'destined', 'locker', 'anecdote', 'lazy', 'trustee', 'groupings', 'exploited', 'chien', 'provincial', 'departed', 'interfere', 'awoke', 'volunteer', 'labeled', 'maine', 'enables', 'industrialized', 'pour', 'seams', 'proportionately', 'resource', 'classics', 'vitally', 'await', 'spared', 'proudly', 'coupling', 'abundant', 'replacing', 'recovered', 'conquest', 'zoo', 'ills', 'australian', 'persuasion', 'patiently', 'fighter', 'conventions', 'conflicts', 'graves', 'unification', 'preference', 'pouring', 'restore', 'subordinates', 'forecasting', 'presses', 'unimportant', 'stimulating', 'gratitude', 'beans', 'heavenly', 'enchanting', 'jokes', 'conceptions', 'woven', 'drifted', 'withdrew', 'tolerant', 'cage', 'versions', 'winding', 'salad', 'pineapple', 'hierarchy', 'freud', 'currents', 'dazzling', 'forbes', 'broadening', 'plumbing', 'verses', 'heavens', 'toe', 'stacked', 'tailored', 'blend', 'cork', 'tan', 'laboratories', 'scratch', 'gland', 'guides', 'arizona', 'breathed', 'melancholy', 'undergraduates', 'pants', 'panting', 'agony', 'barrier', 'repeating', 'additions', 'bless', 'immensely', 'manifest', 'sundays', 'regret', 'advise', 'heartily', 'assessed', 'impose', 'trades', 'adherence', 'versus', 'inspiration', 'hymn', 'dictates', 'destination', 'annoyance', 'anatomy', 'sweetheart', 'augmented', 'guardian', 'karl', 'cynical', 'irresponsible', 'atmospheric', 'wishful', 'theologians', 'efficacy', 'cousins', 'engendered', 'technically', 'superbly', 'malaise', 'von', 'summarized', 'comparing', 'soloist', 'satire', 'gracious', 'conveyed', 'grotesque', 'brilliantly', 'sonata', 'nicely', 'marched', 'settings', 'unsuccessful', 'projection', 'positively', 'colleague', 'hint', 'cave', 'wrath', 'eden', 'disadvantages', 'flashes', 'chromatic', 'resisted', 'tonal', 'wicked', 'traces', 'picturesque', 'des', 'extremes', 'cares', 'stack', 'indies', 'attractions', 'loneliness', 'blown', 'sterile', 'skillful', 'stretches', 'broadcasting', 'advertised', 'preoccupation', 'charts', 'wept', 'smells', 'trifle', 'outlet', 'introducing', 'analytical', 'peninsula', 'shores', 'inward', 'nagging', 'molecules', 'vividly', 'demon', 'existential', 'latent', 'unpaid', 'formulate', 'ecclesiastical', 'symbolize', 'mortality', 'obedience', 'warming', 'proclaimed', 'compressed', 'norton', 'saviour', 'han', 'philosophers', 'conversely', 'evangelism', 'postponed', 'topic', 'denominational', 'appalling', 'pathological', 'buddhism', 'tolerance', 'toynbee', 'accidental', 'evils', 'alumni', 'declining', 'metallic', 'orbits', 'lessened', 'disclose', 'enrolled', 'worldly', 'stillness', 'haste', 'sorrow', 'ingredients', 'enormously', 'weighing', 'reconnaissance', 'dual', 'concentrations', 'hauled', 'plywood', 'carefree', 'interlocking', 'pulls', 'rails', 'simplified', 'constants', 'simplify', 'radius', 'brood', 'hoot', 'thor', 'rack', 'smoked', 'resin', 'draped', 'amused', 'reins', 'apple', 'grease', 'cheese', 'seam', 'bin', 'pigment', 'quill', 'horizontal', 'coombs', 'ratings', 'filter', 'offset', 'extracted', 'etcetera', 'swayed', 'shaved', 'persistence', 'beginnings', 'illumination', 'anatomical', 'specially', 'borrow', 'ritter', 'similarity', 'electrostatic', 'utilization', 'quantitative', 'institutional', 'vacations', 'assigning', 'campers', 'secretaries', 'tenants', 'clause', 'extruded', 'butyrate', 'carrier', 'untouched', 'supplementary', 'indulge', 'indicators', 'secrecy', 'irregular', 'slab', 'sensory', 'counterpart', 'gravel', 'hillside', 'overcast', 'scrub', 'creativity', 'intercourse', 'anxiously', 'searched', 'quack', 'quacks', 'orthodontist', 'orthodontic', 'admissible', 'sullen', 'sanctions', 'homely', 'guts', 'earthquake', 'earthquakes', 'mask', 'bouncing', 'elders', 'ivy', 'sticky', 'soaking', 'walton', 'kirby', 'geometry', 'denoted', 'circled', 'yell', 'kearton', 'peering', 'developmental', 'grandmother', 'condensed', 'pelts', 'bienville', 'puzzling', 'therein', 'wisman', 'pamphlets', 'suggestive', 'cautiously', 'ragged', 'hammer', 'proprietorship', 'badness', 'nephew', 'generalized', 'shann', 'reviews', 'monkey', 'grunted', 'perceptions', 'predispositions', 'symposium', 'elimination', 'snapping', 'redcoats', 'othon', 'germanic', 'invasions', 'voltaire', 'duck', 'ions', 'christiana', 'rankin', 'gonzales', 'jupiter', 'generators', 'douglass', 'impurities', 'alveolar', 'antibodies', 'chromatography', 'willow', 'distal', 'bronchioles', 'pbs', 'discharges', 'involution', 'grammatical', 'syllables', 'declarative', 'consonantal', 'morphophonemics', 'apportionment', 'braque', 'aerated', 'palatability', 'radiopasteurization', 'foamed', 'suds', 'stiffly', 'jumping', 'prevot', 'handkerchief', 'steeple', 'dumped', 'dusk', 'randolph', 'kayabashi', 'impatiently', 'skiff', 'spat', 'pastern', 'eyebrows', 'grosse', 'holden', 'hohlbein', 'docherty', 'muller', 'dogtown', 'jubal', 'hague', 'gran', 'roebuck', 'schaffner', 'elec', 'biwa', 'partlow', 'blatz', 'irregularities', 'implementation', 'outgoing', 'featured', 'petitions', 'requesting', 'barber', 'undermine', 'revision', 'clarence', 'instructor', 'adc', 'bellows', 'admitting', 'prosecutor', 'hearings', 'precinct', 'scholarships', 'tactical', 'deterrent', 'inclination', 'coping', 'revolt', 'neutralist', 'setup', 'cd', 'urges', 'inspiring', 'offense', 'resent', 'newark', 'fbi', 'elect', 'feeble', 'tangle', 'retiring', 'corrupt', 'selfish', 'petty', 'slums', 'overly', 'succeeds', 'merchandising', 'inaugural', 'monuments', 'hoover', 'statues', 'gazing', 'guessing', 'predict', 'wreck', 'revive', 'hemphill', 'contracted', 'investigating', 'managing', 'bankruptcy', 'travelers', 'repairs', 'renewal', 'spends', 'bites', 'julian', 'barred', 'teamsters', 'organizing', 'honoring', 'hugh', 'denomination', 'authoritative', 'miracles', 'super', 'engaging', 'fraud', 'sullivan', 'blows', 'pitchers', 'barker', 'freshman', 'sheldon', 'colts', 'mating', 'rosy', 'knights', 'butcher', 'undergo', 'stops', 'aerial', 'ankle', 'tech', 'exceptionally', 'comforting', 'leagues', 'charley', 'clicked', 'traveler', 'herb', 'slump', 'cardinals', 'championship', 'babe', 'prominently', 'winner', 'charity', 'trophy', 'echoes', 'heed', 'gibson', 'flu', 'pitched', 'contented', 'peaks', 'resented', 'preached', 'inviting', 'wendell', 'mccormick', 'niece', 'memphis', 'carnegie', 'generously', 'cheer', 'stag', 'decorations', 'testify', 'scots', 'accommodations', 'boast', 'rhodes', 'veil', 'angelo', 'festivities', 'oysters', 'shelves', 'wins', 'jacques', 'ballroom', 'hostess', 'crimson', 'divorced', 'manuscript', 'sentenced', 'rumor', 'perry', 'nominated', 'pardon', 'offensive', 'creed', 'bruises', 'subdued', 'cursing', 'murray', 'rite', 'diamond', 'deed', 'collections', 'shotgun', 'decoration', 'spraying', 'bomber', 'pilots', 'abolish', 'stupidity', 'charging', 'cleaners', 'bluntly', 'unsatisfactory', 'traded', 'peterson', 'securities', 'dividends', 'precarious', 'borrowing', 'efficiently', 'appliances', 'sioux', 'trailed', 'taxable', 'termination', 'pad', 'declare', 'seasonal', 'cerebral', 'wardrobe', 'noel', 'coward', 'supporters', 'flour', 'danish', 'varieties', 'decorative', 'rooted', 'comprised', 'baked', 'recipe', 'practiced', 'budapest', 'entails', 'dismal', 'judy', 'shrewd', 'rusty', 'appraisal', 'sunshine', 'francesca', 'kern', 'crusade', 'preach', 'engagements', 'contests', 'discarded', 'pillow', 'headlights', 'uncommon', 'mansion', 'banner', 'cathedral', 'benches', 'wreath', 'monotonous', 'solving', 'outsiders', 'encounters', 'inauguration', 'negotiating', 'brethren', 'zeal', 'duplication', 'resembled', 'delegate', 'caliber', 'boycott', 'exaggerate', 'salaries', 'restriction', 'disputes', 'irrational', 'exemption', 'staffs', 'endure', 'southward', 'confront', 'gait', 'southerner', 'raged', 'notorious', 'hopefully', 'midway', 'boldly', 'conspicuously', 'dominate', 'peril', 'concede', 'strikingly', 'fierce', 'weaker', 'vines', 'confided', 'boom', 'applicant', 'statesmen', 'commencing', 'indefinite', 'withdraw', 'recruits', 'eased', 'speculative', 'slumped', 'extensions', 'mouths', 'broaden', 'catalogue', 'borne', 'multiplying', 'fuller', 'governors', 'bluff', 'deaths', 'dispatch', 'westward', 'bourbon', 'sipping', 'terrain', 'militant', 'backing', 'forceful', 'blindly', 'humidity', 'experimentally', 'domes', 'momentous', 'bloody', 'worthwhile', 'complaints', 'astonishing', 'devise', 'guarantees', 'predictable', 'hurricane', 'dunes', 'impartial', 'unstable', 'heretofore', 'recommending', 'straightforward', 'junk', 'warmly', 'wonders', 'turtle', 'pam', 'counters', 'establishments', 'sprung', 'jammed', 'bounce', 'depicted', 'foe', 'revival', 'essays', 'busily', 'nostalgia', 'youngster', 'usable', 'oval', 'crisp', 'brighter', 'releases', 'financially', 'reassurance', 'precaution', 'sleeves', 'wisely', 'populations', 'sack', 'articulate', 'thief', 'granting', 'utilizing', 'coldly', 'grinding', 'clarified', 'premises', 'slum', 'apportioned', 'equals', 'connally', 'reservation', 'perilous', 'expose', 'arithmetic', 'alley', 'everlasting', 'withheld', 'focal', 'install', 'directional', 'prohibited', 'sentiments', 'stamp', 'scandal', 'exploded', 'footsteps', 'marx', 'qualification', 'resemble', 'accompaniment', 'reminder', 'credo', 'inescapable', 'sane', 'catholicism', 'archbishop', 'irresistible', 'spirited', 'interpreter', 'sympathies', 'discontent', 'ensure', 'residue', 'concealed', 'removing', 'kills', 'imported', 'merry', 'saloons', 'ionic', 'ancestry', 'sailors', 'evolved', 'strangely', 'pathetic', 'plots', 'maneuvers', 'chooses', 'reciprocal', 'wounds', 'compelling', 'sophistication', 'absurdity', 'minus', 'cushion', 'lucia', 'cooks', 'relish', 'interruption', 'moods', 'potentialities', 'authenticity', 'architectural', 'recital', 'careless', 'choir', 'impassioned', 'rousing', 'sensibility', 'importantly', 'seriousness', 'scholarly', 'concluding', 'hitler', 'themes', 'characterization', 'possesses', 'architects', 'dashed', 'glancing', 'deeds', 'equivalents', 'wander', 'deprived', 'ballad', 'sticking', 'belts', 'peers', 'haunting', 'reminds', 'thrusting', 'observes', 'tricks', 'eh', 'lone', 'profoundly', 'marches', 'assimilation', 'supplements', 'canvases', 'penetrated', 'kindly', 'flair', 'satellite', 'peer', 'dwell', 'mingled', 'motif', 'foreseen', 'weeping', 'creeping', 'gracefully', 'stravinsky', 'commentary', 'pills', 'logs', 'lakes', 'liberties', 'faulty', 'stumbling', 'relied', 'spoilage', 'compulsion', 'downright', 'distaste', 'accidents', 'emptied', 'superstition', 'dispelled', 'witches', 'horns', 'excluded', 'analogous', 'englishmen', 'embarrassment', 'bells', 'spiral', 'dominion', 'obey', 'unitarian', 'thanksgiving', 'emerson', 'accusing', 'descended', 'snarled', 'bosom', 'alarmed', 'radiant', 'mounts', 'perpetual', 'curtains', 'symbolism', 'diagrams', 'yin', 'odors', 'upside', 'examinations', 'unconcerned', 'recreational', 'differentiation', 'mentioning', 'analyzing', 'realistically', 'anguish', 'repel', 'avoidance', 'insistent', 'shaping', 'dependable', 'strains', 'interdependent', 'attained', 'buddha', 'yourselves', 'mock', 'guideposts', 'thornburg', 'mailing', 'shield', 'compost', 'mobility', 'exceedingly', 'sac', 'fidelity', 'sensing', 'dock', 'lifting', 'centimeters', 'compression', 'trader', 'rocked', 'skipped', 'stormy', 'barrels', 'cruz', 'sherry', 'metropolis', 'surroundings', 'holland', 'constantine', 'courtyard', 'coals', 'buns', 'franks', 'pretend', 'spaced', 'mahogany', 'glue', 'planking', 'jig', 'clamped', 'exterior', 'bottoms', 'spindle', 'scrap', 'hereby', 'relates', 'ph', 'debris', 'pumping', 'geological', 'gaiety', 'umbrella', 'fitness', 'palms', 'ultrasonic', 'bacteria', 'microscopic', 'microscope', 'transmitted', 'indicator', 'celestial', 'magnetism', 'assumes', 'bloat', 'rot', 'infection', 'intensification', 'frowned', 'rigidly', 'overboard', 'bugs', 'aggregate', 'fabrication', 'lb', 'kilometer', 'discernible', 'actuality', 'stunned', 'vecchio', 'flashlight', 'invisible', 'peculiarly', 'nutrition', 'struggled', 'jenny', 'wiry', 'wolfe', 'telegram', 'clocks', 'slips', 'victorian', 'erotic', 'reversed', 'tumors', 'sucking', 'embarrassed', 'mourning', 'pig', 'shout', 'propagation', 'unnatural', 'furious', 'juet', 'aborigines', 'modes', 'companions', 'illiterate', 'homogeneous', 'collector', 'bias', 'detectable', 'mel', 'frenchman', 'stiffened', 'pet', 'peripheral', 'knot', 'afflicted', 'scraped', 'victoria', 'alibi', 'brazil', 'aperture', 'triumphantly', 'knuckles', 'pregnant', 'automotive', 'conflicting', 'withholding', 'staircase', 'diminishing', 'drawer', 'civilizational', 'frail', 'crawling', 'wandered', 'potters', 'caravan', 'strangers', 'urbanization', 'agrarian', 'disappearance', 'pollock', 'knelt', 'liberated', 'betrayed', 'churchyard', 'cyclist', 'poetics', 'immediacy', 'isolate', 'prosperous', 'martyr', 'ontological', 'ptolemy', 'spherical', 'copernican', 'mamma', 'weston', 'taut', 'scout', 'parliamentary', 'accompany', 'claimant', 'multiplicity', 'strasbourg', 'traps', 'athens', 'ruins', 'newt', 'hips', 'archaeological', 'retreated', 'haunted', 'farmhouse', 'smoking', 'hypothetical', 'dystopias', 'fresco', 'surveying', 'whereof', 'germanium', 'notify', 'decreases', 'arcs', 'kinetic', 'parameters', 'decreased', 'capillary', 'actives', 'greasy', 'sorbed', 'iodide', 'micrometeorite', 'meteorites', 'interlobular', 'thyroxine', 'inhibit', 'mg', 'parasympathetic', 'equate', 'intonation', 'phonemic', 'swadesh', 'respondents', 'respondent', 'referrals', 'tactual', 'barney', 'dorset', 'flatness', 'frantically', 'diocs', 'crystals', 'mutton', 'knitted', 'restorative', 'accelerometers', 'winked', 'chuckled', 'brandon', 'slapped', 'jed', 'shoved', 'muttering', 'lotion', 'clutching', 'stool', 'lolotte', 'matson', 'beauclerk', 'nogol', 'veranda', 'quirt', 'macklin', 'zing', 'trunk', 'artie', 'robards', 'doaty', 'gratt', 'ryusenji', 'hamrick', 'workbench', 'radish', 'pricing', 'concessionaires', 'resignation', 'gubernatorial', 'issuance', 'legislator', 'watered', 'violate', 'contractual', 'enact', 'con', 'fare', 'enlarged', 'retarded', 'certificate', 'hamlet', 'karns', 'levy', 'enlarge', 'constructing', 'doubling', 'hailed', 'compulsory', 'tragedies', 'relaxation', 'facto', 'victories', 'ban', 'recipient', 'delinquency', 'assertion', 'assisted', 'enactment', 'radios', 'statutes', 'merchandise', 'utilities', 'dividing', 'martinelli', 'carcass', 'waged', 'insult', 'overwhelmingly', 'repay', 'credits', 'expedient', 'buckley', 'stark', 'scandals', 'proposes', 'maurice', 'burke', 'wholesale', 'occupying', 'delta', 'rouge', 'troublesome', 'hooked', 'dwellings', 'pleaded', 'probation', 'ankles', 'hood', 'bowed', 'agreeing', 'aiding', 'congenial', 'cooperating', 'fruitful', 'whipple', 'terry', 'bodily', 'lending', 'dismissal', 'mails', 'solo', 'shortstop', 'breeding', 'assisting', 'glen', 'brisk', 'donated', 'completions', 'prevailed', 'collectors', 'bang', 'infield', 'exotic', 'reno', 'pop', 'olympic', 'awaited', 'distressing', 'abide', 'crushing', 'trailing', 'patricia', 'switching', 'ted', 'idol', 'floated', 'confessed', 'provisional', 'amendments', 'collapse', 'recession', 'imposing', 'benington', 'faults', 'dame', 'oats', 'bestowed', 'leo', 'hamm', 'embassies', 'smoothed', 'pakistan', 'en', 'hinted', 'morals', 'injection', 'phones', 'gorgeous', 'slogan', 'nobel', 'gala', 'awaiting', 'bum', 'motels', 'ants', 'attendants', 'lace', 'carter', 'corpus', 'basin', 'bundles', 'dessert', 'putt', 'invites', 'nicholas', 'jointly', 'chic', 'slippers', 'roses', 'threads', 'choking', 'damaged', 'annapolis', 'overlooked', 'inefficient', 'trooper', 'simpkins', 'totaled', 'reactor', 'canadian', 'bail', 'reproduced', 'fastest', 'narcotics', 'posed', 'mentions', 'medal', 'cta', 'evanston', 'anna', 'sterling', 'township', 'twin', 'announcing', 'murphy', 'vientiane', 'confirmation', 'seattle', 'legion', 'fidel', 'obstacles', 'affiliated', 'insofar', 'sporadic', 'integrate', 'pensions', 'junction', 'fiery', 'directing', 'burnside', 'collision', 'abbey', 'beatrice', 'clerks', 'potentially', 'booked', 'shrine', 'aaron', 'participants', 'quarterly', 'lamb', 'garbage', 'maple', 'valuation', 'fletcher', 'oliver', 'alterations', 'afloat', 'princeton', 'forgetting', 'grapes', 'rocket', 'speck', 'bolted', 'workmen', 'persecution', 'cable', 'burr', 'upturn', 'diversified', 'weaken', 'experiencing', 'yields', 'tractors', 'receipts', 'softened', 'signing', 'entirety', 'subsidiary', 'edged', 'marcus', 'saga', 'portrayal', 'sprinkle', 'monotony', 'arches', 'wrinkles', 'combines', 'accessories', 'buses', 'coconut', 'continents', 'browning', 'exchanged', 'newcomers', 'execute', 'circus', 'kings', 'trumpet', 'redhead', 'sampled', 'productions', 'strive', 'uphold', 'vulgar', 'peasant', 'harmonies', 'listing', 'summed', 'greet', 'sculptures', 'haze', 'nikita', 'concessions', 'deliberations', 'reluctantly', 'cancel', 'biology', 'accomplishment', 'generosity', 'wasteful', 'riot', 'temperament', 'broadly', 'provoked', 'attributable', 'defective', 'abuses', 'evoked', 'inform', 'hypocrisy', 'govern', 'evaluating', 'commodity', 'denounced', 'regulated', 'gore', 'erupted', 'fronts', 'dictator', 'lexington', 'flatly', 'inferior', 'cannon', 'chore', 'disappointing', 'separating', 'grumble', 'paces', 'backgrounds', 'incredibly', 'broadened', 'kidding', 'socks', 'adlai', 'tapped', 'exhaust', 'gaudy', 'headlines', 'bargain', 'barge', 'revenge', 'skins', 'beatnik', 'conant', 'lure', 'discovering', 'reign', 'ancestor', 'ruthless', 'colonies', 'tshombe', 'commenced', 'blamed', 'uniformed', 'reliance', 'mediterranean', 'surged', 'calculating', 'hopelessly', 'plight', 'wary', 'discriminating', 'abandoning', 'budgeting', 'repeal', 'builds', 'touring', 'caribbean', 'uncovered', 'vanity', 'confines', 'breathe', 'inference', 'provocative', 'salami', 'unbroken', 'links', 'dealings', 'chatter', 'italians', 'anarchy', 'mandate', 'misplaced', 'triggered', 'symptomatic', 'dag', 'consensus', 'pinched', 'fashioned', 'juan', 'innovation', 'sighted', 'countryside', 'ellis', 'tammany', 'tiger', 'elephant', 'batista', 'refugees', 'postcard', 'axes', 'retaining', 'housekeeping', 'postal', 'blossom', 'canning', 'echoed', 'grudge', 'envy', 'shrill', 'obscured', 'stranded', 'endlessly', 'heir', 'gravely', 'nashville', 'cruising', 'alternately', 'enlightened', 'courtesy', 'hunch', 'coloring', 'immature', 'cdc', 'participates', 'illustrates', 'fascinated', 'hysteria', 'postpone', 'unwilling', 'subscribers', 'prisoner', 'confinement', 'locks', 'ibm', 'bust', 'recalling', 'congratulations', 'divinity', 'comprehension', 'airy', 'tapered', 'brushes', 'brushing', 'crowned', 'disorders', 'discs', 'interviewing', 'narrower', 'angrily', 'fleeting', 'straining', 'distortion', 'bravado', 'visions', 'canoe', 'desperation', 'commend', 'packaging', 'futility', 'disagree', 'burdens', 'certified', 'cypress', 'terraces', 'contemplate', 'thirties', 'immunity', 'subway', 'drunken', 'educate', 'polite', 'schuylkill', 'exploding', 'coffin', 'premise', 'escalation', 'satellites', 'departures', 'graveyard', 'hanged', 'corpse', 'embodied', 'discomfort', 'intake', 'pauling', 'concentrating', 'insufficient', 'generalizations', 'computation', 'yearning', 'sympathize', 'reassuring', 'persists', 'plentiful', 'unmistakable', 'taiwan', 'mao', 'starvation', 'defy', 'undertook', 'tibet', 'inhuman', 'arrives', 'gestures', 'rags', 'emergencies', 'cycles', 'adaptations', 'sesame', 'continuum', 'motionless', 'slipping', 'origins', 'portraits', 'ugliness', 'bureaucracy', 'molotov', 'suspicions', 'broadcasts', 'mccarthy', 'communicating', 'experimenting', 'edited', 'flattered', 'brahms', 'tunes', 'cradle', 'meadows', 'abstractions', 'castle', 'pageant', 'splendor', 'brigadier', 'spain', 'sincerely', 'bony', 'magnificently', 'reinforced', 'auxiliary', 'wink', 'newcomer', 'topped', 'percussive', 'idiom', 'battles', 'myriad', 'exuberant', 'stamped', 'overcomes', 'blaze', 'jen', 'novelties', 'whipping', 'numbering', 'scratched', 'yorker', 'noteworthy', 'mildly', 'tart', 'kennan', 'revolutions', 'negotiated', 'endowed', 'talented', 'torso', 'ballads', 'linger', 'digging', 'symphonic', 'psyche', 'elizabethan', 'superficial', 'inexperienced', 'chord', 'generate', 'shearing', 'ferguson', 'mores', 'lyrical', 'raucous', 'expressive', 'invent', 'irritation', 'recorder', 'invalid', 'conclusively', 'hesitation', 'chronological', 'trusts', 'dignified', 'strides', 'gloucester', 'mysteries', 'galaxies', 'billions', 'rays', 'gases', 'enclosure', 'responds', 'depart', 'fortified', 'raining', 'illusions', 'reproduce', 'hotter', 'mint', 'swedish', 'weekends', 'marinas', 'outboard', 'clerfayt', 'beast', 'morally', 'napoleon', 'calories', 'concentrates', 'powdered', 'inventor', 'saturated', 'coronary', 'prey', 'fostered', 'fatty', 'arterial', 'correspond', 'demons', 'sinner', 'filthy', 'unavoidable', 'smug', 'despise', 'whitehead', 'exclude', 'popularly', 'implying', 'utmost', 'tenth', 'mapping', 'fold', 'immortal', 'disobedience', 'propriety', 'offspring', 'endeavor', 'factual', 'spiritually', 'joys', 'amusement', 'dubious', 'diversion', 'sword', 'refuge', 'stimulated', 'metals', 'preparatory', 'inactive', 'exclusion', 'interfaith', 'jerusalem', 'worlds', 'prevail', 'precautions', 'unrelated', 'restrictive', 'securing', 'equity', 'blizzard', 'snows', 'swell', 'sponge', 'obeyed', 'approximation', 'initiation', 'hopkins', 'fearless', 'generating', 'manipulation', 'monastic', 'beckoned', 'hears', 'materialism', 'skiing', 'elbows', 'symmetry', 'thighs', 'squatting', 'glaring', 'sprinkling', 'phosphate', 'blossoms', 'reputable', 'acids', 'terrifying', 'vulnerability', 'compute', 'titan', 'airborne', 'photography', 'performer', 'cite', 'multiplied', 'alteration', 'easiest', 'pacing', 'fishermen', 'terrified', 'nomenclature', 'sloping', 'photos', 'cylinders', 'piston', 'rpm', 'masculine', 'trotted', 'antelope', 'brakes', 'shortened', 'firearms', 'tallyho', 'ink', 'cured', 'tablespoons', 'oven', 'ledger', 'predominantly', 'landmarks', 'derby', 'formations', 'sophia', 'bazaar', 'diamonds', 'forks', 'chilled', 'knives', 'gloves', 'frankfurters', 'spear', 'drained', 'molds', 'bending', 'strand', 'curved', 'plank', 'linden', 'flooring', 'commonwealth', 'breadth', 'rigorous', 'gatherings', 'protesting', 'brutal', 'dripping', 'pipes', 'penetrate', 'condensation', 'frontage', 'slopes', 'skeptical', 'outraged', 'beset', 'transform', 'recognizable', 'spontaneity', 'straighten', 'lessening', 'mouthpiece', 'sonar', 'submerged', 'banished', 'voltaic', 'reckon', 'diarrhea', 'incidence', 'reduces', 'lambs', 'iodinated', 'registry', 'distributor', 'economies', 'examining', 'accreditation', 'consultants', 'wandering', 'liability', 'styrene', 'dominates', 'acetate', 'openings', 'stud', 'unload', 'clinging', 'squat', 'wiser', 'nickel', 'anthropology', 'charting', 'nodding', 'impaired', 'relate', 'rehearsed', 'cargo', 'seaman', 'gazed', 'crashing', 'deja', 'concurrent', 'bizarre', 'montpelier', 'somers', 'gadgets', 'vaginal', 'orgasm', 'diana', 'harrington', 'jelke', 'clad', 'shaefer', 'disorder', 'proxy', 'elastic', 'intuitive', 'irons', 'rented', 'adolescents', 'unavailable', 'regards', 'ascertain', 'condemnation', 'fragmentary', 'forties', 'cabins', 'prompted', 'snelling', 'annoyed', 'jist', 'yank', 'laundering', 'lore', 'analyst', 'gravity', 'rattling', 'goulding', 'platoon', 'gunfire', 'ambush', 'barefoot', 'appreciably', 'graduating', 'bathed', 'scraping', 'soak', 'brandy', 'bucket', 'aeration', 'hanoverian', 'conveniently', 'giles', 'typing', 'cosmetics', 'ranchers', 'choked', 'stir', 'discontinued', 'faintly', 'cracks', 'bruised', 'spin', 'prevails', 'preferences', 'fuzzy', 'postulated', 'polar', 'deterministic', 'infringement', 'conceal', 'procedural', 'royalty', 'dei', 'facade', 'corso', 'callous', 'trapped', 'recruitment', 'characteristically', 'engages', 'displeased', 'rooney', 'barren', 'tails', 'menshikov', 'kyoto', 'reflections', 'complicity', 'celtic', 'arena', 'restraining', 'screeching', 'squall', 'aborigine', 'patted', 'eyelids', 'frankfurt', 'palestine', 'refugee', 'environmental', 'ambiguities', 'perceptual', 'serial', 'excitedly', 'forerunner', 'organisms', 'venice', 'epithets', 'wretched', 'quivering', 'hound', 'exalted', 'warriors', 'longed', 'punished', 'defiance', 'configuration', 'dispersed', 'diffraction', 'rendezvous', 'accruing', 'shylock', 'forensic', 'activation', 'psychoanalytic', 'simulated', 'duclos', 'speculate', 'terrestrial', 'discrete', 'olgivanna', 'awaken', 'writ', 'eyed', 'lilian', 'trousers', 'chimney', 'molesworth', 'guild', 'maximization', 'grinning', 'papal', 'rhine', 'streaming', 'surrendered', 'meynell', 'wearily', 'fe', 'suppression', 'tessie', 'saxons', 'quarry', 'apron', 'dystopian', 'hunted', 'booth', 'directory', 'plantations', 'hereunto', 'consequent', 'resistors', 'bulb', 'diaphragm', 'yugoslav', 'restraints', 'bidding', 'gibbs', 'argon', 'parameter', 'symmetric', 'soiled', 'polymerization', 'photochemical', 'meteoritic', 'aerosol', 'centrifuged', 'hr', 'beebread', 'andrena', 'boa', 'supportive', 'denotes', 'antithyroid', 'gall', 'dilution', 'cortex', 'vectors', 'subspace', 'marksman', 'inscribed', 'lemma', 'quadric', 'regression', 'brandywine', 'subgroups', 'descriptive', 'hebephrenic', 'semantic', 'lookup', 'vowel', 'morphophonemic', 'yokuts', 'verbs', 'indices', 'positivist', 'vermejo', 'cubist', 'wallpaper', 'costaggini', 'kitty', 'mussorgsky', 'exit', 'compiler', 'ponds', 'algae', 'protozoa', 'stalked', 'polyether', 'photocathode', 'darkened', 'crouch', 'errand', 'clutched', 'taller', 'violet', 'peaked', 'kahler', 'winking', 'lump', 'groped', 'hallway', 'flannagan', 'glare', 'hugging', 'cough', 'dammit', 'slacks', 'geely', 'gibby', 'paxton', 'willings', 'mullins', 'slick', 'digby', 'macneff', 'gapt', 'siddo', 'hoofs', 'oso', 'kodyke', 'buckskin', 'hez', 'donovan', 'heiser', 'sabella', 'mousie', 'alma', 'dugout', 'fudo', 'catatonia', 'gorboduc', 'distribute', 'surveillance', 'vandiver', 'revolving', 'intends', 'endorse', 'veiled', 'pipeline', 'antonio', 'ponies', 'meager', 'navigation', 'schwartz', 'licensing', 'construed', 'defenders', 'collins', 'newton', 'chapman', 'peanut', 'hays', 'bachelor', 'cod', 'wexler', 'needy', 'totaling', 'appointments', 'conspicuous', 'courteous', 'tenor', 'impetus', 'modifications', 'firmer', 'susceptible', 'educators', 'totalitarian', 'shipped', 'tolerated', 'freeze', 'steamed', 'souvanna', 'relinquish', 'offenses', 'narragansett', 'drifts', 'responding', 'appoint', 'licenses', 'outlets', 'solicitor', 'westfield', 'inject', 'continuance', 'witnessing', 'candidacy', 'mandatory', 'vacancy', 'abraham', 'contend', 'proposing', 'alienated', 'spotlight', 'publicized', 'beaming', 'economist', 'diplomats', 'cordial', 'vantage', 'foes', 'clouded', 'finances', 'towel', 'bids', 'signature', 'contractor', 'consolidated', 'pedestrian', 'outspoken', 'deadline', 'multnomah', 'insuring', 'beaverton', 'breakthrough', 'upwards', 'pastors', 'laymen', 'upheld', 'defendant', 'linking', 'throws', 'doubles', 'whitey', 'popped', 'pitches', 'workout', 'stengel', 'dimaggio', 'dunn', 'ramp', 'someplace', 'conversions', 'touchdown', 'coaching', 'kelsey', 'opener', 'speedy', 'indianapolis', 'louisville', 'rip', 'tagged', 'utah', 'reflexes', 'liston', 'revived', 'nbc', 'finale', 'feat', 'eagles', 'sutherland', 'blazing', 'flowed', 'danny', 'bucks', 'bats', 'runaway', 'healed', 'inscription', 'notre', 'sensational', 'spelled', 'possessing', 'alvin', 'buffet', 'honolulu', 'canceled', 'surgery', 'actress', 'promotional', 'stricken', 'bayonet', 'sentry', 'doings', 'marr', 'cookies', 'innumerable', 'marvel', 'accidentally', 'alpha', 'marie', 'hospitality', 'totals', 'harcourt', 'meyer', 'fraternity', 'katherine', 'attends', 'ashes', 'wiley', 'assaulted', 'zoning', 'ambulance', 'storms', 'werner', 'laborers', 'elmer', 'cherry', 'masonry', 'dreadnought', 'patterned', 'passport', 'wrapping', 'refuses', 'adviser', 'reactors', 'detecting', 'wavelengths', 'criminals', 'stewart', 'jenks', 'johns', 'ledge', 'arrears', 'narrowly', 'vietnamese', 'makeshift', 'siberia', 'ne', 'wallace', 'wilmington', 'ripped', 'scratches', 'ant', 'pierce', 'turner', 'congestion', 'troopers', 'flaming', 'physicians', 'crippling', 'weaknesses', 'grandchildren', 'dividend', 'nevada', 'ribbons', 'assessments', 'wallet', 'rings', 'contributors', 'ashore', 'rescued', 'sinking', 'interfering', 'imprisonment', 'buchheister', 'handing', 'plague', 'wrecked', 'pollution', 'martini', 'quaker', 'ghastly', 'syndicate', 'chiefs', 'caesar', 'leavitt', 'meter', 'bonn', 'bearings', 'banquet', 'salesmanship', 'janice', 'pessimism', 'cautioned', 'sacrifices', 'liable', 'analysts', 'debentures', 'toronto', 'depletion', 'figuring', 'percentages', 'kerosene', 'hiring', 'greer', 'exposition', 'crippled', 'goodbye', 'forsythe', 'tuberculosis', 'wrangler', 'hamburger', 'dip', 'canned', 'tiles', 'outdoors', 'softening', 'snack', 'tucked', 'nostalgic', 'attire', 'vicinity', 'hawaiian', 'robbins', 'linen', 'needles', 'impeccable', 'pasadena', 'residing', 'puppet', 'lamps', 'manipulate', 'relegated', 'displaying', 'props', 'lauderdale', 'lecturer', 'workshops', 'episcopal', 'capitalist', 'yuri', 'auspices', 'senseless', 'villa', 'boasted', 'tease', 'gallons', 'wiping', 'windshield', 'fore', 'caps', 'fireplace', 'paneling', 'liaison', 'rotunda', 'disgusted', 'heightened', 'announcements', 'negotiation', 'toughness', 'debates', 'weakened', 'probe', 'councils', 'secretly', 'episodes', 'strengthened', 'esprit', 'declines', 'intangible', 'nebraska', 'rationale', 'invoked', 'advocating', 'guise', 'invaded', 'mountainous', 'seize', 'noses', 'colmer', 'humphrey', 'perennial', 'disbelief', 'augusta', 'visibly', 'paired', 'whichever', 'rivalry', 'contemptuous', 'downhill', 'drives', 'spurred', 'photographers', 'farrell', 'aching', 'fitzgerald', 'forte', 'lad', 'smothered', 'prizes', 'treasures', 'tentatively', 'lied', 'desegregated', 'successors', 'enrollment', 'uranium', 'unprepared', 'pas', 'succeeding', 'withdrawal', 'preferable', 'dapper', 'aisle', 'pry', 'flattened', 'investments', 'unmarried', 'margins', 'layout', 'apologetically', 'librarians', 'understands', 'geographically', 'insured', 'resolutions', 'retaliation', 'stance', 'dekalb', 'demonstrating', 'schemes', 'chanted', 'repression', 'parkway', 'wartime', 'roam', 'grasslands', 'regulars', 'flourished', 'classify', 'dramas', 'gripping', 'coincided', 'savages', 'bury', 'stealing', 'maze', 'documented', 'assess', 'sprouting', 'breach', 'automation', 'predicting', 'keel', 'shoreline', 'udall', 'sits', 'outlined', 'strife', 'airways', 'floods', 'geographic', 'inaction', 'poise', 'forgiven', 'commotion', 'cartoons', 'earthly', 'saints', 'sadness', 'feather', 'relic', 'thanked', 'jam', 'ambivalent', 'manhood', 'thinker', 'versa', 'duplicate', 'notch', 'parenthood', 'traits', 'fabulous', 'assembling', 'unorthodox', 'thence', 'subordinate', 'artificially', 'futile', 'predecessors', 'fortunes', 'pasted', 'inmates', 'contemplating', 'cohesion', 'righteousness', 'teachings', 'textures', 'throats', 'toothbrush', 'shaving', 'experimented', 'glands', 'manifestation', 'sculptor', 'presentations', 'inexpensive', 'rca', 'complexes', 'seller', 'helper', 'temptations', 'lions', 'goat', 'wears', 'devoid', 'accelerating', 'savior', 'inception', 'brotherhood', 'costing', 'persist', 'cutters', 'packaged', 'laborer', 'omitting', 'inquire', 'refreshing', 'flowering', 'pets', 'hymns', 'rude', 'hough', 'wrongs', 'fortress', 'lash', 'gangs', 'fairness', 'lenin', 'frenzy', 'exceeding', 'ambassadors', 'recourse', 'glenn', 'unpopular', 'demonstrates', 'subjectively', 'spine', 'paralysis', 'dreary', 'stunning', 'greetings', 'abdomen', 'arabic', 'fascination', 'uniformly', 'progressively', 'sickness', 'indicative', 'operative', 'atop', 'grenades', 'rub', 'induction', 'idly', 'virtuous', 'intimately', 'grudgingly', 'practitioners', 'excerpt', 'casts', 'glittering', 'lacks', 'soprano', 'booking', 'juicy', 'bates', 'herds', 'poignant', 'gaunt', 'brightly', 'armstrong', 'clip', 'ecstasy', 'disc', 'jackets', 'volley', 'tingling', 'complied', 'meticulously', 'twists', 'lapse', 'commanders', 'communicative', 'closes', 'vibrant', 'explode', 'berman', 'chords', 'evoke', 'poker', 'biting', 'admirably', 'subtly', 'forthright', 'singly', 'thurber', 'countrymen', 'superimposed', 'robe', 'puny', 'moderately', 'rat', 'pessimistic', 'settlements', 'treason', 'seizure', 'oppression', 'portray', 'pleasures', 'stint', 'technician', 'album', 'sonatas', 'sensual', 'workmanship', 'elaborately', 'contemporaries', 'rococo', 'refined', 'inexplicable', 'operetta', 'thinner', 'overheard', 'sax', 'slapping', 'rodgers', 'delivers', 'elicited', 'highlands', 'affectionate', 'charted', 'interdependence', 'phedre', 'rebut', 'olga', 'astonishingly', 'distrust', 'portrayed', 'hatching', 'solace', 'schwarzkopf', 'wolf', 'extract', 'frost', 'routes', 'placid', 'dakota', 'centennial', 'grounded', 'cliche', 'terminology', 'restoring', 'treacherous', 'originate', 'scarce', 'crutches', 'ingredient', 'deposits', 'slowing', 'molecule', 'characterize', 'underworld', 'potency', 'universally', 'demythologization', 'aligned', 'modernity', 'accepts', 'longest', 'decreasing', 'depicting', 'clergymen', 'identifies', 'willed', 'eternity', 'similitude', 'oyster', 'grandeur', 'insisting', 'suppress', 'blot', 'posterity', 'whereupon', 'shoving', 'canons', 'founders', 'astonished', 'bishops', 'anew', 'sweetly', 'ailments', 'munich', 'pounding', 'sinned', 'stronghold', 'divergent', 'workings', 'pastoral', 'paradigm', 'partition', 'hostility', 'amorphous', 'whatsoever', 'ironically', 'indefinitely', 'deduced', 'distinguishing', 'annihilation', 'frightful', 'attaining', 'agitation', 'compliance', 'magnified', 'modify', 'hawthorne', 'ancestors', 'observance', 'manifested', 'proponents', 'handicap', 'contemplation', 'inhabited', 'disseminated', 'rumors', 'gleaming', 'bodybuilder', 'weider', 'exercising', 'dissatisfied', 'writhing', 'straightening', 'pansy', 'ventilation', 'mulch', 'manure', 'diluted', 'thaw', 'bloomed', 'assures', 'avocados', 'pear', 'dietary', 'attacker', 'airfields', 'propulsion', 'schnabel', 'noises', 'brute', 'handler', 'sportsmen', 'licensed', 'terrier', 'coasts', 'tedious', 'horizons', 'unduly', 'notches', 'levers', 'connecting', 'spacing', 'slot', 'progresses', 'multiplication', 'subtraction', 'liquids', 'caper', 'adios', 'hickory', 'gallon', 'hi', 'deerstalker', 'cartridge', 'carbine', 'compares', 'cocked', 'hunters', 'fragrance', 'shave', 'minced', 'pinch', 'fried', 'strewn', 'pigs', 'apples', 'birthplace', 'uneven', 'filtering', 'midwestern', 'carriages', 'zion', 'loom', 'obelisk', 'burnt', 'emeralds', 'rinse', 'flares', 'popping', 'chili', 'tablespoon', 'tapping', 'bisque', 'decorated', 'stain', 'opaque', 'coil', 'spoon', 'sew', 'nail', 'clamps', 'cottages', 'expandable', 'dusting', 'reversing', 'piers', 'drowned', 'buggy', 'carving', 'piling', 'cling', 'annoying', 'pins', 'ducts', 'upkeep', 'filtered', 'thermostat', 'btu', 'desolate', 'caves', 'topography', 'republics', 'oranges', 'epoch', 'compose', 'expeditions', 'newborn', 'clumsy', 'staggering', 'replaces', 'amplified', 'rotated', 'monster', 'outlines', 'veins', 'stimulate', 'copenhagen', 'supplemented', 'salts', 'calves', 'abortion', 'enzyme', 'reproduction', 'ketosis', 'headaches', 'qualitative', 'inhibition', 'denies', 'vending', 'periodically', 'teen', 'harassed', 'remedies', 'fights', 'turbine', 'lays', 'supplier', 'tubing', 'chipping', 'adhesive', 'sprayed', 'quicker', 'packages', 'bricks', 'scaffold', 'carpenter', 'rue', 'psychotherapy', 'laden', 'decks', 'bellowed', 'clambered', 'cries', 'momentary', 'sandy', 'erosion', 'wastes', 'complexion', 'burlington', 'legendary', 'serenity', 'unhappiness', 'projecting', 'huxley', 'membrane', 'posterior', 'kenneth', 'calderone', 'sexually', 'submitting', 'prostitute', 'hid', 'bey', 'luxurious', 'kidney', 'quackery', 'flashing', 'reich', 'malocclusion', 'dissolve', 'j', 'strangled', 'overcoming', 'betrayal', 'convict', 'sensibilities', 'blurred', 'affirmed', 'calmed', 'axe', 'huts', 'ox', 'barley', 'patriotism', 'myths', 'definitions', 'capone', 'methodically', 'insolence', 'osaka', 'amplitude', 'glowed', 'organism', 'ridden', 'leyte', 'graphic', 'misunderstood', 'pretended', 'newspaperman', 'siege', 'traversed', 'wrists', 'antiseptic', 'weakening', 'healing', 'soaked', 'practicable', 'burgundy', 'planter', 'sofa', 'ax', 'factions', 'pausing', 'drafting', 'soybeans', 'locust', 'islanders', 'strays', 'pilgrims', 'fetch', 'whirled', 'whining', 'sidewise', 'illustrative', 'delinquent', 'erikson', 'socialization', 'polarization', 'transcends', 'explicitly', 'disregard', 'interchange', 'adjunct', 'della', 'shaded', 'agnese', 'uneasily', 'robbers', 'sequences', 'rebuilding', 'perier', 'unfriendly', 'confidential', 'oath', 'countenance', 'vogue', 'masu', 'nara', 'prudence', 'bourbons', 'outbursts', 'internally', 'feudal', 'thinkers', 'telephones', 'fragment', 'sucked', 'starving', 'blinked', 'fella', 'glistening', 'sniffed', 'vaults', 'attribute', 'whigs', 'unreal', 'unwanted', 'syntax', 'impelled', 'reconstruct', 'beckett', 'corresponds', 'buzzing', 'dialectic', 'garments', 'queer', 'scent', 'slit', 'centrally', 'humiliation', 'highroad', 'causal', 'heidenstam', 'parthenon', 'entrepreneur', 'sherlock', 'informs', 'verified', 'exclamation', 'noisy', 'indecent', 'pretense', 'inheritance', 'tenuous', 'reversible', 'neurosis', 'comparisons', 'arp', 'originality', 'bangs', 'reflective', 'contour', 'epicycles', 'velocities', 'astronomical', 'jo', 'tact', 'urgently', 'manley', 'adoniram', 'chattering', 'whig', 'tories', 'pretentious', 'brow', 'stairway', 'recurring', 'hellenic', 'exhibiting', 'venetian', 'interplay', 'lowell', 'sundown', 'whistled', 'coordinates', 'diction', 'comb', 'divan', 'suvorov', 'tribal', 'acropolis', 'uh', 'shattering', 'assassin', 'severed', 'ion', 'riflemen', 'intercept', 'thankful', 'web', 'jug', 'infiltration', 'macbeth', 'shakespearean', 'blake', 'streaks', 'bailiff', 'stratford', 'breasted', 'bewildered', 'sunk', 'rexroth', 'lauro', 'bosis', 'swam', 'focusing', 'centum', 'calibration', 'spectral', 'thermometers', 'users', 'authorizations', 'spoiled', 'rupee', 'groundwave', 'yarns', 'digital', 'manometer', 'interfacial', 'micelle', 'sensors', 'intersect', 'meteorite', 'agglutinin', 'larvae', 'constrictor', 'septa', 'pleura', 'pleural', 'anastomoses', 'arrows', 'ossification', 'fibrosis', 'microscopically', 'cord', 'pseudophloem', 'ns', 'divides', 'tangents', 'referral', 'questionnaires', 'granny', 'schizophrenic', 'orthography', 'gnp', 'maladjustment', 'frivolous', 'pels', 'suspense', 'manuel', 'orvis', 'rangoni', 'forefinger', 'dc', 'rotor', 'metabolite', 'gallium', 'ionizing', 'radiosterilization', 'hesiometer', 'peeling', 'garment', 'foaming', 'intensifier', 'intensifiers', 'amplifier', 'absently', 'sneaked', 'bothering', 'yelling', 'sleepy', 'bong', 'fucken', 'humming', 'coughlin', 'redcoat', 'musket', 'jake', 'dripped', 'snoring', 'mollie', 'mose', 'fritzie', 'creaked', 'flushed', 'thelma', 'beech', 'zenith', 'mast', 'flopped', 'blushed', 'fille', 'unbearable', 'kissing', 'homicide', 'bartender', 'roberta', 'jarrodsville', 'perrin', 'hirey', 'katharine', 'fingerprint', 'bonner', 'clapping', 'darted', 'bitch', 'throttle', 'nellie', 'norberg', 'dipper', 'tightened', 'hernandez', 'matilda', 'gyp', 'tanned', 'doolin', 'prieur', 'boxcar', 'tolley', 'gunny', 'gansevoort', 'shafer', 'gladdy', 'rossoff', 'pegboard', 'populous', 'administrators', 'grady', 'hartsfield', 'pelham', 'interlude', 'precincts', 'signatures', 'unanimous', 'coordinator', 'carey', 'adamant', 'subcommittee', 'enforcing', 'drafted', 'cox', 'parkhouse', 'authorizing', 'schooling', 'authorize', 'betting', 'option', 'dissent', 'retailers', 'texan', 'sway', 'soaring', 'recipients', 'parsons', 'prelude', 'alan', 'nationwide', 'mayer', 'intimidation', 'misuse', 'dismiss', 'entail', 'stays', 'deductible', 'appropriation', 'oslo', 'freer', 'animated', 'clash', 'intellectually', 'surprises', 'diplomat', 'correspondents', 'attachment', 'monumental', 'provocation', 'voiced', 'seato', 'neutralized', 'nugent', 'confronts', 'livelihood', 'reama', 'machinist', 'completes', 'motorists', 'plead', 'scotch', 'tattered', 'mediocre', 'sandman', 'clifford', 'supervisor', 'impinging', 'citation', 'slogans', 'tracts', 'suffrage', 'forecasts', 'siding', 'mortgages', 'sargent', 'shriver', 'banker', 'allocated', 'secretariat', 'boun', 'agenda', 'bordering', 'headache', 'flows', 'forbids', 'arouse', 'allegations', 'affiliations', 'erection', 'bankrupt', 'collects', 'barnard', 'horace', 'redevelopment', 'eastwick', 'clusters', 'reynolds', 'upi', 'ignition', 'firemen', 'bombing', 'overthrow', 'evacuation', 'greeting', 'bulwark', 'editing', 'clarification', 'verbally', 'necessitate', 'capsule', 'fisher', 'oriole', 'heywood', 'southpaw', 'hartman', 'merited', 'escaping', 'runners', 'triple', 'scoring', 'knox', 'petersburg', 'famed', 'hitch', 'coaches', 'expired', 'boarding', 'downed', 'jockey', 'crowding', 'kerr', 'duel', 'thrill', 'quarterback', 'pads', 'kinda', 'longhorns', 'sophomore', 'smu', 'thrusts', 'reserves', 'trinity', 'bulge', 'unofficial', 'pinpoint', 'bunched', 'accounted', 'lightweight', 'diving', 'turk', 'anymore', 'spahn', 'clubhouse', 'gehrig', 'blackout', 'irritable', 'purposely', 'barrage', 'applaud', 'bleachers', 'momentarily', 'columnist', 'relentlessly', 'dodgers', 'franchise', 'tee', 'sponsorship', 'tournaments', 'sportsman', 'fairway', 'gully', 'downstream', 'twelfth', 'rains', 'hemus', 'smoky', 'hartweger', 'clutch', 'glamorous', 'visa', 'molly', 'debutante', 'florence', 'gary', 'scoop', 'doris', 'mink', 'holders', 'dolce', 'vita', 'dynamite', 'misses', 'genial', 'bradford', 'carruthers', 'asset', 'mat', 'steaming', 'chat', 'informally', 'parole', 'suitcases', 'braced', 'satin', 'kappa', 'gamma', 'shirley', 'flared', 'thrift', 'specialties', 'moody', 'boyd', 'monte', 'jerome', 'lynn', 'louise', 'rex', 'hosts', 'fringed', 'edging', 'embroidered', 'simpson', 'supervisors', 'arundel', 'discrepancies', 'councilman', 'dispatched', 'manor', 'amounted', 'sub', 'widowed', 'racket', 'aiming', 'peddler', 'boarded', 'ensued', 'stickney', 'rebuild', 'olive', 'elliott', 'cornell', 'fumes', 'correction', 'truce', 'delhi', 'verify', 'cubans', 'tribunal', 'conforms', 'exempt', 'desiring', 'leon', 'coahr', 'pledged', 'uptown', 'w', 'nancy', 'ronald', 'latch', 'disability', 'computers', 'pact', 'webster', 'peck', 'patterson', 'huntley', 'culminates', 'logging', 'birdie', 'larson', 'teenagers', 'advisors', 'millie', 'furs', 'drawers', 'cabinets', 'sydney', 'pennies', 'celebrating', 'audubon', 'seashore', 'ratification', 'reed', 'willy', 'hurtling', 'maneuver', 'airfield', 'skimmed', 'theologian', 'buddies', 'probing', 'supervise', 'circulating', 'mergers', 'buyers', 'ginning', 'proximity', 'southeastern', 'extraction', 'piping', 'hayes', 'ronnie', 'inflation', 'dares', 'complaining', 'squared', 'selects', 'renting', 'saturation', 'implements', 'economists', 'charitable', 'particulars', 'donor', 'commenting', 'transaction', 'imposition', 'fashions', 'prefers', 'deserts', 'commuting', 'greens', 'repertory', 'hides', 'morocco', 'seasoned', 'sculptured', 'chestnut', 'pedestal', 'silhouettes', 'fanning', 'las', 'vegas', 'slides', 'tapestry', 'rainy', 'ransom', 'puppets', 'tying', 'nondescript', 'decorator', 'housewives', 'flanked', 'batch', 'skip', 'stuffed', 'bandstand', 'coral', 'librarian', 'vows', 'fundamentals', 'altar', 'shapeless', 'refinement', 'soloists', 'chronicle', 'harmless', 'frigid', 'exploring', 'venerable', 'briskly', 'austere', 'fins', 'ok', 'aft', 'americana', 'brevard', 'welcoming', 'tag', 'stripes', 'skyline', 'leisurely', 'exchanges', 'stakes', 'intimated', 'adversary', 'salutary', 'minorities', 'diocesan', 'achieves', 'nourished', 'sparks', 'definitive', 'plagued', 'rig', 'monopolies', 'mechanic', 'injunctions', 'airlines', 'interfered', 'exaggeration', 'chaotic', 'transports', 'lukewarm', 'thereupon', 'leaked', 'smelling', 'phalanx', 'coe', 'hasty', 'awed', 'shaky', 'bogey', 'unmistakably', 'aggressiveness', 'awe', 'mathematically', 'flourish', 'cerv', 'minors', 'ballplayer', 'volunteered', 'vowed', 'appropriately', 'disinterested', 'weeds', 'tooling', 'comedian', 'glimpsed', 'sly', 'ernst', 'classrooms', 'evasive', 'grabbing', 'quarreling', 'geography', 'compassion', 'fearing', 'unrest', 'manifestly', 'motivations', 'kasavubu', 'patrice', 'fragmentation', 'engulfed', 'variously', 'abstention', 'conferred', 'steal', 'beardens', 'silenced', 'crosby', 'distracted', 'unanimity', 'stew', 'menu', 'drab', 'bean', 'ventured', 'luther', 'shrink', 'handwriting', 'miners', 'budgets', 'richest', 'cherish', 'periodicals', 'saves', 'discounts', 'bookkeeping', 'richer', 'fireworks', 'peeled', 'undertaking', 'strengthens', 'removes', 'isolating', 'misgivings', 'valleys', 'wooded', 'glamour', 'faction', 'shortcomings', 'bosses', 'persuading', 'murderers', 'invade', 'inconsistent', 'telegraphers', 'attrition', 'abiding', 'fools', 'algerian', 'unwelcome', 'regulatory', 'uncompromising', 'captive', 'commendable', 'affinity', 'apprehensions', 'hazardous', 'reluctance', 'stagnant', 'faget', 'preposterous', 'screening', 'salvage', 'aloof', 'ridicule', 'lent', 'cunard', 'eagle', 'mobilization', 'slippery', 'borough', 'safeguard', 'downfall', 'permissive', 'cans', 'disciples', 'girlish', 'subsided', 'breathless', 'unworthy', 'believers', 'suffers', 'hammock', 'caressing', 'harshly', 'signaling', 'midday', 'wrap', 'hopped', 'chilly', 'hum', 'peacefully', 'freeways', 'freeway', 'accelerate', 'unequivocally', 'adapt', 'ingenuity', 'incoming', 'revered', 'enlist', 'carvey', 'organizational', 'communese', 'excerpts', 'quotations', 'injecting', 'succumbed', 'glitter', 'paved', 'fills', 'woodwork', 'craftsmanship', 'grandson', 'archaic', 'uttered', 'softness', 'elongated', 'pumps', 'sandals', 'padded', 'symptom', 'baths', 'nehru', 'downs', 'depressing', 'inferiority', 'frauds', 'substitutes', 'uncertainties', 'glances', 'wry', 'fading', 'carts', 'unemployed', 'bald', 'foresight', 'developer', 'beth', 'impractical', 'secondly', 'initiate', 'exasperation', 'sympathetically', 'suffocating', 'greedy', 'bertha', 'incorrect', 'proprietors', 'dupont', 'inaccurate', 'denounce', 'certify', 'terrific', 'swamp', 'stumps', 'desolation', 'cafes', 'converse', 'advantageous', 'lessen', 'expelled', 'widen', 'canon', 'unscrupulous', 'corruptible', 'threatens', 'embark', 'contestants', 'proving', 'intercontinental', 'imitate', 'unfavorable', 'gallant', 'misdeeds', 'predecessor', 'thant', 'dormant', 'neutralism', 'invaders', 'butchery', 'holocaust', 'adherents', 'dismay', 'genetic', 'inhibited', 'fission', 'haul', 'sidewalks', 'viable', 'unwittingly', 'extravagant', 'undeniable', 'formosa', 'coolly', 'liberation', 'contemplated', 'nephews', 'frontiers', 'rape', 'scan', 'owes', 'awkwardly', 'egyptian', 'sailor', 'ripples', 'murky', 'landscapes', 'butts', 'obsession', 'obsessed', 'lust', 'journals', 'liquidated', 'koreans', 'minutemen', 'foggy', 'supremacy', 'unloaded', 'tariff', 'europeans', 'disrupted', 'sr', 'invaluable', 'abused', 'rounding', 'nathan', 'slashing', 'noblest', 'spitting', 'lets', 'overture', 'dietrich', 'operatic', 'devastating', 'planks', 'kitchens', 'tangled', 'squire', 'excellently', 'richness', 'buff', 'teens', 'unfolding', 'tucker', 'sundry', 'clattered', 'xydis', 'priorities', 'choreographed', 'professionally', 'identifiable', 'dizzy', 'cliches', 'groom', 'proficient', 'shriek', 'belligerent', 'christopher', 'whispering', 'sparkling', 'virtual', 'profess', 'plunge', 'prophet', 'metaphor', 'utterance', 'artistically', 'vices', 'complications', 'justly', 'jagged', 'yugoslavia', 'prescribe', 'impeded', 'limbs', 'incidental', 'lush', 'melodic', 'smoothness', 'madrigal', 'revivals', 'couperin', 'concertos', 'shakes', 'chambre', 'baritone', 'chuckle', 'tread', 'attentive', 'evidences', 'photographer', 'throne', 'lenses', 'shine', 'haunches', 'delicacy', 'timid', 'relaxing', 'lullaby', 'premiere', 'arresting', 'transposed', 'mindful', 'accents', 'nagrin', 'triumphant', 'obscurity', 'spruce', 'rall', 'pictorial', 'otter', 'isle', 'marshes', 'lobes', 'widened', 'arnolphe', 'seigner', 'sensuality', 'elman', 'truthfully', 'heroine', 'apollo', 'zest', 'indecision', 'mastered', 'platforms', 'advertisers', 'chronology', 'superseded', 'palette', 'roofs', 'sojourn', 'lyttleton', 'receding', 'whistling', 'contends', 'happenings', 'illuminating', 'lawns', 'balcony', 'additionally', 'volatile', 'refinements', 'ignores', 'astonishment', 'byzantine', 'relentless', 'enterprising', 'planting', 'glinting', 'softer', 'staccato', 'indoors', 'autobiography', 'crane', 'staten', 'pageants', 'cart', 'overweight', 'shingles', 'corinthian', 'poking', 'portago', 'aimless', 'lillian', 'limb', 'existent', 'insignificant', 'transported', 'mystical', 'formulae', 'tenacity', 'surround', 'dispose', 'directs', 'spans', 'obesity', 'lingering', 'puritan', 'immoral', 'appestat', 'insecurity', 'chemically', 'crystalline', 'materially', 'transitional', 'inquiring', 'witch', 'disintegration', 'evokes', 'designate', 'adhered', 'greeks', 'richly', 'barth', 'enthusiastically', 'converts', 'uniqueness', 'primeval', 'portrays', 'woe', 'envied', 'temporal', 'sting', 'indelible', 'penance', 'garrison', 'respecting', 'channing', 'prophecy', 'reminding', 'almighty', 'deceived', 'suffused', 'comprehend', 'geology', 'begotten', 'avenues', 'bedside', 'warts', 'mania', 'psalmist', 'warlike', 'wailing', 'dynasty', 'despotism', 'fullest', 'arbitrarily', 'symbolically', 'activated', 'harmonious', 'tendencies', 'reverence', 'ascribed', 'equated', 'enrich', 'justifiably', 'confuse', 'defines', 'affecting', 'occasioned', 'authoritarian', 'prominence', 'ceylon', 'cairo', 'prevalent', 'repelled', 'risks', 'imputed', 'contingencies', 'incur', 'clothed', 'realtor', 'ambivalence', 'oneself', 'respectability', 'minimized', 'professions', 'professed', 'discouraging', 'physicist', 'counterpoint', 'generalize', 'lowering', 'evangelical', 'walt', 'comply', 'pantheon', 'doctrines', 'theoretically', 'indulgence', 'ephesians', 'righteous', 'instantaneous', 'astounding', 'barbell', 'gotta', 'affords', 'beauties', 'encourages', 'buds', 'pulp', 'refrigerated', 'nutrients', 'appreciable', 'vitamin', 'vibration', 'stealth', 'committing', 'perfected', 'obsolete', 'priceless', 'curzon', 'faithfully', 'vanish', 'intermediates', 'kitten', 'horsepower', 'wherein', 'widths', 'drilled', 'spacers', 'slots', 'underside', 'accessible', 'triangular', 'boring', 'irregularly', 'axle', 'dale', 'gal', 'thrived', 'worms', 'faber', 'martha', 'baffled', 'mocking', 'scales', 'remington', 'edible', 'magnums', 'recoil', 'cartridges', 'scabbard', 'livery', 'creaking', 'orchards', 'hamper', 'westerly', 'medicines', 'primacy', 'tilt', 'ripple', 'roasted', 'walnuts', 'simmer', 'vineyards', 'nuisance', 'pies', 'expanse', 'photo', 'mischief', 'istanbul', 'disappearing', 'bosphorus', 'turks', 'plastered', 'hippodrome', 'rectangular', 'pillars', 'towers', 'sauces', 'hibachi', 'unbreakable', 'sausages', 'chunks', 'craters', 'glazed', 'lids', 'rim', 'candles', 'cardboard', 'marker', 'weaving', 'hotei', 'fiberglas', 'chines', 'installing', 'drains', 'timbers', 'radial', 'securely', 'newburyport', 'salisbury', 'jonathan', 'travels', 'roadway', 'philippi', 'retreating', 'grafton', 'centering', 'colder', 'dictated', 'pertaining', 'trunks', 'enjoined', 'latitude', 'refreshed', 'conditioners', 'encroachment', 'checking', 'serge', 'mistress', 'fluent', 'novelty', 'homogeneity', 'shabby', 'washes', 'easel', 'connotation', 'athletes', 'traverse', 'outputs', 'receivers', 'boyhood', 'surveyor', 'lodging', 'pharmacy', 'divisive', 'fertile', 'disorganized', 'faculties', 'esteem', 'fuse', 'polarity', 'scours', 'severity', 'aureomycin', 'infections', 'milligram', 'consuming', 'mechanized', 'enhance', 'beverage', 'politeness', 'furnishes', 'extant', 'shortsighted', 'suffice', 'uninterrupted', 'relying', 'checkbook', 'alleviate', 'migration', 'comforts', 'badge', 'evaluations', 'oakwood', 'shocks', 'entrenched', 'polyester', 'shielded', 'changeable', 'unitized', 'unloading', 'palaces', 'lofty', 'seating', 'cute', 'peanuts', 'programming', 'perverse', 'linguistics', 'psychiatric', 'psychiatrists', 'flags', 'stressing', 'poisonous', 'vile', 'raids', 'vesole', 'beacon', 'wakeful', 'perpetuate', 'escorted', 'orator', 'northward', 'labored', 'barre', 'aviation', 'englander', 'waco', 'safer', 'visibility', 'wishing', 'hazy', 'forestall', 'joking', 'caresses', 'anterior', 'facilitate', 'censorship', 'bump', 'ironing', 'farouk', 'gushed', 'gamblers', 'chloride', 'twirling', 'prescription', 'stephens', 'prosecuted', 'suck', 'susie', 'appliance', 'disrupt', 'experimenter', 'empirically', 'z', 'intrinsic', 'locality', 'drought', 'corpses', 'legally', 'catharsis', 'recollection', 'czechoslovakia', 'unspeakable', 'procreation', 'clenched', 'strait', 'patched', 'sworn', 'kingston', 'daer', 'lucian', 'thicker', 'figurative', 'stationed', 'rebs', 'stereotyped', 'ass', 'rationalize', 'incarnation', 'culturally', 'acutely', 'shudder', 'cicero', 'lethal', 'waiters', 'buckle', 'proliferation', 'catastrophic', 'swivel', 'co', 'custer', 'hurling', 'battlefield', 'oppressed', 'abreast', 'reputed', 'backwoods', 'decisively', 'rattle', 'thumping', 'shutters', 'blackened', 'beards', 'ancestral', 'outing', 'academically', 'generates', 'fran', 'coolness', 'proverb', 'glycerine', 'itch', 'steeped', 'inscrutable', 'allowable', 'chilling', 'humane', 'apologized', 'appointees', 'critically', 'debated', 'tenant', 'cropped', 'ski', 'chopping', 'punch', 'penn', 'corral', 'inquest', 'rhetoric', 'hardships', 'soybean', 'constituent', 'fibrous', 'stony', 'hosses', 'lieu', 'resorted', 'hoss', 'loveless', 'sounder', 'thickly', 'stamping', 'ducked', 'scant', 'tossing', 'kidneys', 'shone', 'trolley', 'groping', 'hanch', 'skillfully', 'denoting', 'uneasiness', 'northerners', 'registers', 'outreach', 'motifs', 'tuition', 'espionage', 'gaily', 'wits', 'eldest', 'exploitation', 'scornful', 'wrecking', 'unreconstructed', 'therefrom', 'claimants', 'coincides', 'homeland', 'elapsed', 'continual', 'obnoxious', 'guarded', 'thickened', 'swooped', 'bivouac', 'lugged', 'upstream', 'alcoves', 'cheerfully', 'merging', 'deference', 'individualized', 'choreographer', 'contradictions', 'intensities', 'ching', 'evolve', 'cunningham', 'transitions', 'hostilities', 'communes', 'godot', 'sharpened', 'humility', 'tweed', 'kneel', 'lipton', 'mystique', 'tame', 'psychoanalysis', 'negation', 'enhanced', 'drugged', 'y', 'tubs', 'pots', 'enchanted', 'spire', 'cunning', 'jacoby', 'disguise', 'catastrophes', 'humanism', 'intellect', 'interrelated', 'scepticism', 'enroll', 'grouped', 'acquiescence', 'coherent', 'procession', 'advent', 'moriarty', 'measurable', 'endeavors', 'fervent', 'mineralogy', 'utopians', 'stimuli', 'aberrant', 'powders', 'competently', 'bout', 'capacities', 'uncanny', 'grigorss', 'fisherman', 'overrun', 'wasting', 'flemish', 'jason', 'pendleton', 'habitual', 'lyford', 'irritated', 'diurnal', 'distinguishes', 'resultants', 'approximated', 'mustache', 'unwillingness', 'sadie', 'warrants', 'constable', 'mattered', 'maternal', 'indulged', 'sparse', 'kneeling', 'transactions', 'hairy', 'glared', 'blasphemous', 'asserts', 'showered', 'courtier', 'monacle', 'allusions', 'herford', 'baer', 'shadowing', 'fruitless', 'brandishing', 'coroner', 'banister', 'emmett', 'swirled', 'legacy', 'differentiated', 'stoicism', 'reformation', 'romantics', 'blenheim', 'bicycle', 'kindness', 'brows', 'cock', 'mando', 'huh', 'entitle', 'chaplain', 'hemorrhage', 'bequest', 'exceeded', 'revise', 'gosson', 'rabbits', 'periphery', 'arbiter', 'nasty', 'alpert', 'kemble', 'lappenberg', 'ranking', 'ctca', 'immaculate', 'estates', 'exchequer', 'monei', 'yow', 'ther', 'mee', 'bancroft', 'hys', 'unseen', 'adventurous', 'gantry', 'deacon', 'prolusion', 'banter', 'skepticism', 'apocalyptic', 'budd', 'ghettos', 'disfigured', 'dozed', 'ghosts', 'neglecting', 'garages', 'situs', 'leesona', 'installment', 'morphological', 'mammalian', 'atmospheres', 'shutter', 'interstellar', 'reproducible', 'gradients', 'conductivity', 'hereinafter', 'backlog', 'shielding', 'maximizing', 'decrees', 'needing', 'cochannel', 'constancy', 'unifil', 'uniconer', 'retailing', 'devey', 'sloanaker', 'reflector', 'mm', 'graphite', 'electrode', 'elasticity', 'deformation', 'curvature', 'dipole', 'polyphosphates', 'micelles', 'interfaces', 'quantum', 'pyrex', 'flask', 'inversely', 'micrometeorites', 'inverse', 'microns', 'intentional', 'bw', 'inert', 'ulcer', 'electrophoresis', 'ultracentrifugation', 'abo', 'rh', 'donors', 'homozygous', 'min', 'pussy', 'catkins', 'hatch', 'psithyrus', 'rattlesnakes', 'hilum', 'shunts', 'onsets', 'epiphysis', 'potassium', 'organification', 'uptake', 'anemia', 'marrow', 'neutrophils', 'mucosa', 'conjugated', 'rinsing', 'neocortex', 'pertains', 'reassured', 'helplessness', 'aimo', 'receptionist', 'modifier', 'phonology', 'aberrations', 'balafrej', 'loadings', 'awoc', 'plaintiff', 'catskill', 'noticing', 'dismounted', 'whereabouts', 'drugstore', 'marsden', 'warrior', 'shreds', 'pozzatti', 'pimen', 'gasping', 'mityukh', 'worrying', 'gertrude', 'soles', 'shouts', 'equ', 'duf', 'antisubmarine', 'hydrolysis', 'tektites', 'solvent', 'criticality', 'crystallographic', 'sterilization', 'irradiated', 'accelerator', 'flexural', 'tensile', 'laundry', 'template', 'coupler', 'optimality', 'gyros', 'torque', 'torquer', 'servo', 'autocollimator', 'sprawling', 'biscuits', 'phoned', 'sighing', 'sweaty', 'blackness', 'seward', 'dingy', 'trembled', 'yanked', 'shuddered', 'screeched', 'slater', 'favre', 'bern', 'drizzle', 'greatcoat', 'ole', 'mumbled', 'wanna', 'gasped', 'moll', 'hoarse', 'gasps', 'scented', 'hook', 'grabski', 'overcoat', 'parted', 'curly', 'joyous', 'striped', 'stockings', 'crib', 'froze', 'shovel', 'stowey', 'scrawled', 'knocking', 'leona', 'lavender', 'lurched', 'dived', 'kittens', 'emile', 'plowed', 'overalls', 'brian', 'fumbled', 'needham', 'calenda', 'jaguar', 'plumb', 'anta', 'grok', 'martian', 'earthmen', 'dromozoa', 'fiske', 'aricaras', 'bale', 'flicked', 'vaudeville', 'kruger', 'maguire', 'conchita', 'arbuckle', 'burnsides', 'nate', 'sante', 'grafin', 'hettie', 'bleached', 'manu', 'cheekbones', 'pompeii', 'kizzie', 'adelia', 'sunburn', 'diego', 'reuveni', 'askington', 'walitzee', 'thom', 'tuxapoka', 'acala', 'furrow', 'richert', 'kafka', 'ivan', 'outmoded', 'modernizing', 'jurors', 'guardians', 'griffin', 'adjournment', 'reconsideration', 'emphasizing', 'coolest', 'keynote', 'impair', 'excise', 'brokers', 'cotten', 'grover', 'math', 'denton', 'principals', 'illegitimacy', 'burglary', 'prejudicial', 'salinger', 'wording', 'coercion', 'vindication', 'complementary', 'mammoth', 'unspecified', 'weaver', 'disapprove', 'portugal', 'global', 'exploratory', 'affirmation', 'ratified', 'coordinating', 'docile', 'thailand', 'verification', 'assailed', 'exile', 'fiasco', 'blended', 'acclaimed', 'complication', 'phouma', 'trusting', 'regulating', 'dating', 'conservatives', 'voter', 'steered', 'favoring', 'timetable', 'sanitary', 'campaigning', 'republicanism', 'trenton', 'congealed', 'centralization', 'defends', 'ike', 'condemning', 'giveaway', 'prop', 'sagging', 'warden', 'courageous', 'bloodstream', 'onrush', 'conquer', 'levitt', 'assent', 'incumbent', 'dormitories', 'stalled', 'ghana', 'sukarno', 'intensified', 'plenary', 'pfaff', 'shrines', 'archives', 'helm', 'lawmakers', 'companionship', 'hike', 'normalcy', 'unnoticed', 'disclosures', 'sued', 'intervened', 'violated', 'headline', 'goodis', 'occupancy', 'testifies', 'compensated', 'davenport', 'manslaughter', 'fined', 'violating', 'eliminates', 'stanton', 'tnt', 'coup', 'northwestern', 'melvin', 'edith', 'vacated', 'truths', 'immigrant', 'denials', 'conspirators', 'hyde', 'tuttle', 'throneberry', 'fanned', 'tally', 'baseman', 'lumpe', 'jackie', 'blasted', 'scoreboard', 'rapped', 'ron', 'slugged', 'melt', 'hitters', 'hoyt', 'wilhelm', 'roland', 'streamlined', 'celebrate', 'nightfall', 'inflicted', 'clint', 'thirds', 'indoor', 'housewife', 'eleventh', 'longhorn', 'stamford', 'gratification', 'gannon', 'huddle', 'stram', 'tactic', 'spree', 'innings', 'mcauliffe', 'smash', 'tripled', 'ranked', 'liner', 'outfielder', 'jensen', 'newsmen', 'speculating', 'ensign', 'ritchie', 'tongues', 'pastime', 'milestone', 'rookies', 'televised', 'terminated', 'reds', 'humiliating', 'yanks', 'reconsider', 'convince', 'flushing', 'kathy', 'gardner', 'golfers', 'frustrations', 'sliced', 'heartening', 'embankment', 'embedded', 'pirate', 'recovering', 'nordmann', 'commended', 'bradley', 'quincy', 'slugger', 'behaving', 'reserving', 'thrilling', 'possessive', 'polo', 'bulletins', 'bruce', 'aunts', 'geraghty', 'acclaim', 'glamor', 'simon', 'charities', 'tarzan', 'suites', 'shoup', 'butler', 'campbell', 'alcoholics', 'withdrawn', 'summertime', 'onslaught', 'influx', 'roadside', 'peculiarities', 'hospitable', 'judith', 'cater', 'baird', 'arlington', 'featuring', 'philmont', 'combo', 'secretarial', 'aides', 'allan', 'lacy', 'wheeler', 'smythe', 'posters', 'evelyn', 'janssen', 'godwin', 'jordan', 'trimmed', 'beads', 'mechanically', 'pullen', 'schaefer', 'clearance', 'chesapeake', 'skipjack', 'gee', 'houghton', 'transmitter', 'fuchs', 'undeveloped', 'vic', 'reputedly', 'outrun', 'teller', 'sokol', 'addicts', 'creditable', 'eyebrow', 'wabash', 'dunbar', 'wilmette', 'speeding', 'foreman', 'elsie', 'aftermath', 'pall', 'surpluses', 'fondness', 'kimmell', 'showdown', 'laotian', 'assaults', 'tribunals', 'collaborators', 'rio', 'endowments', 'willard', 'worded', 'contacted', 'killingsworth', 'nw', 'resisting', 'wistfully', 'pest', 'macon', 'renew', 'brett', 'cohn', 'culmination', 'wick', 'jossy', 'hutchins', 'bedrooms', 'dumping', 'rubbish', 'fender', 'quota', 'bestowal', 'raft', 'juror', 'masked', 'marin', 'runway', 'altitude', 'streaked', 'banked', 'endorsed', 'obligated', 'jolt', 'complacency', 'glimco', 'janitor', 'gangsters', 'suppressed', 'gregorio', 'hottest', 'underwriters', 'priced', 'resistant', 'weighs', 'lint', 'whitney', 'neal', 'potter', 'woodrow', 'draper', 'alto', 'inappropriate', 'dow', 'envisioned', 'creations', 'holdings', 'subordinated', 'doyle', 'foreseeable', 'rebuffed', 'fertilizer', 'chemicals', 'iowa', 'deducted', 'suspects', 'invoking', 'challenges', 'cadet', 'plaques', 'silhouette', 'isles', 'tribe', 'adept', 'trout', 'flourishes', 'gravy', 'spice', 'robes', 'baking', 'tiled', 'decorating', 'chests', 'poster', 'gleam', 'motto', 'chartered', 'grammar', 'denote', 'tudor', 'panama', 'reminiscent', 'decorators', 'craftsmen', 'innate', 'specializing', 'nightclubs', 'flip', 'jolly', 'cabana', 'tahoe', 'rapport', 'decor', 'steaks', 'preclude', 'smallwood', 'ballets', 'gables', 'jorge', 'bedtime', 'ordained', 'winners', 'friendliness', 'frankness', 'piety', 'sparkle', 'incomparable', 'virile', 'lilac', 'fairy', 'sumptuous', 'toy', 'warehouse', 'rehearsal', 'immorality', 'glories', 'moderates', 'ussr', 'chrome', 'nozzle', 'tipped', 'doorman', 'duncan', 'phyfe', 'descendants', 'tranquility', 'jacqueline', 'demolished', 'nuns', 'teenage', 'baldrige', 'bales', 'perched', 'alexandria', 'ignoring', 'implement', 'denunciation', 'compel', 'awakening', 'formulating', 'advisability', 'directorate', 'erroneous', 'instincts', 'evolutionary', 'aptly', 'detachment', 'subsidized', 'clustered', 'collegiate', 'pictured', 'recruiting', 'coveted', 'underestimate', 'forbid', 'allegedly', 'undefined', 'uncontrolled', 'penalties', 'empires', 'untrammeled', 'reacting', 'imposes', 'outlawed', 'enacting', 'interrupt', 'understatement', 'bennington', 'calamity', 'intrigue', 'campaigned', 'modification', 'mishap', 'wedge', 'composure', 'pensacola', 'rosburg', 'birdied', 'mar', 'chipped', 'gregory', 'doubly', 'jeopardy', 'thwarted', 'weigh', 'sinatra', 'entourage', 'hearty', 'fabian', 'classmates', 'slob', 'enigma', 'eccentricity', 'fabled', 'lavishly', 'charlayne', 'kimpton', 'pondered', 'beadle', 'idealist', 'researchers', 'gunmen', 'dialects', 'colonialism', 'generale', 'moise', 'obstructed', 'initiating', 'withdrawing', 'picks', 'nationalist', 'chiang', 'rickards', 'nap', 'augustine', 'baggage', 'bearden', 'slugs', 'unarmed', 'peacetime', 'speculations', 'tending', 'attracting', 'olivetti', 'infrequent', 'welsh', 'mechanization', 'nonfiction', 'startlingly', 'thriving', 'inclusive', 'backbone', 'repository', 'billing', 'documentary', 'nightingale', 'conducts', 'prepares', 'publishes', 'newsletter', 'congratulate', 'dictum', 'wolves', 'extremity', 'africans', 'nurses', 'assassination', 'repulsive', 'benefactor', 'demise', 'oppressive', 'displeasure', 'amply', 'illustrating', 'barricades', 'adenauer', 'stiffening', 'viewer', 'issuing', 'bluffs', 'growl', 'sensibly', 'calvin', 'meditations', 'surrendering', 'propel', 'seminar', 'millennium', 'incompetence', 'rations', 'hangs', 'interama', 'ventures', 'arisen', 'aging', 'firmness', 'rewrite', 'extremists', 'capitalize', 'confusions', 'preamble', 'collectively', 'responsive', 'wedded', 'basing', 'snowy', 'arduous', 'accountability', 'dalton', 'controversies', 'gravest', 'vest', 'concurrence', 'sewers', 'enlargement', 'villains', 'stamps', 'shines', 'jealousy', 'matthew', 'saith', 'seventy', 'pulpit', 'satisfactions', 'sinners', 'auction', 'consummated', 'rebuff', 'incipient', 'lanes', 'pedal', 'psychiatrist', 'rituals', 'uncover', 'outgrow', 'embroidery', 'naturalistic', 'darned', 'stalwart', 'henceforth', 'rampant', 'strategists', 'audible', 'committeemen', 'deluge', 'tass', 'datelined', 'crush', 'armaments', 'proverbial', 'cyrus', 'dove', 'convicts', 'occupant', 'apologies', 'carpets', 'beebe', 'frelinghuysen', 'attested', 'manuscripts', 'baptism', 'spelling', 'rapidity', 'gamut', 'overlook', 'cushioning', 'weave', 'dentists', 'bristles', 'gums', 'gadget', 'numb', 'sciatica', 'esoteric', 'dover', 'impart', 'feverish', 'magician', 'marksmanship', 'considerate', 'homecoming', 'strolled', 'ache', 'strolling', 'woolen', 'distressed', 'makings', 'debating', 'grossly', 'oversimplified', 'utilizes', 'irving', 'ensuing', 'curtail', 'hospitalization', 'sheltered', 'masaryk', 'jan', 'subsidize', 'criticize', 'unwarranted', 'concur', 'harmful', 'affiliation', 'sediments', 'mayflower', 'mistrust', 'disapproved', 'snatch', 'prohibiting', 'fountains', 'murderous', 'ducks', 'austria', 'expulsion', 'undone', 'affirmative', 'servicing', 'pilgrim', 'negligence', 'inflict', 'dictators', 'dislikes', 'calisthenics', 'morrison', 'discontinuity', 'urbanized', 'chagrin', 'avail', 'instability', 'buddhist', 'dogma', 'chevrolet', 'mobilized', 'dump', 'pistols', 'traitors', 'accorded', 'baptists', 'ornament', 'sanity', 'blasts', 'foreboding', 'indeterminate', 'bind', 'resuming', 'contamination', 'justifiable', 'purification', 'designation', 'vatican', 'canterbury', 'tightening', 'pervasive', 'dreamy', 'redundant', 'liberate', 'commune', 'gladly', 'puzzles', 'premieres', 'wildcat', 'unsinkable', 'diary', 'prevalence', 'grecian', 'burgeoning', 'familial', 'graces', 'maniac', 'orchestras', 'sends', 'ecstatic', 'provokes', 'hurok', 'gypsy', 'lithe', 'brazilian', 'sweaters', 'austrian', 'schiele', 'grotesquely', 'disgusting', 'homemade', 'sexuality', 'unrelieved', 'interminable', 'rents', 'quarrels', 'variant', 'deteriorated', 'bully', 'enver', 'misty', 'lauchli', 'skirmish', 'grouping', 'cleverly', 'enviable', 'taverns', 'substituting', 'impending', 'flown', 'sufferer', 'fundamentalist', 'dogmatism', 'doctored', 'transcript', 'tapes', 'glibly', 'estimation', 'godkin', 'marred', 'incoherent', 'milstein', 'violinist', 'orchestral', 'bayreuth', 'howl', 'notified', 'affluence', 'courtiers', 'impress', 'eliot', 'flyer', 'saddled', 'quixote', 'performs', 'nobility', 'armor', 'soberly', 'tempo', 'complexities', 'abetted', 'dubbed', 'subtleties', 'helpfully', 'concludes', 'finely', 'photographed', 'trimmings', 'wee', 'cheers', 'disconcerting', 'waxed', 'sextet', 'immersed', 'fullness', 'bel', 'serviceable', 'percussion', 'interiors', 'gospels', 'noisily', 'directness', 'felicity', 'smack', 'lewisohn', 'keyboard', 'weighted', 'jungles', 'burmese', 'anecdotes', 'tireless', 'scanty', 'logistics', 'unsettled', 'ingratiating', 'specialty', 'playhouse', 'epitaph', 'eroded', 'fiorello', 'rudy', 'chieftain', 'hurrying', 'verve', 'splendidly', 'springtime', 'castles', 'trenchant', 'penned', 'platonism', 'jocular', 'unifying', 'alphabetical', 'exaggerating', 'veritable', 'virginian', 'quotation', 'banged', 'exposing', 'corrosion', 'outrage', 'wharf', 'populace', 'topical', 'unconditional', 'shocking', 'persuasive', 'criminality', 'sulky', 'prejudices', 'cynicism', 'resolute', 'baffling', 'lightened', 'donnybrook', 'dross', 'joshua', 'lucid', 'evenly', 'whine', 'skolovsky', 'methodical', 'decaying', 'melodious', 'texts', 'bam', 'occupies', 'disks', 'bach', 'tutor', 'satiric', 'plump', 'applauded', 'rainbow', 'flapped', 'combed', 'microphones', 'striving', 'infected', 'carrots', 'glimpses', 'drumming', 'nikolais', 'diversions', 'menacing', 'subscription', 'westchester', 'treasure', 'delightfully', 'gaieties', 'incisive', 'parody', 'hinges', 'tenderly', 'conveys', 'camusfearna', 'dolphins', 'furnishing', 'travelled', 'catalogued', 'revolved', 'manages', 'contradict', 'repeats', 'experimenters', 'stately', 'jouvet', 'ledoux', 'tartuffe', 'laughs', 'scapin', 'django', 'jealous', 'labeling', 'gregarious', 'loveliness', 'deux', 'engrossing', 'zealous', 'pons', 'rewards', 'quotes', 'solidity', 'flapping', 'presumptuous', 'plasticity', 'extrapolated', 'moderator', 'bonnor', 'jargon', 'telescope', 'beatie', 'proclaims', 'clods', 'antagonistic', 'twilight', 'redundancy', 'ado', 'wollman', 'bravely', 'coy', 'melodramatic', 'leaps', 'armchair', 'inherit', 'pastry', 'connoisseur', 'savory', 'petals', 'mansions', 'andrea', 'environs', 'stucco', 'velvet', 'salient', 'hopping', 'maritime', 'quieter', 'groves', 'brightest', 'saratoga', 'rye', 'jets', 'gem', 'hurts', 'weighty', 'mule', 'horrors', 'pitiful', 'maestro', 'capes', 'inland', 'playground', 'salty', 'yacht', 'eastward', 'rigs', 'dam', 'erich', 'marquis', 'labour', 'fumbling', 'gaulle', 'studded', 'loudest', 'banish', 'indescribable', 'diabetes', 'malnutrition', 'parasites', 'jolliffe', 'subconscious', 'seals', 'fatally', 'user', 'experiential', 'rightly', 'unfolds', 'proctor', 'bultmann', 'infatuation', 'cultured', 'scripture', 'restatement', 'apostolic', 'tenable', 'fawkes', 'warehouses', 'nationalistic', 'vicar', 'respectful', 'periodical', 'rained', 'imperfect', 'disobeyed', 'proclaiming', 'betray', 'excommunicated', 'naming', 'bravery', 'mobs', 'abolitionists', 'individuality', 'genteel', 'prophesied', 'tides', 'assuredly', 'admiring', 'genesis', 'textbook', 'affections', 'discern', 'bliss', 'drowning', 'gnawing', 'psalm', 'tranquilizers', 'promotes', 'belongings', 'profanity', 'threefold', 'behold', 'centrality', 'cults', 'functionally', 'mirrors', 'interrelation', 'tao', 'psychologically', 'participant', 'cultivation', 'splinter', 'dispense', 'intrinsically', 'juncture', 'nurture', 'repudiation', 'rejoicing', 'reconsidered', 'jurists', 'intentionally', 'watches', 'finality', 'balancing', 'outweighed', 'deriving', 'detrimental', 'responsiveness', 'communal', 'fragmented', 'prejudiced', 'clauses', 'embraces', 'bearer', 'snowing', 'spheres', 'nantucket', 'allegiance', 'drunkenness', 'quakers', 'benevolence', 'paralleled', 'ephemeral', 'incessant', 'dogmatic', 'devout', 'compromising', 'weld', 'transmuted', 'awesome', 'eminence', 'supremely', 'offend', 'disasters', 'taoism', 'ethos', 'synonymous', 'promoters', 'antipathy', 'strove', 'supernaturalism', 'hwang', 'pah', 'torrent', 'pragmatic', 'reconcile', 'amongst', 'blinded', 'believer', 'miraculous', 'philanthropic', 'catherine', 'braces', 'paredon', 'montreal', 'incline', 'chisel', 'lunge', 'lifters', 'gardener', 'coldest', 'protects', 'decayed', 'heaving', 'tomato', 'excelsior', 'lapses', 'versatility', 'runways', 'supersonic', 'arte', 'adrian', 'sheds', 'delicious', 'shading', 'compliments', 'scrawny', 'purported', 'innovations', 'environments', 'quantitatively', 'giselle', 'brilliance', 'kc', 'barcus', 'danes', 'markedly', 'watering', 'smartly', 'toilets', 'galleys', 'purchasers', 'encompass', 'burdened', 'reorganized', 'lengthwise', 'solder', 'scribe', 'mated', 'rodding', 'remotely', 'subtracted', 'valves', 'gasket', 'calculate', 'irregularity', 'hopples', 'hustler', 'shooter', 'ruger', 'flurry', 'brands', 'tubular', 'tang', 'optional', 'tiring', 'sandwiches', 'hissing', 'roulette', 'groomed', 'kedgeree', 'celery', 'nutmeg', 'glistened', 'clump', 'denouncing', 'haunt', 'garlic', 'syrup', 'unbelievable', 'peerless', 'ethan', 'winooski', 'locales', 'stroll', 'overgrown', 'boyish', 'cowboys', 'autos', 'forts', 'tulip', 'panorama', 'minarets', 'pagan', 'temples', 'justinian', 'emperors', 'sultans', 'lettering', 'swords', 'shorten', 'diagonally', 'coolers', 'hamburgers', 'threaded', 'sized', 'skinless', 'sauerkraut', 'onions', 'teaspoon', 'rectangle', 'cupped', 'warping', 'overlap', 'creamer', 'stitches', 'backstitch', 'sock', 'galley', 'cruiser', 'hauling', 'fasten', 'floorboards', 'modular', 'mesh', 'coated', 'attachments', 'drills', 'cutter', 'newbury', 'petitioned', 'merrimack', 'politic', 'supervised', 'portsmouth', 'fayette', 'rebuilt', 'parkersburg', 'reasoned', 'fantasies', 'localities', 'filters', 'blower', 'circulated', 'safest', 'draperies', 'insulated', 'investigator', 'potentials', 'overlooks', 'shrubs', 'coastal', 'ascending', 'aristocracy', 'submission', 'treaties', 'disciplines', 'tenderness', 'instrumentation', 'traditionalist', 'disparate', 'unfolded', 'rigors', 'extracting', 'imparted', 'engraved', 'cleansing', 'soften', 'umber', 'medals', 'gymnasts', 'gymnastic', 'abdominal', 'microscopy', 'wavelength', 'advancing', 'heartbeat', 'resonant', 'scanning', 'diameters', 'denmark', 'corresponded', 'chemists', 'analogies', 'additives', 'sanctioned', 'veterinary', 'hydrochloride', 'dynafac', 'diethylstilbestrol', 'extracts', 'phenothiazine', 'worm', 'distributors', 'beats', 'adhere', 'carpentry', 'tolerate', 'restricting', 'entitles', 'commensurate', 'alerting', 'bereavement', 'containers', 'rods', 'willingly', 'rebelled', 'gage', 'classifications', 'equivalence', 'metered', 'coolant', 'radiator', 'reductions', 'vinyl', 'polyethylene', 'expectancy', 'obstruct', 'characterizes', 'cemented', 'corrugated', 'bathtub', 'drywall', 'capitals', 'travelling', 'sedans', 'limousine', 'chauffeur', 'skimming', 'knotted', 'cetera', 'scientifically', 'pronouns', 'stammered', 'freighter', 'berth', 'mole', 'ammo', 'inhumane', 'shiver', 'musmanno', 'fluttering', 'airports', 'imbedded', 'scorn', 'psychical', 'clasping', 'overwhelmed', 'subconsciously', 'unexplained', 'depew', 'lends', 'pails', 'cabbage', 'eyeing', 'cereals', 'liberally', 'hens', 'underfoot', 'hikes', 'swirling', 'crumpled', 'terminals', 'inaugurated', 'backers', 'postmaster', 'knack', 'hem', 'rugs', 'mosaic', 'hobby', 'clippings', 'burrow', 'sameness', 'consummation', 'virginity', 'manuals', 'reflex', 'asserting', 'submissive', 'unhealthy', 'cheated', 'counselor', 'monopolize', 'schillinger', 'hover', 'brew', 'halls', 'littered', 'knowingly', 'squeezing', 'shrieked', 'ailment', 'distributing', 'strychnine', 'relies', 'protruded', 'predisposition', 'narrowing', 'jumble', 'malformed', 'alignment', 'births', 'mediums', 'esp', 'tabulated', 'visually', 'profitably', 'ss', 'hungary', 'infamous', 'abyss', 'awakened', 'poisoned', 'memoirs', 'contraceptives', 'spouses', 'frustrate', 'contraception', 'arctic', 'tantalizing', 'recruited', 'unexplored', 'staffe', 'explorer', 'misconception', 'iceland', 'turbulent', 'inlet', 'passageway', 'java', 'headwaters', 'grasshoppers', 'pembina', 'warmer', 'bushels', 'patron', 'slowness', 'twister', 'escapes', 'blots', 'owing', 'exploits', 'comrade', 'corporal', 'heterogeneous', 'propagandistic', 'propagandists', 'administering', 'interwoven', 'thieving', 'rowdy', 'gag', 'platinum', 'unimpressed', 'booze', 'stead', 'pounded', 'dwarf', 'swells', 'hilo', 'gratified', 'disregarded', 'hurled', 'jerky', 'apaches', 'rifleman', 'bucking', 'pinned', 'bellow', 'slamming', 'toad', 'lethargy', 'keo', 'philippines', 'vigilance', 'puffed', 'lard', 'salted', 'sprinkled', 'turpentine', 'scalp', 'saliva', 'itching', 'bathe', 'corrosive', 'defied', 'bandage', 'wetting', 'crus', 'claret', 'wicker', 'dregs', 'gorham', 'unnamed', 'rejecting', 'apprehensively', 'unborn', 'comptroller', 'rightful', 'voyageurs', 'kisses', 'intercollegiate', 'lounging', 'casting', 'charters', 'quarreled', 'hatchet', 'flint', 'eclipses', 'marketable', 'statistically', 'confidentially', 'plumber', 'orient', 'flakes', 'oilseeds', 'detergents', 'starch', 'beverages', 'fermented', 'stampede', 'cowhand', 'dazed', 'stripe', 'rustler', 'rustle', 'gallop', 'crackers', 'ropes', 'strung', 'gelding', 'tensely', 'rover', 'eminently', 'derision', 'taunt', 'risked', 'daddy', 'ingested', 'sonofabitch', 'conceptual', 'superimpose', 'diffuse', 'inventors', 'antiquated', 'retort', 'embraced', 'inventions', 'navona', 'civilizations', 'augustus', 'doric', 'julius', 'raphael', 'northerner', 'torment', 'melies', 'pail', 'exodus', 'deceptive', 'replenish', 'assimilated', 'perpetuating', 'informing', 'captivity', 'habitants', 'chickasaws', 'whispers', 'stale', 'karamazov', 'sheik', 'israeli', 'unafraid', 'friendships', 'meddling', 'inferences', 'societal', 'standardized', 'watersheds', 'consoles', 'circuits', 'dangling', 'ridges', 'blink', 'squatted', 'powerfully', 'sweating', 'isfahan', 'persia', 'pavilion', 'mountainside', 'boughs', 'descend', 'filmed', 'teddy', 'marlowe', 'inducing', 'hereafter', 'um', 'relinquished', 'kulturbund', 'bruckner', 'introduces', 'confederation', 'upholding', 'blissful', 'vanishing', 'aristocratic', 'languid', 'snopes', 'choreographers', 'establishes', 'uninhibited', 'freshness', 'pirouette', 'pretence', 'constitutions', 'delegated', 'hates', 'inflections', 'baggy', 'jeopardize', 'ethic', 'barbarians', 'beatniks', 'pungent', 'leering', 'unfettered', 'prophets', 'muse', 'despairing', 'radicalism', 'steeples', 'vine', 'prettier', 'sag', 'barns', 'indolent', 'modulation', 'sufferings', 'individualistic', 'rationalism', 'imitated', 'overtones', 'interrelations', 'registering', 'rudimentary', 'constellations', 'derivation', 'inseparable', 'loathsome', 'redemption', 'brim', 'rewarding', 'selves', 'twined', 'idyllic', 'fervor', 'glorified', 'convent', 'poe', 'grappling', 'falcon', 'customarily', 'completeness', 'interlaced', 'contrasted', 'specifies', 'fink', 'invoke', 'directives', 'internationally', 'radicals', 'humbly', 'climactic', 'disruptive', 'explicable', 'storyteller', 'oedipal', 'madly', 'plausible', 'sibylla', 'rigorously', 'abstracts', 'constructions', 'darkening', 'sketching', 'stalag', 'stettin', 'rosenberg', 'compson', 'notwithstanding', 'gothic', 'novelists', 'apex', 'thorpe', 'idealized', 'humanist', 'autocracies', 'sketched', 'observational', 'natures', 'almagest', 'hypotheses', 'sara', 'condemn', 'childlike', 'biographical', 'disciple', 'szolds', 'prettiest', 'parting', 'heaped', 'antics', 'regained', 'sine', 'shyly', 'luxemburg', 'adolf', 'berle', 'loathed', 'skipping', 'calcutta', 'loaf', 'exclaiming', 'bengal', 'tawny', 'banana', 'foreigner', 'privy', 'commons', 'altering', 'counteract', 'whiteman', 'benny', 'lavatory', 'highball', 'immobility', 'armistice', 'fondly', 'horrified', 'fanaticism', 'anthology', 'punctuated', 'unreliable', 'despairingly', 'intently', 'trilogy', 'dynamics', 'savoy', 'reread', 'scouring', 'talkative', 'annals', 'booby', 'whistle', 'pits', 'stoop', 'bug', 'potemkin', 'procure', 'trance', 'stooping', 'cossacks', 'curving', 'skirts', 'athenians', 'thirst', 'winced', 'irritating', 'vale', 'gruff', 'compiling', 'prodigious', 'unclean', 'foul', 'pawtuxet', 'blasphemy', 'transfusions', 'explanatory', 'sacredness', 'sorted', 'discusses', 'milieu', 'religiously', 'peters', 'failures', 'boniface', 'triangle', 'unaided', 'disadvantage', 'amadee', 'swarthy', 'florentine', 'dyed', 'cursory', 'lew', 'rocker', 'talmud', 'childishness', 'seebohm', 'tack', 'ascertained', 'aeschylus', 'lear', 'retribution', 'faust', 'procured', 'corne', 'coke', 'generalization', 'peru', 'dorado', 'snobbery', 'bachelors', 'artfully', 'prolusions', 'fencing', 'courtenay', 'altenburg', 'modesty', 'embracing', 'advocated', 'fearfully', 'tristano', 'marsh', 'disconnected', 'yiddish', 'crazily', 'shivered', 'quitting', 'banging', 'eligibility', 'incentives', 'nationals', 'favoritism', 'twofold', 'appraise', 'stabilizing', 'assigns', 'audit', 'abode', 'resides', 'woonsocket', 'nonmetallic', 'lignite', 'demonstrations', 'loaned', 'registries', 'microseconds', 'interferometer', 'deviations', 'concave', 'dissociation', 'imprisoned', 'consented', 'adjudication', 'ports', 'vents', 'rehearsals', 'divestiture', 'preferential', 'registrant', 'desks', 'infestations', 'strengths', 'undertakings', 'receipt', 'radiated', 'overpayment', 'linearly', 'transpiring', 'fluxes', 'sheath', 'voltages', 'feedback', 'transpiration', 'tungsten', 'viscoelastic', 'gravitational', 'ellipsoids', 'radii', 'entropy', 'unpaired', 'chromium', 'occluded', 'dwindling', 'uncharged', 'alkali', 'sealing', 'mixtures', 'meteors', 'eta', 'extrapolation', 'incubation', 'alveoli', 'dosage', 'dosages', 'elution', 'titer', 'titers', 'agglutination', 'dialyzed', 'isotonic', 'spinco', 'honeybees', 'bombus', 'andrenas', 'amethystine', 'anacondas', 'bronchus', 'bronchiole', 'hilar', 'parenchyma', 'emphysema', 'transverse', 'crosses', 'vitro', 'vivo', 'enzymatic', 'secretion', 'proteases', 'acetone', 'hemoglobin', 'triamcinolone', 'atrophy', 'gastrocnemius', 'intensify', 'visceral', 'cytoplasm', 'clumps', 'ethyl', 'buffered', 'antiserum', 'distinguishable', 'globulin', 'xylem', 'excitability', 'excitatory', 'mecholyl', 'neuroses', 'divisible', 'corollary', 'integer', 'aces', 'cubes', 'diagonal', 'pencils', 'dearly', 'recurrent', 'rites', 'loomis', 'irsac', 'auditors', 'pregnancy', 'relinquishing', 'compulsives', 'antagonists', 'storing', 'modifying', 'unstressed', 'pronoun', 'insulting', 'consonants', 'vulture', 'adjectives', 'verb', 'lexicostatistics', 'plodding', 'merged', 'ibrahim', 'maneuvering', 'pierced', 'movers', 'positivism', 'seaboard', 'aerospace', 'tr', 'airmail', 'distort', 'decidedly', 'kinesthetic', 'vase', 'slanting', 'battenkill', 'dime', 'barnumville', 'simulate', 'undepicted', 'intertwined', 'ya', 'awhile', 'mopped', 'phrasing', 'varlaam', 'coldness', 'saxophone', 'intoned', 'nemesis', 'estella', 'cruelly', 'processor', 'rdws', 'ft', 'sludge', 'polymers', 'chemische', 'krystallographie', 'groth', 'blanching', 'prepolymer', 'dryer', 'warp', 'couplers', 'cathodoluminescent', 'fluorescent', 'torquers', 'plumpness', 'bandaged', 'scarf', 'mercifully', 'mickie', 'lunged', 'rosebuds', 'boxell', 'catt', 'soared', 'dives', 'herold', 'gleamed', 'chewed', 'em', 'fuck', 'patting', 'snuggled', 'dashing', 'plucked', 'camaret', 'trudged', 'hearth', 'heaved', 'selena', 'skopas', 'melzi', 'twitched', 'tussle', 'hush', 'drunkenly', 'git', 'feathered', 'groin', 'nested', 'peg', 'funk', 'goddam', 'sposato', 'oyabun', 'goose', 'alastor', 'beckworth', 'belched', 'snorted', 'skiffs', 'sickened', 'angelina', 'suspiciously', 'starbird', 'insides', 'poked', 'sill', 'thirsty', 'gosh', 'blushing', 'fuss', 'bellboy', 'beep', 'microphone', 'jowls', 'graying', 'growled', 'felice', 'peralta', 'cognac', 'mailboxes', 'dryly', 'lisa', 'spades', 'swished', 'honotassa', 'lain', 'stupor', 'freak', 'flannel', 'fingerprints', 'bouquet', 'clapped', 'weigand', 'siamese', 'midge', 'orville', 'raked', 'accacia', 'scowled', 'radic', 'grokked', 'grokking', 'vs', 'sigmen', 'yarrow', 'ozagen', 'zigzagging', 'scooted', 'shayol', 'hoarsely', 'buckets', 'goin', 'murmuring', 'fiercely', 'purvis', 'soothing', 'faro', 'caressed', 'donna', 'tomas', 'mused', 'sweeney', 'japs', 'giggles', 'loosened', 'manas', 'glisten', 'lifeboat', 'tultul', 'songau', 'karipo', 'peacocks', 'superiors', 'nymphomaniac', 'forked', 'laban', 'quinzaine', 'dunne', 'rosa', 'dolly', 'uhhu', 'rawlings', 'francie', 'groggins', 'jour', 'stubblefield', 'stubblefields', 'alligator', 'ricco', 'gerry', 'allstates', 'ticonderoga', 'grazie', 'cabrini', 'neitzbohr', 'alicia', 'awarding', 'wards', 'hurdle', 'caldwell', 'repealed', 'dewey', 'ratcliff', 'advocacy', 'beaumont', 'lamar', 'correctness', 'reservoirs', 'majorities', 'sulphur', 'dependency', 'clements', 'drafts', 'discharging', 'boosting', 'clinic', 'socialized', 'enlarging', 'dirksen', 'halleck', 'angola', 'hoc', 'inconclusive', 'setbacks', 'vagueness', 'cornerstone', 'setback', 'amateurish', 'revamped', 'contingency', 'disagreed', 'hilt', 'erred', 'arrests', 'supermarkets', 'confessing', 'bourcier', 'justices', 'plainfield', 'regrets', 'meyner', 'discredited', 'nominee', 'sheeran', 'neil', 'plows', 'modernized', 'pledge', 'hoodlums', 'underwrite', 'conserve', 'tusks', 'screvane', 'beame', 'sapio', 'abe', 'locale', 'hurrah', 'trimble', 'delaney', 'churchmen', 'uncommitted', 'budgetary', 'princes', 'malcolm', 'thoroughfare', 'ceremonial', 'academies', 'canal', 'withstand', 'longstanding', 'bypass', 'muster', 'stab', 'economize', 'rigged', 'contracting', 'ptc', 'pleas', 'casualty', 'violations', 'overhauling', 'rooming', 'penalized', 'inspections', 'landscaped', 'esplanade', 'battalion', 'gladden', 'starter', 'dissension', 'gursel', 'contested', 'junta', 'protocol', 'pledges', 'ierulli', 'extraordinarily', 'exported', 'molvar', 'sw', 'emerald', 'willamette', 'swearing', 'blueprints', 'masonic', 'stout', 'sexton', 'zimmerman', 'infallible', 'emphasizes', 'sinless', 'springfield', 'apprentices', 'coasted', 'siebern', 'marv', 'offerings', 'keegan', 'braves', 'bunt', 'fouling', 'rundown', 'grapefruit', 'homers', 'inducted', 'fielding', 'slugging', 'slated', 'houk', 'steve', 'contingent', 'fingered', 'astray', 'hampered', 'ineligible', 'kicks', 'footnotes', 'intercepted', 'taper', 'idleness', 'myers', 'buster', 'broncs', 'spikes', 'davidson', 'flashy', 'nischwitz', 'husky', 'viewers', 'hinton', 'rudolph', 'cooke', 'rightfield', 'roller', 'outfield', 'hammered', 'minnie', 'ogden', 'hurting', 'keyhole', 'feats', 'rightfully', 'leaguer', 'phillies', 'blacked', 'champs', 'edwards', 'dyer', 'vikings', 'troy', 'mazeroski', 'slocum', 'imminent', 'majors', 'frick', 'georgetown', 'saluted', 'endeared', 'yen', 'golfer', 'wailed', 'ruefully', 'wayward', 'heyday', 'chisholm', 'excavation', 'brook', 'bunker', 'lengthening', 'misled', 'mizell', 'redbirds', 'murtaugh', 'nieman', 'lineup', 'stan', 'musial', 'quieted', 'clemente', 'triumphs', 'overcame', 'battling', 'lavish', 'mankowski', 'congratulated', 'reid', 'len', 'sow', 'wrigley', 'alsop', 'sims', 'uncles', 'butlers', 'fete', 'dervishes', 'damascus', 'bows', 'consul', 'clinton', 'maureen', 'lyon', 'drury', 'leukemia', 'jude', 'staging', 'underprivileged', 'showman', 'packs', 'struggles', 'guttural', 'nightly', 'bowman', 'grandparents', 'precede', 'cheery', 'mom', 'tucson', 'boasting', 'vacationing', 'shamrock', 'carpeted', 'brink', 'brocade', 'bridegroom', 'officiated', 'shreveport', 'pi', 'organdy', 'neckline', 'accented', 'hartford', 'orchids', 'cedric', 'cohen', 'hostesses', 'controllers', 'quell', 'spurdle', 'ethel', 'commentator', 'clifton', 'marsicano', 'blumberg', 'dusseldorf', 'vieth', 'wellesley', 'vickery', 'eustis', 'ablaze', 'tiers', 'slipper', 'bandit', 'conceding', 'recounting', 'jurist', 'somerset', 'seekers', 'lonsdale', 'candid', 'krogers', 'lola', 'sorely', 'magistrate', 'bailey', 'naturalized', 'undersea', 'westinghouse', 'destroyers', 'detector', 'rivalries', 'grievances', 'compensations', 'otis', 'jeremiah', 'stratton', 'slaying', 'bludgeon', 'stepson', 'vindicated', 'retracted', 'homeowners', 'bottled', 'vicky', 'dennis', 'mall', 'canvass', 'winthrop', 'mcnair', 'executions', 'roundup', 'jails', 'roadblock', 'irrespective', 'greenville', 'crawford', 'melee', 'eradication', 'troup', 'blasingame', 'adapting', 'robberies', 'schuyler', 'bess', 'gateway', 'entertainers', 'counseled', 'spices', 'karen', 'carlson', 'horsemanship', 'clown', 'twirler', 'hog', 'swine', 'sherwood', 'pezza', 'giorgio', 'ransacked', 'jewels', 'earrings', 'elm', 'jewelry', 'smithfield', 'vernava', 'damages', 'lieutenants', 'dimes', 'parrillo', 'sorrentino', 'perjury', 'ku', 'klux', 'klan', 'excused', 'lenient', 'nyu', 'hester', 'endangering', 'rodents', 'inviolate', 'sunnyvale', 'valve', 'lockheed', 'mana', 'gus', 'hoodlum', 'arger', 'pier', 'connect', 'janitors', 'repaid', 'detonation', 'curtis', 'lucrative', 'driers', 'gordin', 'harvesting', 'saws', 'buick', 'chrysler', 'gerald', 'cluck', 'edna', 'sharon', 'sprinkel', 'refuted', 'abortive', 'tighten', 'dipped', 'unconventional', 'marketed', 'custodian', 'programmed', 'shareholders', 'queries', 'perlman', 'pickers', 'competitor', 'slash', 'keeler', 'harvester', 'lag', 'haggling', 'shortages', 'subsidies', 'marketings', 'mined', 'stemmed', 'railing', 'spouse', 'pitfall', 'discriminatory', 'personification', 'revolutionized', 'ebony', 'postgraduate', 'chips', 'auntie', 'snacks', 'stomachs', 'pizza', 'shiny', 'tibetan', 'correlated', 'avoids', 'philippine', 'acacia', 'saledo', 'stagecoach', 'dignitaries', 'mmes', 'mckee', 'cookie', 'reese', 'hilton', 'clara', 'yeast', 'photographing', 'ludwig', 'originating', 'gloriana', 'subtitled', 'updated', 'coopers', 'gregg', 'arden', 'socket', 'inverted', 'suspend', 'fixture', 'antiques', 'lurked', 'utilitarian', 'homemakers', 'versatile', 'chalk', 'judson', 'rum', 'smoother', 'specialize', 'chops', 'vivacious', 'mackey', 'peppery', 'newfoundland', 'acquaint', 'doorstep', 'lutheran', 'henderson', 'headmaster', 'cecilia', 'pianists', 'leningrad', 'incomparably', 'choreography', 'undistinguished', 'assemblage', 'enchantment', 'crowning', 'impoverished', 'goldwater', 'inna', 'muted', 'solos', 'sponsoring', 'charmed', 'billed', 'sadism', 'enthralling', 'gulped', 'gloomily', 'yesteryear', 'doormen', 'snubbed', 'sofas', 'andover', 'unveiled', 'mantel', 'pfohl', 'lemonade', 'madonna', 'monet', 'impressionist', 'masons', 'blacks', 'materialize', 'deterioration', 'inroads', 'inflexible', 'dampened', 'dangerously', 'impunity', 'vietnam', 'overreach', 'cocky', 'adversaries', 'disunity', 'retrospect', 'goaded', 'staffed', 'outsider', 'citizenship', 'loath', 'gamble', 'intangibles', 'idealism', 'envision', 'jurisdictional', 'squabbles', 'footing', 'undertakes', 'overtime', 'allocate', 'decree', 'organizers', 'subsidy', 'steamship', 'alleging', 'herter', 'swarm', 'appeasement', 'unspoken', 'choppy', 'segregationist', 'pretext', 'electors', 'unheard', 'reprisal', 'huddling', 'oust', 'maverick', 'arenas', 'loomed', 'specter', 'truncated', 'hubert', 'filibuster', 'ante', 'staunchest', 'agonizing', 'graciously', 'overtake', 'erratic', 'meteorological', 'winnings', 'threesome', 'pars', 'grimace', 'boldness', 'axiomatic', 'vehemence', 'sublime', 'shrinking', 'hack', 'understandably', 'overdeveloped', 'opus', 'tropic', 'trait', 'sportswriter', 'swings', 'conspired', 'winged', 'loper', 'ensembles', 'stitch', 'hitched', 'rein', 'rallies', 'zealand', 'stirling', 'ruddy', 'frustrating', 'chaplin', 'grandiose', 'ardor', 'kindergarten', 'plaintiffs', 'geneticist', 'heredity', 'excite', 'explorers', 'imagines', 'brussels', 'beneficiaries', 'carpenters', 'oversimplification', 'detested', 'splitting', 'leopoldville', 'equator', 'mutiny', 'looting', 'nonwhite', 'tunisia', 'guinea', 'dispatching', 'redoubled', 'kidnaped', 'bizerte', 'tunisian', 'irreconcilable', 'diminutive', 'chen', 'woo', 'guatemala', 'boeing', 'salvador', 'sacramento', 'hostages', 'gilman', 'submachine', 'ultimatum', 'inboard', 'transporting', 'precedence', 'idaho', 'citizenry', 'lags', 'tolls', 'curbing', 'portuguese', 'quotas', 'stabilization', 'shrinkage', 'clientele', 'bounty', 'foresee', 'hempstead', 'inadequacy', 'shuffle', 'aggressions', 'digest', 'ciudad', 'venezuela', 'professedly', 'tarnished', 'censure', 'totalitarianism', 'ncta', 'launching', 'acquiesce', 'comprising', 'zones', 'gratuitous', 'indignities', 'grazing', 'cinema', 'folds', 'barring', 'lax', 'mercilessly', 'casualties', 'savored', 'unreasonable', 'awaits', 'flamboyant', 'educating', 'pillage', 'covenant', 'bayed', 'admirer', 'gunman', 'protecting', 'minded', 'precariously', 'courageously', 'outbreaks', 'bickering', 'metro', 'shortest', 'erhart', 'wizard', 'reaffirmed', 'endearing', 'joiner', 'mosk', 'assail', 'accusations', 'offshore', 'hectic', 'dismaying', 'speedily', 'outwardly', 'unilateral', 'oas', 'conjecture', 'growers', 'shortening', 'pioneered', 'warns', 'chatham', 'confirms', 'reinforces', 'slackened', 'outdated', 'fellowships', 'blithely', 'shipbuilding', 'fares', 'bolster', 'mekong', 'recede', 'monsoon', 'instructional', 'lyndon', 'subservient', 'lawmaking', 'leases', 'leasing', 'overriding', 'watchdog', 'investigative', 'pocketbook', 'freedoms', 'speculation', 'groundwork', 'reformer', 'labels', 'broth', 'rationing', 'tomatoes', 'grudges', 'trespasses', 'luke', 'sobering', 'garcia', 'visualize', 'cynics', 'parishioners', 'bruise', 'pod', 'rippling', 'bidders', 'cocoon', 'purring', 'resorting', 'realizes', 'peaceable', 'pokes', 'invading', 'unhesitatingly', 'soggy', 'grabs', 'triandos', 'platoons', 'defect', 'layman', 'disinterest', 'pushes', 'floral', 'upholstery', 'backyards', 'nominally', 'weakest', 'predicts', 'munitions', 'weeklies', 'unsigned', 'nile', 'fanny', 'bevy', 'amsterdam', 'seafood', 'billie', 'doorknob', 'catering', 'loyalties', 'dwyer', 'autograph', 'translations', 'dissuade', 'alight', 'blessings', 'blest', 'novice', 'copied', 'invest', 'unlined', 'barest', 'pastel', 'straws', 'flats', 'plugged', 'pores', 'edison', 'sophocles', 'eclectic', 'decca', 'modestly', 'playwright', 'wheelock', 'upsets', 'unmoved', 'clings', 'motivates', 'misbehavior', 'snatches', 'perpetually', 'ebullient', 'lilting', 'aroma', 'woodsmoke', 'tethered', 'blur', 'eyeglasses', 'churning', 'underscored', 'transact', 'aggravated', 'adage', 'oaths', 'praying', 'absorbing', 'migrant', 'gabrielle', 'miranda', 'snowstorm', 'fosters', 'barry', 'mcnamara', 'uppermost', 'instruct', 'polling', 'unskilled', 'yoke', 'freeholders', 'hasten', 'booths', 'fossilized', 'spores', 'lastly', 'leash', 'roaming', 'memorials', 'resurgence', 'militarism', 'devastated', 'disarmed', 'neutrality', 'terrorized', 'woodside', 'donate', 'crafts', 'woodward', 'patrolling', 'ordinances', 'apathy', 'gentility', 'dropouts', 'arsenal', 'intimidated', 'tunnels', 'delinquents', 'inflicting', 'torture', 'addicted', 'corrupting', 'predictions', 'risky', 'strauss', 'exacerbation', 'inspire', 'animosity', 'compulsively', 'strives', 'emulate', 'arrivals', 'lippmann', 'deplores', 'sanctity', 'precedents', 'connotations', 'fetching', 'moloch', 'slaughtered', 'thousandth', 'midsummer', 'stasis', 'happiest', 'annum', 'radioactivity', 'poisoning', 'detonated', 'balloons', 'bets', 'germ', 'researcher', 'downgraded', 'herein', 'mid', 'contaminated', 'militarily', 'christendom', 'discouragement', 'apologetic', 'unbalanced', 'moslem', 'islamic', 'generality', 'tiniest', 'pointedly', 'itinerary', 'overtly', 'galvanizing', 'scarcity', 'crystallization', 'jelly', 'shockingly', 'reappears', 'cartoon', 'apartheid', 'originals', 'musicals', 're', 'mi', 'conquering', 'moliere', 'casbah', 'guitars', 'sideways', 'proffered', 'bristol', 'sol', 'veils', 'surname', 'picnics', 'tormented', 'unawareness', 'somber', 'inhibitions', 'rebelliously', 'unabashed', 'stringy', 'contorted', 'marxist', 'proletariat', 'admissions', 'harping', 'doctrinal', 'averting', 'albania', 'liar', 'depugh', 'camouflage', 'garb', 'sheriffs', 'dummy', 'tortuous', 'outpost', 'encampment', 'dearth', 'ramifications', 'eric', 'incorporation', 'monstrosity', 'telepathy', 'honorably', 'hessians', 'accretion', 'defeating', 'bothers', 'reprints', 'powerless', 'publish', 'autobiographical', 'submits', 'commentaries', 'milder', 'lindemann', 'recitals', 'cadenza', 'incandescent', 'hendl', 'sprawl', 'booker', 'budge', 'lena', 'queried', 'everett', 'giovanni', 'farce', 'hark', 'lurking', 'shenanigans', 'stirs', 'rustic', 'wasteland', 'embodies', 'spaciousness', 'jerebohms', 'havoc', 'callers', 'quart', 'sustenance', 'illustrious', 'sancho', 'panza', 'cherkasov', 'roughness', 'artistry', 'dixieland', 'blotted', 'showcase', 'musicianship', 'trill', 'canto', 'bellini', 'interruptions', 'cadre', 'unrealistic', 'intrigues', 'conservatory', 'vying', 'conjugal', 'virtuoso', 'poorest', 'viscount', 'unending', 'enlightening', 'hygiene', 'barges', 'humanitarian', 'madrigals', 'waver', 'accompaniments', 'dixon', 'matunuck', 'daisies', 'cartoonist', 'fledgling', 'creighton', 'irritations', 'loesser', 'sifted', 'outdo', 'voluminous', 'suitably', 'pulitzer', 'lance', 'laguardia', 'routines', 'choreographic', 'distraction', 'impromptu', 'gallantry', 'hardwick', 'adorable', 'royce', 'santayana', 'fronting', 'recriminations', 'displace', 'schoolboy', 'comprises', 'necklace', 'cunningly', 'slumber', 'vistas', 'keenly', 'sash', 'unaffected', 'relented', 'foibles', 'slicker', 'allegory', 'posing', 'rats', 'aggrieved', 'dexter', 'inexperience', 'purges', 'baltic', 'warped', 'subjugation', 'silences', 'authorship', 'superlative', 'enright', 'courting', 'marries', 'scraps', 'matrimony', 'whirl', 'forego', 'sounding', 'ponderous', 'cloying', 'colorless', 'salute', 'sloppy', 'villain', 'consummate', 'vanguard', 'troupe', 'francaise', 'ld', 'brevity', 'instrumentalists', 'giuseppe', 'tiresome', 'rationalist', 'cleverness', 'bawdy', 'ditties', 'orchestration', 'underway', 'rewarded', 'throng', 'blakey', 'vaughan', 'expansiveness', 'shanty', 'beckons', 'instructive', 'catalogues', 'esthetics', 'satirical', 'idiosyncrasies', 'diverting', 'marion', 'cliburn', 'nocturne', 'igor', 'impudent', 'dorothy', 'quintet', 'inventive', 'earnestness', 'resourceful', 'idioms', 'persuasively', 'titanic', 'crouching', 'mystic', 'geese', 'recounts', 'mijbil', 'compliment', 'iraq', 'mij', 'nip', 'marbles', 'sharpening', 'implicitly', 'traveller', 'insensitive', 'attracts', 'excessively', 'ludicrous', 'dissimilar', 'deluded', 'meanness', 'bourgeois', 'agility', 'toughs', 'honeysuckle', 'ory', 'toot', 'ramble', 'alfredo', 'adultery', 'superfluous', 'lurid', 'unsympathetic', 'taras', 'ukrainian', 'lusty', 'madmen', 'searches', 'adagio', 'exquisite', 'nutcracker', 'esthetic', 'yearned', 'eagerness', 'cultivate', 'celebrities', 'stylist', 'breathtaking', 'inexorably', 'intelligently', 'upgrade', 'hollering', 'pigments', 'bracing', 'vista', 'foraging', 'supplementing', 'riefling', 'fussy', 'inwardly', 'disarming', 'unobtrusive', 'shuddering', 'compensatory', 'tortoise', 'cosmology', 'bondi', 'functioned', 'relativistic', 'relativity', 'thinly', 'expands', 'protons', 'proton', 'gravitation', 'rationally', 'defensible', 'cosmos', 'trappings', 'messy', 'benedick', 'umbrellas', 'grieving', 'yea', 'downpour', 'elisabeth', 'purest', 'gasp', 'highlights', 'frills', 'enthusiasts', 'addiction', 'sitwell', 'transmit', 'delights', 'seacoast', 'palladio', 'traceable', 'friezes', 'wbai', 'aspiration', 'wilt', 'fulfilling', 'keyed', 'vermilion', 'rockies', 'maples', 'scarlet', 'straits', 'steamboat', 'nozzles', 'depict', 'festivals', 'parades', 'devotees', 'dissolving', 'tasting', 'loveliest', 'waterways', 'steadier', 'turbulence', 'frostbite', 'harbors', 'dana', 'launches', 'plush', 'purposeful', 'remarque', 'demure', 'microcosm', 'freudian', 'mystics', 'carping', 'gluttons', 'capsules', 'digestive', 'reddish', 'bloated', 'caloric', 'flagrant', 'drinker', 'metrecal', 'bile', 'soluble', 'intima', 'narrows', 'clot', 'netherlands', 'hydrogens', 'exerts', 'extraneous', 'excesses', 'ominously', 'virulence', 'unavoidably', 'lucifer', 'absolutes', 'wickedness', 'mythology', 'kerygma', 'admittedly', 'secularized', 'estranged', 'communicated', 'profundity', 'corinthians', 'accomplishing', 'depriving', 'follower', 'unambiguous', 'maturation', 'buri', 'unpublished', 'bonfire', 'churchgoing', 'oratory', 'cathedrals', 'lapsed', 'benediction', 'shepherd', 'laity', 'superficially', 'lords', 'universality', 'origen', 'interprets', 'whence', 'arrogance', 'potentiality', 'parallelism', 'wherefore', 'forfeit', 'conformed', 'dissolution', 'symbolizes', 'divinely', 'gannett', 'persecuted', 'diffusing', 'orthodoxy', 'insults', 'assurances', 'burly', 'liberality', 'abject', 'lick', 'veneration', 'brittle', 'phrased', 'exquisitely', 'institutionalized', 'reproach', 'malaria', 'audacity', 'reverent', 'doubting', 'appetites', 'likeness', 'precepts', 'dismissing', 'vested', 'beheld', 'ministering', 'whosoever', 'aspirin', 'advertise', 'predicament', 'conquered', 'famine', 'nakedness', 'hath', 'ruler', 'divination', 'confucian', 'proscription', 'equating', 'dynastic', 'postulate', 'packet', 'memorized', 'painless', 'introductory', 'alerted', 'forcibly', 'instrumentally', 'creatively', 'thwart', 'separates', 'compensate', 'aflame', 'indigenous', 'justifications', 'hindu', 'epitomized', 'expressly', 'muslim', 'islam', 'penniless', 'delineation', 'objectively', 'problematic', 'pacifism', 'proximate', 'quoting', 'anticipations', 'uselessly', 'regaining', 'proviso', 'immanent', 'wesleyan', 'nationality', 'wanton', 'omission', 'repudiated', 'presumes', 'infinitely', 'octillion', 'oceans', 'farthest', 'predetermined', 'atheists', 'orbiting', 'unobtainable', 'subscribed', 'flaw', 'alabaster', 'melville', 'warranted', 'kindred', 'cowardly', 'emphatically', 'finney', 'insufficiently', 'freedmen', 'swaying', 'outrages', 'provoke', 'obeying', 'comprehending', 'wielded', 'confucianism', 'taoist', 'metaphysic', 'magically', 'seclusion', 'credulity', 'emitted', 'shan', 'therewith', 'satan', 'reborn', 'nicodemus', 'zealously', 'repent', 'curses', 'peale', 'leaflets', 'lesourd', 'thump', 'whir', 'crucifix', 'lookit', 'unkind', 'courcy', 'pecs', 'frontal', 'flare', 'hallmark', 'workouts', 'discovers', 'unforgettable', 'wobble', 'velvety', 'adequacy', 'sawdust', 'thrifty', 'tug', 'stub', 'solicitude', 'healthful', 'bartlett', 'bland', 'delays', 'ripening', 'nutritional', 'diets', 'pulsating', 'clutches', 'merciless', 'defenseless', 'icbm', 'imprecisely', 'spacecraft', 'minuteman', 'dispersion', 'samos', 'renditions', 'impetuous', 'expertise', 'indistinguishable', 'reproduces', 'spirito', 'tolerable', 'ceases', 'kennel', 'betty', 'afghan', 'pointer', 'upsurge', 'sailboats', 'boatman', 'owning', 'aloft', 'sparked', 'coined', 'turnout', 'snag', 'prototype', 'horizontally', 'reassemble', 'roundhead', 'rodder', 'decimal', 'blanks', 'subtracting', 'pistons', 'mph', 'inflated', 'debonnie', 'laguerre', 'monel', 'conformation', 'curbs', 'playful', 'pacers', 'frisco', 'rodney', 'rainfall', 'abbe', 'handgun', 'defunct', 'jacketed', 'intriguing', 'calibers', 'kodiak', 'autoloader', 'targo', 'sighting', 'contrived', 'pickled', 'bulbs', 'standby', 'splash', 'herbs', 'cupful', 'tablespoonful', 'omelet', 'arbogast', 'swarmed', 'maroon', 'uplands', 'lounged', 'stables', 'esteemed', 'saucepan', 'mashed', 'worcestershire', 'catsup', 'peel', 'champlain', 'spectacles', 'vicksburg', 'wrought', 'chattanooga', 'charlottesville', 'monticello', 'picturing', 'tripod', 'wyatt', 'yosemite', 'landmark', 'spires', 'constantinople', 'ottoman', 'marmara', 'empties', 'stubby', 'chariot', 'octagonal', 'sultan', 'ahmet', 'serpents', 'arcade', 'sunken', 'prisons', 'veered', 'chimneys', 'utensils', 'portico', 'bowls', 'oilcloth', 'barbecues', 'mopping', 'spiced', 'feast', 'styled', 'teaspoons', 'chopped', 'carne', 'coney', 'chop', 'stoneware', 'glazes', 'grooves', 'personalized', 'jars', 'circumference', 'overlapped', 'toner', 'matt', 'turquoise', 'beveled', 'overlapping', 'shakers', 'napkin', 'armhole', 'slanted', 'amuse', 'resorcinol', 'butted', 'fairing', 'planer', 'batten', 'flaring', 'padding', 'intermittent', 'fixtures', 'weatherproof', 'thicknesses', 'ripping', 'multitude', 'oiled', 'clockwise', 'interchangeable', 'spurs', 'sever', 'clamping', 'esquire', 'patented', 'oration', 'swarming', 'harpers', 'chenoweth', 'diluting', 'viewpoints', 'shimmering', 'restful', 'sharks', 'etiquette', 'collusion', 'telephoning', 'splashing', 'lingo', 'undressing', 'fenced', 'rots', 'divers', 'scrubbing', 'grate', 'fha', 'inclusion', 'concurs', 'redecorating', 'fatigued', 'blinds', 'drier', 'orienting', 'ownerships', 'watershed', 'unrestricted', 'migratory', 'elevation', 'irrigation', 'personifies', 'koussevitzky', 'skeptics', 'foyer', 'mais', 'symphonies', 'salons', 'fascism', 'cringing', 'traditionalism', 'forged', 'les', 'recapture', 'proclamations', 'circumspect', 'wove', 'kinship', 'distillation', 'batavia', 'watercolors', 'composing', 'freehand', 'mop', 'bristle', 'silhouetted', 'niche', 'gilbert', 'zodiacal', 'tumbling', 'handstands', 'infants', 'bulging', 'somersaults', 'betterment', 'perfecting', 'affectionately', 'hitherto', 'aorta', 'dimensioning', 'undisturbed', 'catheter', 'ventricle', 'calibrated', 'gratifying', 'diagnose', 'millimeter', 'apothecary', 'revel', 'lecturing', 'bavaria', 'stormed', 'francs', 'ecliptic', 'manthey', 'sur', 'magnet', 'trough', 'additive', 'oxytetracycline', 'abscesses', 'pneumonia', 'premix', 'minimizing', 'fermentation', 'foamy', 'acetonemia', 'calving', 'stimulates', 'conveyor', 'efficiencies', 'assertions', 'scrutinizing', 'accentuated', 'tuned', 'outdistanced', 'certification', 'supervising', 'exhibitions', 'dissection', 'scrutinized', 'initials', 'catalog', 'rushes', 'irresponsibility', 'policing', 'taxis', 'shutdown', 'shutdowns', 'beware', 'supplemental', 'absences', 'inconvenience', 'widest', 'sown', 'jennings', 'benefited', 'campground', 'camper', 'bedding', 'guesses', 'disillusionment', 'fueloil', 'welded', 'leaks', 'breakdowns', 'laminate', 'incorporates', 'translucent', 'studs', 'asphalt', 'acoustical', 'strapping', 'manhours', 'bricklaying', 'bricklayers', 'anachronism', 'gratefully', 'romeo', 'luxuries', 'infinitesimal', 'kilometers', 'lured', 'eskimo', 'attuned', 'psychiatry', 'cues', 'typed', 'transcribed', 'giveaways', 'congruent', 'interestingly', 'adriatic', 'porto', 'beckstrom', 'nestled', 'convoy', 'reappeared', 'blitz', 'naples', 'scouting', 'squadron', 'bascom', 'renovated', 'schooner', 'savagely', 'chattered', 'luckily', 'merriment', 'confesses', 'psychic', 'retinal', 'perceptive', 'progressions', 'hilprecht', 'forgetfulness', 'nominate', 'fertilizers', 'gardening', 'stooped', 'enrichment', 'colman', 'fragrant', 'salads', 'sprouted', 'loaves', 'residues', 'spilling', 'northfield', 'bundled', 'cloudburst', 'easing', 'aviator', 'sod', 'granite', 'downwind', 'reuben', 'sheepskin', 'marston', 'disregarding', 'reckoning', 'threading', 'deduce', 'thawed', 'barracks', 'powdery', 'amaze', 'ceramics', 'cakes', 'carve', 'hobbies', 'coop', 'maturing', 'unhurried', 'childbirth', 'dilatation', 'intrusion', 'relaxes', 'virility', 'ruthlessness', 'premature', 'matron', 'lewd', 'counselors', 'maleness', 'pta', 'overtures', 'hemmed', 'marketplace', 'arousal', 'knuckle', 'coaxed', 'procurer', 'audition', 'nero', 'discreet', 'beguiling', 'pimp', 'egyptians', 'overthrown', 'overcrowded', 'autopsy', 'ozone', 'cysts', 'masseur', 'bbb', 'arthritis', 'rheumatism', 'loot', 'insulin', 'compresses', 'cures', 'scrape', 'classmate', 'orthodontics', 'protruding', 'crooked', 'deformity', 'thumbs', 'abnormal', 'orthodontists', 'scoffed', 'prematurely', 'parapsychology', 'entranced', 'clarifying', 'communicator', 'mediumistic', 'slant', 'confining', 'uneconomical', 'nearness', 'starved', 'dulled', 'recollections', 'exhausting', 'fiend', 'stubbornly', 'exemplified', 'heydrich', 'phraseology', 'arousing', 'dishonest', 'fates', 'orthopedic', 'dramatize', 'rancor', 'faiths', 'commonweal', 'supplant', 'sinful', 'racketeers', 'lambeth', 'thames', 'muscovy', 'overfall', 'perversely', 'greenland', 'feverishly', 'muskets', 'bloodshed', 'boatswain', 'bailly', 'dickson', 'prophetically', 'renamed', 'hercules', 'nets', 'smuggled', 'dilapidated', 'litter', 'georgian', 'diarrhoea', 'admonitions', 'usages', 'boon', 'sis', 'drunkard', 'shucks', 'booty', 'justifying', 'curricula', 'outlived', 'rebelling', 'literate', 'bogus', 'footnote', 'uncritical', 'propagandist', 'hillbilly', 'bleakly', 'trouser', 'dispassionately', 'wreaths', 'trample', 'lurch', 'rackets', 'sicilian', 'tenements', 'looted', 'trespassed', 'grapevine', 'parable', 'offended', 'idiotic', 'boosted', 'concession', 'geologists', 'damaging', 'forlorn', 'reckoned', 'fateful', 'scurried', 'oceanography', 'oscillation', 'forwarded', 'epicenter', 'unsolved', 'cheyennes', 'erudite', 'reinforcements', 'grenade', 'attackers', 'counterattack', 'profusely', 'diminishes', 'bantus', 'auxiliaries', 'plunging', 'meandering', 'beaver', 'shovels', 'coconuts', 'plateau', 'divinities', 'salve', 'strivings', 'synagogue', 'wryly', 'pursuits', 'irritably', 'constituting', 'prodded', 'advertisements', 'announces', 'horowitz', 'watery', 'ointment', 'sores', 'blister', 'poultice', 'soda', 'flaxseed', 'swelled', 'ounce', 'unlock', 'shipper', 'grands', 'extenuating', 'inexhaustible', 'bargains', 'spoil', 'reclining', 'decanting', 'sweetness', 'unattractive', 'chateau', 'sediment', 'corkscrew', 'citing', 'perpetrated', 'freeing', 'incensed', 'assented', 'bondage', 'bribed', 'renoir', 'moderns', 'inveterate', 'prodigy', 'sparring', 'dams', 'gilt', 'allegorical', 'dolley', 'dickey', 'disdain', 'scooped', 'freshmen', 'commencement', 'emeritus', 'amos', 'curbside', 'stepmother', 'vomiting', 'hiram', 'cricket', 'profited', 'observant', 'recitation', 'retrograde', 'botany', 'persistently', 'chess', 'observatory', 'horseback', 'bequests', 'occupations', 'disappears', 'vocation', 'grits', 'sorghum', 'byproducts', 'arable', 'flax', 'peach', 'soaps', 'explosives', 'kernel', 'psyllium', 'lumps', 'kernels', 'almonds', 'ornaments', 'rosaries', 'alcoholic', 'potted', 'tenderfoot', 'injun', 'uncounted', 'cattlemen', 'synonym', 'creepers', 'reined', 'focussed', 'motley', 'lioness', 'paw', 'lashed', 'hind', 'rhinoceros', 'noose', 'gentler', 'thorn', 'maneuvered', 'deficient', 'worshiping', 'antithesis', 'organically', 'perspectives', 'edifice', 'erecting', 'fords', 'fielder', 'payday', 'grocers', 'shires', 'illicit', 'insanity', 'swan', 'prosper', 'entertainments', 'epileptic', 'unaccompanied', 'premarital', 'schema', 'configurations', 'adulthood', 'ostensible', 'homemaker', 'deprive', 'nuances', 'resolves', 'disprove', 'attributing', 'deposition', 'bouts', 'likened', 'indiscriminate', 'depositions', 'litigants', 'retard', 'ordeal', 'blocking', 'debacle', 'summation', 'malta', 'maltese', 'laurel', 'modeled', 'mattei', 'frescoes', 'colonnade', 'baullari', 'danube', 'stupendous', 'neptune', 'prostitutes', 'thoughtless', 'accumulating', 'threes', 'merest', 'turf', 'horrifying', 'hideously', 'inexorable', 'postscript', 'elicit', 'nineties', 'cinematic', 'chasing', 'actresses', 'phonograph', 'poorer', 'stratum', 'collapsing', 'secondarily', 'folksy', 'antennae', 'transmutation', 'exclusiveness', 'polarized', 'livres', 'choctaws', 'carolinians', 'deerskins', 'cheaply', 'cumberland', 'incited', 'termini', 'incite', 'ineffective', 'salmon', 'reap', 'tantamount', 'threadbare', 'inquisition', 'senatorial', 'berated', 'ministries', 'handclasp', 'glowered', 'unsuitable', 'washizu', 'nishima', 'suppositions', 'unjust', 'demoralize', 'intolerable', 'repressed', 'reconstructed', 'tidewater', 'socialistic', 'furthered', 'observable', 'truism', 'viability', 'breakup', 'antiquity', 'monarch', 'sovereigns', 'nebulous', 'manning', 'windowless', 'farfetched', 'tick', 'pushers', 'unthinkable', 'ape', 'crammed', 'outback', 'fugitive', 'memorize', 'paws', 'rodent', 'stink', 'idje', 'promenade', 'khaju', 'fridays', 'sojourner', 'carelessly', 'orchard', 'vintage', 'paradoxical', 'riverbank', 'und', 'wanderings', 'recurred', 'twinkle', 'prague', 'upheaval', 'mahler', 'destinies', 'footstep', 'documentation', 'amazingly', 'moderation', 'schaack', 'hindered', 'sartoris', 'glimmer', 'masks', 'hoops', 'parasol', 'purposive', 'chanced', 'designating', 'cheat', 'arbitrate', 'rearrange', 'alloy', 'preambles', 'dispel', 'amenable', 'meteor', 'drunks', 'induces', 'domains', 'predictive', 'permeated', 'jesuit', 'madeleine', 'withstood', 'gestured', 'flattery', 'tidings', 'taboo', 'metaphors', 'reconciled', 'nothingness', 'implacable', 'categorical', 'mentality', 'undisciplined', 'borderline', 'disordered', 'homosexuals', 'concerted', 'sordid', 'betrays', 'lilacs', 'quietness', 'shadowed', 'verbenas', 'blighted', 'larkspur', 'claws', 'pebbles', 'sleepily', 'drone', 'hitching', 'thud', 'voluptuous', 'lautner', 'epiphany', 'perceives', 'emblematic', 'mindless', 'resonances', 'revert', 'leverkuhn', 'praisegod', 'sinfulness', 'doom', 'howls', 'bitten', 'raving', 'imitations', 'mimetic', 'conjoined', 'incitement', 'defender', 'epistemology', 'englanders', 'transcendental', 'amidst', 'mocked', 'schoolmaster', 'galaxy', 'revelations', 'provincialism', 'pitiable', 'fortitude', 'vasa', 'individualist', 'deductive', 'egotism', 'condemns', 'despised', 'dashiell', 'accusation', 'overload', 'connective', 'channeled', 'progressivism', 'preface', 'swallowing', 'cumbersome', 'proprietorships', 'accumulate', 'scare', 'il', 'unwise', 'hurl', 'falsity', 'worthless', 'resolving', 'transpired', 'elaborated', 'disruption', 'helplessly', 'substantive', 'necessitates', 'emergence', 'unanalyzed', 'hopelessness', 'delirium', 'undercurrent', 'incestuous', 'bloodless', 'tablet', 'suitors', 'sternly', 'mondrian', 'abstractionists', 'apparition', 'gloomy', 'sabotage', 'cloak', 'doorways', 'pedigree', 'undiminished', 'narratives', 'flowered', 'sourly', 'insecure', 'conversational', 'nocturnal', 'ethereal', 'cellular', 'revolutionibus', 'sullam', 'strands', 'adler', 'personages', 'mischievous', 'punish', 'cupply', 'pane', 'panes', 'fused', 'weakly', 'yachts', 'mute', 'fastidious', 'marrying', 'innocently', 'scandalized', 'envelopes', 'segovia', 'precocious', 'pawnshop', 'celebrity', 'eats', 'banquets', 'magdalene', 'legitimized', 'consonant', 'instrumentalities', 'mistakenly', 'astrophysics', 'advising', 'stavropoulos', 'courteously', 'bristled', 'speechless', 'omissions', 'twinge', 'congregationalists', 'thrilled', 'exultation', 'convocation', 'publick', 'marlborough', 'complains', 'insinuations', 'defoe', 'pamphlet', 'dunkirk', 'inconsequential', 'aptitude', 'strut', 'koehler', 'unused', 'robbie', 'telegraphic', 'cossack', 'brisbane', 'runyon', 'confide', 'blurted', 'shawl', 'hounds', 'smithsonian', 'blackberry', 'coolidges', 'stearns', 'undo', 'adversely', 'implementing', 'glossary', 'platonic', 'savoring', 'interpersonal', 'similarities', 'depravity', 'stoic', 'sonnet', 'dictate', 'judiciary', 'inherently', 'supporter', 'seduction', 'constituency', 'disgrace', 'confer', 'surreptitiously', 'expectant', 'waspish', 'barricade', 'mustached', 'thanking', 'andre', 'alsatian', 'brigade', 'governess', 'kettle', 'patter', 'pallid', 'babel', 'hug', 'broadside', 'fourteenth', 'deployed', 'heroism', 'armored', 'protestations', 'laudanum', 'rationed', 'laurence', 'parisian', 'serenissimus', 'sapped', 'monsters', 'crowing', 'whiskers', 'donned', 'ornamented', 'sheaf', 'headless', 'torsos', 'sounion', 'inlets', 'nectar', 'dined', 'trays', 'morsel', 'crittenden', 'gadfly', 'mules', 'slanderer', 'printer', 'airs', 'rawson', 'pocasset', 'dispensation', 'magistrates', 'asses', 'shawomet', 'elated', 'postponing', 'infliction', 'streamed', 'einstein', 'puritans', 'aspire', 'conformist', 'converge', 'conformists', 'whitemarsh', 'evacuated', 'gascony', 'pronouncement', 'abeyance', 'sicily', 'curia', 'diligence', 'vous', 'staunch', 'est', 'fleischmanns', 'sobs', 'apology', 'bede', 'veracity', 'hodgkin', 'extinction', 'reigning', 'sceptical', 'venereal', 'cribs', 'vociferous', 'transcending', 'hugo', 'euripides', 'encompassed', 'damnation', 'melodrama', 'vaulting', 'goethe', 'wager', 'bushell', 'elinor', 'fulke', 'prosecuting', 'paie', 'lordship', 'allusion', 'scrivener', 'uppon', 'hande', 'colde', 'shuld', 'methodological', 'trustworthy', 'dispatches', 'embodying', 'mundane', 'motivating', 'caste', 'howling', 'broun', 'sedgwick', 'trastevere', 'bookshelves', 'patronized', 'uncharted', 'mencken', 'drunkards', 'birkhead', 'indisposed', 'pajamas', 'incepting', 'ordo', 'matriculated', 'resided', 'overlords', 'robots', 'behavioral', 'defiant', 'fooling', 'goddess', 'discontinuous', 'catalyst', 'furor', 'piercing', 'radiance', 'pasha', 'hesitant', 'insularity', 'overhaul', 'musically', 'odious', 'gillespie', 'bop', 'chants', 'juxtaposition', 'aberration', 'typicality', 'approximations', 'bullshit', 'berto', 'rimanelli', 'busts', 'diapers', 'diversification', 'identifying', 'repayment', 'nonexistent', 'administer', 'conditional', 'mobilizing', 'commence', 'shoals', 'effecting', 'itemized', 'refine', 'middletown', 'specifying', 'summarize', 'expansions', 'mailings', 'payable', 'jaycees', 'consumptive', 'brackish', 'subsections', 'correlate', 'expiration', 'ores', 'histochemistry', 'biochemical', 'fascicles', 'extraterrestrial', 'hydrides', 'spectroscopy', 'thermometry', 'millidegrees', 'millidegree', 'resistor', 'coefficient', 'straddling', 'integrals', 'coefficients', 'nbs', 'interactions', 'indexing', 'profiles', 'accrued', 'sulzberger', 'oakes', 'excludes', 'checklist', 'amici', 'curiae', 'allocable', 'pioneering', 'memorandum', 'supra', 'bureaucratic', 'bureaucracies', 'currencies', 'vegetation', 'sawtimber', 'timberlands', 'proficiency', 'forage', 'inholdings', 'objectionable', 'ionized', 'ionosphere', 'radiations', 'variability', 'nonresident', 'aliens', 'astride', 'cryptic', 'turret', 'trademark', 'grinders', 'winder', 'apparel', 'moos', 'glee', 'soccer', 'algol', 'totalled', 'rectifier', 'sprague', 'summon', 'saturn', 'reflectors', 'piddington', 'minnett', 'mccullough', 'lobe', 'amp', 'schematic', 'thermocouple', 'pyrometer', 'thermocouples', 'molten', 'osmotic', 'birefringence', 'droplets', 'ab', 'polycrystalline', 'isotropic', 'cr', 'oxygens', 'piezoelectric', 'crystallites', 'adsorbed', 'swatches', 'redeposition', 'particulate', 'greases', 'loosen', 'float', 'agglomeration', 'hydrocarbon', 'oleophilic', 'detergency', 'reagents', 'radiochlorine', 'reactants', 'fillings', 'retardation', 'diminish', 'interplanetary', 'impacts', 'cores', 'probes', 'sensor', 'toxic', 'aerosols', 'aerosolized', 'bronchi', 'portal', 'typhus', 'fractionation', 'stepwise', 'fractionated', 'resuspended', 'chromatographic', 'unstained', 'pm', 'ultracentrifuge', 'preparative', 'blooms', 'woolly', 'broods', 'fertilized', 'maximal', 'reticulate', 'rattlesnake', 'hoop', 'ounces', 'emaciated', 'subspecies', 'vascular', 'mammals', 'pathways', 'arteriolar', 'nakamura', 'antagonist', 'inferred', 'modal', 'menarche', 'pubescent', 'tyrosine', 'iodinating', 'thiouracil', 'goitre', 'solvents', 'alternatively', 'usp', 'disabling', 'prednisone', 'myocardial', 'pelvic', 'vertebral', 'necrosis', 'mottled', 'atrophic', 'jejunum', 'granular', 'cortical', 'biceps', 'coons', 'fitc', 'autofluorescence', 'nonspecifically', 'convulsive', 'wakefulness', 'depressions', 'nausea', 'tuning', 'disturbances', 'monic', 'algebraically', 'notation', 'differentiable', 'satisfies', 'repetitions', 'litters', 'monotone', 'involutions', 'involutorial', 'nonsingular', 'tangency', 'democratize', 'consolation', 'colossal', 'unifies', 'durkheim', 'attaching', 'averted', 'illegitimate', 'systemic', 'linkage', 'deviant', 'endogamy', 'intergroup', 'clipped', 'jure', 'demography', 'censuses', 'hindsight', 'suggestibility', 'involuntary', 'nonreactivity', 'constriction', 'socioeconomic', 'introject', 'infuriated', 'uncomfortably', 'nonverbal', 'inflected', 'inflection', 'endings', 'summarizing', 'prepositional', 'italics', 'rhyme', 'vowels', 'murmur', 'kikuyu', 'orthographic', 'igbo', 'prosodic', 'unnecessarily', 'glottochronological', 'hoijer', 'adjectival', 'millennia', 'oder', 'feasibility', 'moroccan', 'demonstrable', 'ceaseless', 'fatter', 'unsold', 'amortization', 'abstracting', 'gouging', 'presumption', 'hegelian', 'jurisprudence', 'codification', 'injunction', 'fooled', 'disorderly', 'complying', 'maladjusted', 'unallocable', 'carload', 'subtype', 'behaviour', 'perilously', 'positivists', 'unfitting', 'jumbled', 'hexameter', 'protogeometric', 'sharper', 'dipylon', 'martinez', 'arroyo', 'macpherson', 'pedro', 'laramie', 'depredations', 'chavez', 'raton', 'horsemen', 'bonnet', 'telegrapher', 'gusts', 'blackmer', 'vail', 'dorr', 'foss', 'trafton', 'barstow', 'typography', 'grape', 'transforms', 'literalness', 'abstracted', 'roughcast', 'slaked', 'scaffolding', 'secco', 'oxide', 'mutilated', 'presume', 'shred', 'lifelike', 'monologue', 'missail', 'verdi', 'wail', 'satires', 'dynasts', 'rapture', 'fascinate', 'confabulation', 'valery', 'tiepolo', 'expressionism', 'bard', 'synonyms', 'nouns', 'cynewulf', 'greed', 'hulks', 'mending', 'orlick', 'havisham', 'spasm', 'coding', 'drdw', 'dline', 'dtf', 'programmer', 'iocsixf', 'iocsixg', 'septic', 'nitrate', 'floc', 'ciliated', 'asw', 'sloane', 'arylesterase', 'collagen', 'viscoelasticity', 'elongation', 'flory', 'hoeve', 'cury', 'donnay', 'alloys', 'mrad', 'accelerators', 'nuclide', 'kwhr', 'substrates', 'interface', 'schematically', 'rupture', 'polypropylene', 'pumped', 'draining', 'restorability', 'tumble', 'presser', 'perforated', 'refill', 'cascading', 'interstage', 'impinge', 'fresnel', 'maximizes', 'magnifying', 'specification', 'transient', 'manually', 'inconvenient', 'inertial', 'pickoff', 'lipstick', 'bathrobe', 'throbbed', 'teasing', 'throbbing', 'unsung', 'leered', 'jeff', 'devilish', 'snaked', 'dalloway', 'dainty', 'chandelier', 'spotless', 'keene', 'faltered', 'balustrade', 'bulged', 'reformed', 'neversink', 'illumined', 'hateful', 'industrious', 'swaggered', 'grownups', 'ruffled', 'crummy', 'niggers', 'nothin', 'ol', 'thinkin', 'comin', 'unleashed', 'hafta', 'stroked', 'bandits', 'slovenly', 'punctured', 'bayonets', 'smirk', 'neared', 'pigeon', 'blinking', 'caroli', 'outskirts', 'snarling', 'bristling', 'improvised', 'hardtack', 'exchanging', 'freckles', 'poncho', 'undershirt', 'giggled', 'crumbled', 'redder', 'shuffling', 'icebox', 'lathered', 'mme', 'redoute', 'pillows', 'sneakers', 'probed', 'stalls', 'skullcap', 'galli', 'scoured', 'jerking', 'convulsively', 'bewilderment', 'shriveled', 'fathom', 'schoolroom', 'sired', 'lattimer', 'mynheer', 'cortlandt', 'saddlebags', 'shied', 'nostrils', 'rooster', 'clam', 'ached', 'lather', 'brandel', 'ideologies', 'ulanys', 'globocnik', 'spouted', 'androfski', 'hummed', 'understandingly', 'smelt', 'kitchenette', 'skull', 'bubbling', 'gouged', 'manservant', 'ariadne', 'resentful', 'folding', 'bombproof', 'rotting', 'frayed', 'shrilly', 'hepatitis', 'flannagans', 'izaak', 'seaweed', 'busted', 'crook', 'albright', 'darn', 'retorted', 'chick', 'patronne', 'cackled', 'chambermaid', 'cradled', 'ejaculated', 'coughing', 'drown', 'brennan', 'psychopathic', 'batteries', 'bugging', 'beeps', 'spilled', 'dialed', 'twitch', 'guardino', 'landis', 'acey', 'foolishly', 'splashed', 'alvarez', 'faintest', 'groaned', 'forearm', 'sagged', 'ducking', 'courthouse', 'azaleas', 'tracking', 'ferrell', 'grille', 'katya', 'handbag', 'propped', 'storehouse', 'lamplight', 'swooping', 'cinch', 'sobered', 'pompous', 'chortled', 'prancing', 'grubb', 'dozing', 'shirl', 'skolman', 'louse', 'shouldered', 'dully', 'squinting', 'scheming', 'overnighters', 'lab', 'stilts', 'dinnertime', 'medfield', 'harbored', 'leigh', 'fuzz', 'keeper', 'showers', 'squinted', 'shin', 'cobra', 'unoccupied', 'drawled', 'metronome', 'mciver', 'boulders', 'freya', 'glowering', 'crests', 'lolly', 'grievance', 'soundly', 'archangel', 'speeded', 'martians', 'nests', 'homesick', 'monitor', 'sandalphon', 'pornsen', 'thrashed', 'roiling', 'langer', 'fuses', 'critters', 'intimacy', 'insomnia', 'flipped', 'neural', 'babes', 'diverted', 'rammed', 'stallion', 'holstered', 'mclish', 'slam', 'pans', 'belied', 'melissa', 'bled', 'miraculously', 'pursed', 'figger', 'derrick', 'flailing', 'elena', 'rockfork', 'puncher', 'jesse', 'tracked', 'settler', 'homesteaders', 'snort', 'dell', 'unison', 'bronc', 'antler', 'sweeneys', 'herry', 'duffel', 'onleh', 'hevin', 'aw', 'amber', 'rawlins', 'dew', 'steinhager', 'miserably', 'sour', 'wiggled', 'sommers', 'bailing', 'whitened', 'griggs', 'frayne', 'outrigger', 'rung', 'moons', 'raf', 'commodore', 'bobbing', 'rummaging', 'petrie', 'clasped', 'passionately', 'gaped', 'devol', 'coachman', 'perdido', 'crap', 'bowing', 'evadna', 'mouthful', 'triplets', 'kiz', 'blackwell', 'momoyama', 'yokosuka', 'murdering', 'sparky', 'hurrays', 'handspikes', 'paot', 'rapping', 'underwear', 'mckenzie', 'monmouth', 'harvie', 'outcry', 'ferraros', 'signora', 'bandages', 'nervously', 'cowbirds', 'quintus', 'longue', 'steels', 'lovejoy', 'fairview', 'carraway', 'peony', 'ballplayers', 'fudomae', 'anthea', 'herberet', 'jennie', 'pioneers', 'poitrine', 'bookies', 'feeley', 'crumb', 'saleslady', 'quasimodo']\n"
     ]
    }
   ],
   "source": [
    "def word_min_occurrences(corpus,n):\n",
    "    # return [w for w in corpus if corpus.count(w) > n]\n",
    "    fdist = FreqDist([w.lower() for w in corpus if w.isalpha()])\n",
    "    return [item[0] for item in fdist.most_common(None) if item[1] >= n]\n",
    "\n",
    "print(word_min_occurrences(nltk.corpus.brown.words(),3))"
   ]
  },
  {
   "cell_type": "markdown",
   "metadata": {},
   "source": [
    "16\\. ◑ Write a program to generate a table of lexical diversity scores (i.e. token/type ratios), as we saw in [1.1](http://www.nltk.org/book/ch01.html#tab-brown-types). Include the full set of Brown Corpus genres (nltk.corpus.brown.categories()). Which genre has the lowest diversity (greatest number of tokens per type)? Is this what you would have expected?"
   ]
  },
  {
   "cell_type": "code",
   "execution_count": 34,
   "metadata": {},
   "outputs": [
    {
     "name": "stdout",
     "output_type": "stream",
     "text": [
      "GENRE            TOKENS   TYPES    LEXICAL DIVERSITY\n",
      "adventure        56658    7583     0.13383811641780508\n",
      "belles_lettres   149046   15459    0.10371965701863854\n",
      "editorial        52765    8237     0.1561072680754288\n",
      "fiction          57086    8141     0.14260939634936762\n",
      "government       59959    6444     0.10747344018412582\n",
      "hobbies          69796    9373     0.13429136340191414\n",
      "humor            17776    4452     0.25045004500450047\n",
      "learned          157035   13510    0.08603177635558952\n",
      "lore             94741    12089    0.12760051086646754\n",
      "mystery          46607    5983     0.12837127470122514\n",
      "news             83562    11151    0.1334458246571408\n",
      "religion         33958    5585     0.16446787207727193\n",
      "reviews          34108    7325     0.21475900082092178\n",
      "romance          56857    7316     0.12867369013489985\n",
      "science_fiction  11762    2870     0.24400612140792383\n"
     ]
    }
   ],
   "source": [
    "def token_type_table(corpus,categories):\n",
    "    data = []\n",
    "    headers = ('GENRE','TOKENS','TYPES','LEXICAL DIVERSITY')\n",
    "    for cat in categories:\n",
    "        words = [w.lower() for w in corpus.words(categories=cat) if w.isalpha()]\n",
    "        types = set(words)\n",
    "        div = len(types) / len(words)\n",
    "        data += [(cat, len(words), len(types), div)]\n",
    "    row_format = '{:<16} {:<8} {:<8} {:<16}'\n",
    "    print(row_format.format(*headers))\n",
    "    for row in data:\n",
    "        print(row_format.format(*row))\n",
    "\n",
    "token_type_table(nltk.corpus.brown, nltk.corpus.brown.categories())"
   ]
  },
  {
   "cell_type": "markdown",
   "metadata": {},
   "source": [
    "17\\. ◑ Write a function that finds the 50 most frequently occurring words of a text that are not stopwords."
   ]
  },
  {
   "cell_type": "code",
   "execution_count": 35,
   "metadata": {},
   "outputs": [
    {
     "name": "stdout",
     "output_type": "stream",
     "text": [
      "['see', 'one', 'old', 'love', 'life', 'day', 'shall', 'yet', 'thee', 'long', 'soul', 'earth', 'man', 'night', 'thy', 'thou', 'men', 'sea', 'death', 'every', 'know', 'time', 'come', 'ever', 'well', 'great', 'upon', 'world', 'many', 'good', 'hear', 'like', 'never', 'hand', 'face', 'body', 'give', 'far', 'pass', 'last', 'young', 'land', 'look', 'go', 'rest', 'us', 'sing', 'new', 'dead', 'air']\n"
     ]
    }
   ],
   "source": [
    "def find_most_freq_excl(wordlist, freq, excl):\n",
    "    fdist = nltk.FreqDist([w.lower() for w in wordlist if w.isalpha() and w.lower() not in excl])\n",
    "    return [i[0] for i in fdist.most_common(freq)]\n",
    "\n",
    "print(find_most_freq_excl(nltk.corpus.gutenberg.words('whitman-leaves.txt'), 50, nltk.corpus.stopwords.words('english')))"
   ]
  },
  {
   "cell_type": "markdown",
   "metadata": {},
   "source": [
    "18\\. ◑ Write a program to print the 50 most frequent bigrams (pairs of adjacent words) of a text, omitting bigrams that contain stopwords."
   ]
  },
  {
   "cell_type": "code",
   "execution_count": 36,
   "metadata": {},
   "outputs": [
    {
     "name": "stdout",
     "output_type": "stream",
     "text": [
      "[(('thou', 'hast'), 33), (('let', 'us'), 24), (('thou', 'art'), 23), (('hast', 'thou'), 19), (('thou', 'seest'), 14), (('thus', 'began'), 13), (('right', 'hand'), 13), (('thus', 'replied'), 13), (('thou', 'shalt'), 13), (('thou', 'knowest'), 13), (('god', 'hath'), 12), (('thus', 'adam'), 12), (('thus', 'far'), 11), (('thou', 'didst'), 11), (('happy', 'state'), 10), (('thus', 'eve'), 10), (('thou', 'mayest'), 10), (('without', 'end'), 9), (('mine', 'eyes'), 9), (('thou', 'sawest'), 8), (('shall', 'bruise'), 8), (('thus', 'michael'), 8), (('thus', 'answered'), 7), (('bring', 'forth'), 7), (('ten', 'thousand'), 7), (('may', 'find'), 7), (('great', 'things'), 7), (('new', 'world'), 7), (('thus', 'spake'), 7), (('art', 'thou'), 7), (('shall', 'dwell'), 7), (('ye', 'shall'), 7), (('earth', 'shall'), 7), (('much', 'less'), 7), (('human', 'sense'), 7), (('thy', 'power'), 7), (('one', 'day'), 6), (('thy', 'words'), 6), (('thy', 'head'), 6), (('shall', 'find'), 6), (('well', 'pleased'), 6), (('shalt', 'thou'), 6), (('one', 'man'), 6), (('thy', 'aid'), 5), (('never', 'shall'), 5), (('dry', 'land'), 5), (('highest', 'heaven'), 5), (('ere', 'long'), 5), (('whose', 'high'), 5), (('another', 'world'), 5)]\n"
     ]
    }
   ],
   "source": [
    "def most_freq_bigrams(wordlist, freq, excl=''):\n",
    "    bigrams = [i for i in list(nltk.bigrams(w.lower() for w in wordlist))\n",
    "                if i[0].isalpha() and i[1].isalpha() and i[0] not in excl and i[1] not in excl]\n",
    "    fdist = nltk.FreqDist(bigrams)\n",
    "    return fdist.most_common(freq)\n",
    "\n",
    "print(most_freq_bigrams(milton,50,nltk.corpus.stopwords.words('english')))"
   ]
  },
  {
   "cell_type": "markdown",
   "metadata": {},
   "source": [
    "19\\. ◑ Write a program to create a table of word frequencies by genre, like the one given in 1 for modals. Choose your own words and try to find words whose presence (or absence) is typical of a genre. Discuss your findings."
   ]
  },
  {
   "cell_type": "code",
   "execution_count": 37,
   "metadata": {},
   "outputs": [
    {
     "name": "stdout",
     "output_type": "stream",
     "text": [
      "                  love   hate   like   want   need desire   wish \n",
      "      adventure      9      8    136     43     14      3      3 \n",
      " belles_lettres     68      4    169     30     42     17     22 \n",
      "      editorial     13      0     49     12     29      9      8 \n",
      "        fiction     16      9    147     34     11     10      8 \n",
      "     government      1      0     21      8     32      5      5 \n",
      "        hobbies      6      0     66     27     44      2      5 \n",
      "          humor      4      0     34      6      5      1      3 \n",
      "        learned     13      2     83     18     43      7      7 \n",
      "           lore     19      2     86     31     33      9      8 \n",
      "        mystery      7      2    136     51     12      2      8 \n",
      "           news      3      1     46     16     31      4      5 \n",
      "       religion     13      3     18      2     24      5      1 \n",
      "        reviews      7      2     36      5     11      3      3 \n",
      "        romance     32      9    185     37     15      2     22 \n",
      "science_fiction      3      0     25      6      6      0      1 \n"
     ]
    }
   ],
   "source": [
    "brown=nltk.corpus.brown\n",
    "\n",
    "cfd = nltk.ConditionalFreqDist(\n",
    "    (genre, word)\n",
    "    for genre in brown.categories()\n",
    "    for word in brown.words(categories=genre)\n",
    ")\n",
    "genres = brown.categories()\n",
    "emot = ['love', 'hate', 'like', 'want', 'need', 'desire', 'wish']\n",
    "cfd.tabulate(conditions=genres, samples=emot)"
   ]
  },
  {
   "cell_type": "markdown",
   "metadata": {},
   "source": [
    "I took the words from a list of stative verbs of emotion at https://www.espressoenglish.net/stative-verbs-action-verbs-and-verbs-that-are-both/.\n",
    "\n",
    "The \"like\" column can basically be disregarded as noise since the word can do so many things; note that it's the most frequent term in every category but religion, where, perhaps as an emotive term it's too weak.\n",
    "\n",
    "Strikingly, the \"belles_lettres\" and \"romance\" genres have somewhat comparable profiles.\n",
    "\n",
    "The absence of \"love\" and \"hate\" seems to characterize news and government, where perhaps the terms are too emotionally charged. All these emotional terms are somewhat uncommon in science_fiction, too."
   ]
  },
  {
   "cell_type": "markdown",
   "metadata": {},
   "source": [
    "20\\. ◑ Write a function `word_freq()` that takes a word and the name of a section of the Brown Corpus as arguments, and computes the frequency of the word in that section of the corpus."
   ]
  },
  {
   "cell_type": "code",
   "execution_count": 38,
   "metadata": {},
   "outputs": [
    {
     "name": "stdout",
     "output_type": "stream",
     "text": [
      "32\n"
     ]
    }
   ],
   "source": [
    "def word_freq_in_brown(word,section):\n",
    "    return len([w for w in nltk.corpus.brown.words(categories=section) if w == word])\n",
    "\n",
    "print(word_freq_in_brown('love','romance'))"
   ]
  },
  {
   "cell_type": "markdown",
   "metadata": {},
   "source": [
    "21\\. ◑ Write a program to guess the number of syllables contained in a text, making use of the CMU Pronouncing Dictionary."
   ]
  },
  {
   "cell_type": "code",
   "execution_count": 39,
   "metadata": {},
   "outputs": [
    {
     "name": "stdout",
     "output_type": "stream",
     "text": [
      "0.3282646164110466\n"
     ]
    },
    {
     "data": {
      "image/png": "[encoded data removed]",
      "text/plain": [
       "<matplotlib.figure.Figure at 0x12b3da668>"
      ]
     },
     "metadata": {},
     "output_type": "display_data"
    }
   ],
   "source": [
    "%matplotlib inline\n",
    "import matplotlib.pyplot as plt\n",
    "entries = nltk.corpus.cmudict.entries()\n",
    "\n",
    "cfd = nltk.ConditionalFreqDist(\n",
    "    ()\n",
    ")\n",
    "\n",
    "syll = []\n",
    "char = []\n",
    "for entry in entries:\n",
    "    syll += [len([seg for seg in entry[1] if seg[-1:].isdigit()])]\n",
    "    char += [len(entry[0])]\n",
    "\n",
    "plt.plot(syll, char, 'ro')\n",
    "print(sum(syll)/sum(char))"
   ]
  },
  {
   "cell_type": "code",
   "execution_count": 40,
   "metadata": {},
   "outputs": [
    {
     "name": "stdout",
     "output_type": "stream",
     "text": [
      "4\n",
      "4.969587698466279\n",
      "115294.60931433145\n"
     ]
    }
   ],
   "source": [
    "prondict = nltk.corpus.cmudict.dict()\n",
    "\n",
    "def count_syllables(word):\n",
    "    if word in prondict:\n",
    "        # Only segments that end in digits really signify syllables.\n",
    "        return len([seg for seg in prondict[word][0] if seg[-1:].isdigit()]) # Go with the first listed pronunciation\n",
    "    else:\n",
    "        return len(word) * 0.3282646164110466 # Which I calculated to be the average number of syllables per character.\n",
    "\n",
    "def count_syllables_in_text(text):\n",
    "    total = 0\n",
    "    for word in text:\n",
    "        total += count_syllables(word)\n",
    "    return total\n",
    "\n",
    "print(count_syllables_in_text(['bats','live','in','caves']))\n",
    "print(count_syllables_in_text(['batmen','live','in','caves']))\n",
    "print(count_syllables_in_text(milton))"
   ]
  },
  {
   "cell_type": "markdown",
   "metadata": {},
   "source": [
    "22\\. ◑ Define a function `hedge(text)` which processes a text and produces a new version with the word `'like'` between every third word."
   ]
  },
  {
   "cell_type": "code",
   "execution_count": 41,
   "metadata": {},
   "outputs": [
    {
     "name": "stdout",
     "output_type": "stream",
     "text": [
      "['it', 'was', 'the', 'like', 'best', 'of', 'times', 'like', 'it', 'was', 'the', 'like']\n"
     ]
    }
   ],
   "source": [
    "def hedge(text):\n",
    "    prev = 0\n",
    "    counter = 3\n",
    "    new_text = []\n",
    "    while counter < len(text):\n",
    "        new_text += text[prev:counter]\n",
    "        new_text += ['like']\n",
    "        prev += 3\n",
    "        counter += 3\n",
    "    return new_text\n",
    "\n",
    "print(hedge(['it','was','the','best','of','times','it','was','the','worst','of','times']))"
   ]
  },
  {
   "cell_type": "markdown",
   "metadata": {},
   "source": [
    "23\\. ★ Zipf's Law: Let _f(w)_ be the frequency of a word _w_ in free text. Suppose that all the words of a text are ranked according to their frequency, with the most frequent word first. Zipf's law states that the frequency of a word type is inversely proportional to its rank (i.e. _f × r = k_, for some constant _k_). For example, the 50th most common word type should occur three times as frequently as the 150th most common word type.\n",
    "<ol type=\"a\">\n",
    "<li>Write a function to process a large text and plot word frequency against word rank using `pylab.plot`. Do you confirm Zipf's law? (Hint: it helps to use a logarithmic scale). What is going on at the extreme ends of the plotted line?</li>\n",
    "<li>Generate random text, e.g., using `random.choice(\"abcdefg \")`, taking care to include the space character. You will need to `import random` first. Use the string concatenation operator to accumulate characters into a (very) long string. Then tokenize this string, and generate the Zipf plot as before, and compare the two plots. What do you make of Zipf's Law in the light of this?</li>\n",
    "</ol>"
   ]
  },
  {
   "cell_type": "code",
   "execution_count": 42,
   "metadata": {},
   "outputs": [
    {
     "data": {
      "image/png": "[encoded data removed]",
      "text/plain": [
       "<matplotlib.figure.Figure at 0x12b239c50>"
      ]
     },
     "metadata": {},
     "output_type": "display_data"
    }
   ],
   "source": [
    "import matplotlib.pyplot as plt\n",
    "\n",
    "def plot_zipf(text):\n",
    "    fdist = FreqDist(w for w in text if w.isalpha())\n",
    "    freqs = []\n",
    "    counts = []\n",
    "    common = fdist.most_common(None)\n",
    "    for i in common:\n",
    "        counts += [i[1]]\n",
    "        freqs += [common.index(i)]\n",
    "    plt.loglog(freqs, counts)\n",
    "    plt.xlabel('Rank')\n",
    "    plt.ylabel('Frequency')\n",
    "    plt.show()\n",
    "\n",
    "plot_zipf(milton)"
   ]
  },
  {
   "cell_type": "code",
   "execution_count": 43,
   "metadata": {},
   "outputs": [
    {
     "data": {
      "image/png": "[encoded data removed]",
      "text/plain": [
       "<matplotlib.figure.Figure at 0x118c762b0>"
      ]
     },
     "metadata": {},
     "output_type": "display_data"
    }
   ],
   "source": [
    "plot_zipf(bible)"
   ]
  },
  {
   "cell_type": "code",
   "execution_count": 44,
   "metadata": {},
   "outputs": [
    {
     "data": {
      "image/png": "[encoded data removed]",
      "text/plain": [
       "<matplotlib.figure.Figure at 0x10ddd3860>"
      ]
     },
     "metadata": {},
     "output_type": "display_data"
    }
   ],
   "source": [
    "plot_zipf(text5)"
   ]
  },
  {
   "cell_type": "markdown",
   "metadata": {},
   "source": [
    "Yes, the power law distributions bear out Zipf's law. All the graphs flatten out at the end because the least frequent words are hapaxes; there's a flat line of words with only one appearance."
   ]
  },
  {
   "cell_type": "code",
   "execution_count": 45,
   "metadata": {},
   "outputs": [
    {
     "data": {
      "image/png": "[encoded data removed]",
      "text/plain": [
       "<matplotlib.figure.Figure at 0x118defe10>"
      ]
     },
     "metadata": {},
     "output_type": "display_data"
    }
   ],
   "source": [
    "import random\n",
    "str = ''\n",
    "for n in range(0, 1000000):\n",
    "    str += random.choice('abcdefg ')\n",
    "words = str.split()\n",
    "\n",
    "plot_zipf(words)"
   ]
  },
  {
   "cell_type": "markdown",
   "metadata": {},
   "source": [
    "I'm having trouble figuring out how to interpret this graph since it's not producing a random assortment of words but a random assortment of characters configured in word-like patterns. Since the set of possible configurations of characters is substantially greater than the total possible number of words, this seems as though it's simulating an environment in which there's less likely to be repetition than with real words."
   ]
  },
  {
   "cell_type": "markdown",
   "metadata": {},
   "source": [
    "24\\. ★ Modify the text generation program in [2.2](http://www.nltk.org/book/ch02.html#code-random-text) further, to do the following tasks:\n",
    "<ol type=\"a\">\n",
    "<li>Store the _n_ most likely words in a list `words` then randomly choose a word from the list using `random.choice()`. (You will need to `import random` first.)</li>\n",
    "<li>Select a particular genre, such as a section of the Brown Corpus, or a genesis translation, one of the Gutenberg texts, or one of the Web texts. Train the model on this corpus and get it to generate random text. You may have to experiment with different start words. How intelligible is the text? Discuss the strengths and weaknesses of this method of generating random text.</li>\n",
    "<li>Now train your system using two distinct genres and experiment with generating text in the hybrid genre. Discuss your observations.</li>\n",
    "</ol>"
   ]
  },
  {
   "cell_type": "code",
   "execution_count": 79,
   "metadata": {},
   "outputs": [
    {
     "name": "stdout",
     "output_type": "stream",
     "text": [
      "void ; and the lord god of the lord god of the lord god of \n",
      ". and the lord god of the lord god of the lord god of the \n",
      "of the lord god of the lord god of the lord god of the lord \n",
      "upon the lord god of the lord god of the lord god of the lord \n",
      "the lord god of the lord god of the lord god of the lord god \n",
      "was in the lord god of the lord god of the lord god of the \n",
      "there was in the lord god of the lord god of the lord god of \n",
      ". and the lord god of the lord god of the lord god of the \n",
      "face of the lord god of the lord god of the lord god of the \n",
      "form , and the lord god of the lord god of the lord god of \n"
     ]
    }
   ],
   "source": [
    "import random\n",
    "\n",
    "def generate_model(cfdist, word, num=15):\n",
    "    for i in range(num):\n",
    "        print(word, end=' ')\n",
    "        word = cfdist[word].max()\n",
    "\n",
    "def choose_rand_from_list(words, depth = 50):\n",
    "    words = words[0:depth]\n",
    "    return random.choice(words)\n",
    "\n",
    "def generate_text(corpus):\n",
    "    text = [w.lower() for w in corpus]\n",
    "    bigrams = nltk.bigrams(text)\n",
    "    cfd = nltk.ConditionalFreqDist(bigrams)\n",
    "    for i in range(0,10):\n",
    "        generate_model(cfd, choose_rand_from_list(text))\n",
    "        print()\n",
    "generate_text(nltk.corpus.genesis.words('english-kjv.txt'))"
   ]
  },
  {
   "cell_type": "code",
   "execution_count": 80,
   "metadata": {},
   "outputs": [
    {
     "name": "stdout",
     "output_type": "stream",
     "text": [
      "u7 hi all the room hey there is a good to chat ? lol lol \n",
      "that 's my music . action is a good to chat ? lol lol lol \n",
      ". action is a good to chat ? lol lol lol lol lol lol lol \n",
      ": u122 ! join part join part join part join part join part join part \n",
      "hi all the room hey there is a good to chat ? lol lol lol \n",
      "gives u121 . action is a good to chat ? lol lol lol lol lol \n",
      "golf clap . action is a good to chat ? lol lol lol lol lol \n",
      "me if u tryin to chat ? lol lol lol lol lol lol lol lol \n",
      "a good to chat ? lol lol lol lol lol lol lol lol lol lol \n",
      "name part join part join part join part join part join part join part join \n"
     ]
    }
   ],
   "source": [
    "generate_text(text5)"
   ]
  },
  {
   "cell_type": "code",
   "execution_count": 84,
   "metadata": {},
   "outputs": [
    {
     "name": "stdout",
     "output_type": "stream",
     "text": [
      "face of the lord god of the lord god of the lord god of the \n",
      "and the lord god of the lord god of the lord god of the lord \n",
      "earth , and the lord god of the lord god of the lord god of \n",
      ". and the lord god of the lord god of the lord god of the \n",
      "was in the lord god of the lord god of the lord god of the \n",
      "there was in the lord god of the lord god of the lord god of \n",
      "heaven , and the lord god of the lord god of the lord god of \n",
      "upon the lord god of the lord god of the lord god of the lord \n",
      "without the lord god of the lord god of the lord god of the lord \n",
      "in the lord god of the lord god of the lord god of the lord \n"
     ]
    }
   ],
   "source": [
    "generate_text(list(nltk.corpus.genesis.words('english-kjv.txt')) + list(text5))"
   ]
  },
  {
   "cell_type": "markdown",
   "metadata": {},
   "source": [
    "So the corpora need to be of comparable sizes or one will be almost entirely invisible."
   ]
  },
  {
   "cell_type": "code",
   "execution_count": 85,
   "metadata": {},
   "outputs": [
    {
     "name": "stdout",
     "output_type": "stream",
     "text": [
      "of the united states , and the united states , and the united states , \n",
      "the united states , and the united states , and the united states , and \n",
      "the united states , and the united states , and the united states , and \n",
      "current analysis of the united states , and the united states , and the united \n",
      "business concerns with the united states , and the united states , and the united \n",
      "( b ) the united states , and the united states , and the united \n",
      "payments shall be made to the united states , and the united states , and \n",
      "obe ) the united states , and the united states , and the united states \n",
      "international organizations . the united states , and the united states , and the united \n",
      "and the united states , and the united states , and the united states , \n"
     ]
    }
   ],
   "source": [
    "generate_text(nltk.corpus.brown.words(categories='government'))"
   ]
  },
  {
   "cell_type": "code",
   "execution_count": 86,
   "metadata": {},
   "outputs": [
    {
     "name": "stdout",
     "output_type": "stream",
     "text": [
      "the old man . `` i was a little more than the old man . \n",
      "at the old man . `` i was a little more than the old man \n",
      "which he was a little more than the old man . `` i was a \n",
      "in the old man . `` i was a little more than the old man \n",
      "broken english . `` i was a little more than the old man . `` \n",
      "the old man . `` i was a little more than the old man . \n",
      "breaking the old man . `` i was a little more than the old man \n",
      "old man . `` i was a little more than the old man . `` \n",
      "noon , and the old man . `` i was a little more than the \n",
      "never had been a little more than the old man . `` i was a \n"
     ]
    }
   ],
   "source": [
    "generate_text(nltk.corpus.brown.words(categories='romance'))"
   ]
  },
  {
   "cell_type": "code",
   "execution_count": 91,
   "metadata": {},
   "outputs": [
    {
     "name": "stdout",
     "output_type": "stream",
     "text": [
      "situation . `` i was a little more than the united states , and the \n",
      "situation . `` i was a little more than the united states , and the \n",
      "of the united states , and the united states , and the united states , \n",
      "international organizations . `` i was a little more than the united states , and \n",
      "situation . `` i was a little more than the united states , and the \n",
      "changes in the united states , and the united states , and the united states \n",
      "of the united states , and the united states , and the united states , \n",
      "short-run changes in the united states , and the united states , and the united \n",
      "changes in the united states , and the united states , and the united states \n",
      "current analysis of the united states , and the united states , and the united \n"
     ]
    }
   ],
   "source": [
    "generate_text(nltk.corpus.brown.words(categories=['romance','government']))"
   ]
  },
  {
   "cell_type": "code",
   "execution_count": 89,
   "metadata": {},
   "outputs": [
    {
     "name": "stdout",
     "output_type": "stream",
     "text": [
      "adventure 69342\n",
      "belles_lettres 173096\n",
      "editorial 61604\n",
      "fiction 68488\n",
      "government 70117\n",
      "hobbies 82345\n",
      "humor 21695\n",
      "learned 181888\n",
      "lore 110299\n",
      "mystery 57169\n",
      "news 100554\n",
      "religion 39399\n",
      "reviews 40704\n",
      "romance 70022\n",
      "science_fiction 14470\n"
     ]
    }
   ],
   "source": [
    "for cat in nltk.corpus.brown.categories():\n",
    "    print(cat, len(nltk.corpus.brown.words(categories=cat)))"
   ]
  },
  {
   "cell_type": "code",
   "execution_count": 92,
   "metadata": {},
   "outputs": [
    {
     "name": "stdout",
     "output_type": "stream",
     "text": [
      "he has been the world . the world . the world . the world . \n",
      "it is a man , and the world . the world . the world . \n",
      "that the world . the world . the world . the world . the world \n",
      "own personal saviour and the world . the world . the world . the world \n",
      "certainly not only a man , and the world . the world . the world \n",
      "is a man , and the world . the world . the world . the \n",
      "the world . the world . the world . the world . the world . \n",
      "he has been the world . the world . the world . the world . \n",
      "played with the world . the world . the world . the world . the \n",
      "orchestra , and the world . the world . the world . the world . \n"
     ]
    }
   ],
   "source": [
    "generate_text(nltk.corpus.brown.words(categories=['reviews', 'religion']))"
   ]
  },
  {
   "cell_type": "markdown",
   "metadata": {},
   "source": [
    "This remains an ineffective method of generating random text, because it still has the potential to get stuck in loops, especially with very common phrases. That is true of hybrid corpora, where it may fix on phrases that cross corpora, though I was struck by how thoroughly romance disappears into government, perhaps because government has more formulaic phrases? My next set of attempts is an experiment to see if texts that are reasonably close in both length and tokens do better."
   ]
  },
  {
   "cell_type": "code",
   "execution_count": 93,
   "metadata": {},
   "outputs": [
    {
     "name": "stdout",
     "output_type": "stream",
     "text": [
      "entitled to the same time , and the same time , and the same time \n",
      "thirty-three scotty said . `` i was a little . `` i was a little \n",
      "a little . `` i was a little . `` i was a little . \n",
      "lengthily to the same time , and the same time , and the same time \n",
      "not a little . `` i was a little . `` i was a little \n",
      "best for the same time , and the same time , and the same time \n",
      "their own . `` i was a little . `` i was a little . \n",
      "it was a little . `` i was a little . `` i was a \n",
      "entitled to the same time , and the same time , and the same time \n",
      "to the same time , and the same time , and the same time , \n"
     ]
    }
   ],
   "source": [
    "generate_text(nltk.corpus.brown.words(categories=['fiction']))"
   ]
  },
  {
   "cell_type": "code",
   "execution_count": 94,
   "metadata": {},
   "outputs": [
    {
     "name": "stdout",
     "output_type": "stream",
     "text": [
      "met a few years ago , and the united states and the united states and \n",
      "squarely in the united states and the united states and the united states and the \n",
      "convened . the united states and the united states and the united states and the \n",
      "much as a few years ago , and the united states and the united states \n",
      "schools , and the united states and the united states and the united states and \n",
      "immediately with the united states and the united states and the united states and the \n",
      "assembly , and the united states and the united states and the united states and \n",
      "with the united states and the united states and the united states and the united \n",
      "showdown on the united states and the united states and the united states and the \n",
      "from the united states and the united states and the united states and the united \n"
     ]
    }
   ],
   "source": [
    "generate_text(nltk.corpus.brown.words(categories=['editorial']))"
   ]
  },
  {
   "cell_type": "code",
   "execution_count": 95,
   "metadata": {},
   "outputs": [
    {
     "name": "stdout",
     "output_type": "stream",
     "text": [
      "has been a little . the same time , and the same time , and \n",
      "it was a little . the same time , and the same time , and \n",
      "it was a little . the same time , and the same time , and \n",
      "met a little . the same time , and the same time , and the \n",
      "was a little . the same time , and the same time , and the \n",
      "crisis . the same time , and the same time , and the same time \n",
      "of the same time , and the same time , and the same time , \n",
      "with the same time , and the same time , and the same time , \n",
      "met a little . the same time , and the same time , and the \n",
      "convened . the same time , and the same time , and the same time \n"
     ]
    }
   ],
   "source": [
    "generate_text(nltk.corpus.brown.words(categories=['fiction','editorial']))"
   ]
  },
  {
   "cell_type": "code",
   "execution_count": 99,
   "metadata": {},
   "outputs": [
    {
     "name": "stdout",
     "output_type": "stream",
     "text": [
      "the lad a young man , when abram had taken with his daughters to give \n",
      "the name of jacob was born to laban and it and of jacob his two \n",
      "earth and his name ishmael ; that place peniel : these my dream was the \n",
      "and thou eat bread , this thing ; duke mizz these she conceived by shechem \n",
      "the field give seed was in thy brother . there shall have we brought her \n",
      "of a surety bear thee the house into ward of every green poplar , my \n",
      "god will dwell with our sacks ' journey betwixt me swear unto her : as \n",
      "there shall i am old art his son that land many days that were ringstraked \n",
      "without doubt rent in that we cannot do us for to all lands , in \n",
      "the way of canaan in this is good or his brethren are spies of egypt \n"
     ]
    }
   ],
   "source": [
    "import random\n",
    "\n",
    "def generate_model(cfdist, word, num=15):\n",
    "    for i in range(num):\n",
    "        print(word, end=' ')\n",
    "        word = choose_rand_from_list([w[0] for w in cfdist[word].most_common(None)], depth=25)\n",
    "\n",
    "def choose_rand_from_list(words, depth = 50):\n",
    "    words = words[0:depth]\n",
    "    return random.choice(words)\n",
    "\n",
    "def generate_text(corpus):\n",
    "    text = [w.lower() for w in corpus]\n",
    "    bigrams = nltk.bigrams(text)\n",
    "    cfd = nltk.ConditionalFreqDist(bigrams)\n",
    "    for i in range(0,10):\n",
    "        generate_model(cfd, choose_rand_from_list(text))\n",
    "        print()\n",
    "        \n",
    "generate_text(nltk.corpus.genesis.words('english-kjv.txt'))"
   ]
  },
  {
   "cell_type": "code",
   "execution_count": 100,
   "metadata": {},
   "outputs": [
    {
     "name": "stdout",
     "output_type": "stream",
     "text": [
      "the government contributing substantially . and are , of india incident thereto of india . \n",
      "provides for cooperatives were developed for development program . as in 1961 recommended for each \n",
      "u.s. 385 ( a total maintenance costs and of india for other end that both \n",
      "obe ) conduct ourselves view , in which could propose that one . at night \n",
      "it gives , of the commission . i have enough to its fiscal control objectives \n",
      "of all states , in this budget making inroads in that is due possibly with \n",
      "economics . and all states on a total radio research at this system as shown \n",
      "( c '' to take five afternoons and towns have in the college was mr. \n",
      "measures are a `` that a permanent as possible with which he establishes a single \n",
      "income was not for the american life of all , a permanent peace program continuing \n"
     ]
    }
   ],
   "source": [
    "generate_text(nltk.corpus.brown.words(categories='government'))"
   ]
  },
  {
   "cell_type": "code",
   "execution_count": 101,
   "metadata": {},
   "outputs": [
    {
     "name": "stdout",
     "output_type": "stream",
     "text": [
      ". you . her with them was to the other two brides , her with \n",
      "bell , i thought them he is supposed even be told pete pointed towards mike \n",
      "tone , the end a kind but i'll walk at home . just thinking herself \n",
      "before had been true by various stubblefields -- this letter commending your shoes , in \n",
      "at a kind that had happened the field far wrong '' who look up and \n",
      "repetitive , his life in which no . it had gone and so how it \n",
      "noon mrs. thaxter who had turned pink , in me , not having a nice \n",
      "noon , as though it might meet us with their congested populations and had had \n",
      "never be one day of them once was it happened . this for some frozen \n",
      "church group of all she and he walked on an idea of its sinister way \n"
     ]
    }
   ],
   "source": [
    "generate_text(nltk.corpus.brown.words(categories=['romance']))"
   ]
  },
  {
   "cell_type": "code",
   "execution_count": 102,
   "metadata": {},
   "outputs": [
    {
     "name": "stdout",
     "output_type": "stream",
     "text": [
      "payments even when there wasn't it , the time it would provide opportunity to go \n",
      "changes , i knew full heat . but the last night dookiyoon standing beside peony \n",
      "current weakness in my back at us that she smiled . for each year calendar \n",
      "( i was the new industrial and now becomes editor emeritus . but a good \n",
      "of india acting at least in her life '' as his eyes met , in \n",
      "department to their businesses ; by section 6(j) of new york to their united states' \n",
      "provides basic studies , or to his mother was no state ballet performances , she \n",
      "( the whole months -- with a ) to keep from rhode islanders to a \n",
      ", `` i've reached into one can take great handicap ; and that it can \n",
      "of america ( 2 ) . you , which such sale of this report nor \n"
     ]
    }
   ],
   "source": [
    "generate_text(nltk.corpus.brown.words(categories=['government','romance']))"
   ]
  },
  {
   "cell_type": "code",
   "execution_count": 103,
   "metadata": {},
   "outputs": [
    {
     "name": "stdout",
     "output_type": "stream",
     "text": [
      "for her voice within him of what he was like finally getting down again aroused \n",
      "not at first have had had had ever happened on big fat chicken , so \n",
      "go watery with white working for years was an open window and was at last \n",
      "would happen to be , he looked around waiting impatiently , his father werther every \n",
      "the kitchen where he'd find anything would want my head . they advanced like i \n",
      "it in a lot more methodical than it on big glittering rooms to have behaved \n",
      "scotty . at those o'dwyers were no reason himself says is this hour , where \n",
      "parents talked to put his fingers , then reflected dourly , his first model . \n",
      "thirty-three years after row houses and to speak . he was a second transfer had \n",
      "to make it and in front and then the doctor retorted , she thought how \n"
     ]
    }
   ],
   "source": [
    "generate_text(nltk.corpus.brown.words(categories=['fiction']))"
   ]
  },
  {
   "cell_type": "code",
   "execution_count": 104,
   "metadata": {},
   "outputs": [
    {
     "name": "stdout",
     "output_type": "stream",
     "text": [
      "has shown little used as if you're young child who left washington square twice as \n",
      "squarely and the only some that they had resolved the new approach . we know \n",
      "with that there has long time away . as many people wonder whether `` the \n",
      ", there such shrill girlish commotion i would be used investigative powers -- the house \n",
      "in an orderly succession should even keel and its work harder . when you're not \n",
      "schools preceded ours , `` a long ball going on by his greatest triumphs . \n",
      "convened . he won't have been patiently pointed out at fault are we may . \n",
      "it seems that there shall all else . if unemployment has received the most by \n",
      "the only in the new jobs and even keel and more fatuous than new plot \n",
      ". when they insisted , it can help when mr. hodges' figures of it will \n"
     ]
    }
   ],
   "source": [
    "generate_text(nltk.corpus.brown.words(categories=['editorial']))"
   ]
  },
  {
   "cell_type": "code",
   "execution_count": 105,
   "metadata": {},
   "outputs": [
    {
     "name": "stdout",
     "output_type": "stream",
     "text": [
      "atmosphere enough now what would save dedication the `` you , it , is the \n",
      "crisis of one moment furtively crawling men did a nuclear deterrent , that there whether \n",
      "a lot be , was like . his mother had had no matter she didn't \n",
      "a big eyes now there it '' was to this for what he says voltaire \n",
      "of which were never knew better equipped with the church is why me all but \n",
      "performed in her husband's colleagues in the most on him on their eyes . and \n",
      "the door . they moved to be able brief note or other members . at \n",
      "the united germany will we all he stood there was a little bag of them \n",
      "governor nelson rockefeller has shown by no longer than wonderful that are , he did \n",
      "schools in new orleans to do in new version seems slated to the world attention \n"
     ]
    }
   ],
   "source": [
    "generate_text(nltk.corpus.brown.words(categories=['fiction','editorial']))"
   ]
  },
  {
   "cell_type": "markdown",
   "metadata": {},
   "source": [
    "This final approach is starting to get somewhere: by randomizing the word at each selection point, we avoid getting stuck into loops and begin getting text that looks plausible if you squint at it just right. The cross-genre examples are most interesting when they involve markedly different forms, as for instance in the government+romance where you can see it flitting back and forth."
   ]
  },
  {
   "cell_type": "markdown",
   "metadata": {},
   "source": [
    "25\\. ★ Define a function `find_language()` that takes a string as its argument, and returns a list of languages that have that string as a word. Use the `udhr` corpus and limit your searches to files in the Latin-1 encoding."
   ]
  },
  {
   "cell_type": "code",
   "execution_count": 59,
   "metadata": {},
   "outputs": [
    {
     "data": {
      "text/plain": [
       "['Bichelamar-Latin1', 'NigerianPidginEnglish-Latin1']"
      ]
     },
     "execution_count": 59,
     "metadata": {},
     "output_type": "execute_result"
    }
   ],
   "source": [
    "udhr = nltk.corpus.udhr\n",
    "langs = [id for id in udhr.fileids() if id[-7:] == '-Latin1']\n",
    "\n",
    "def find_language(word):\n",
    "    result = []\n",
    "    for lang in langs:\n",
    "        if word.lower() in [w.lower() for w in udhr.words(lang)]:\n",
    "            result += [lang]\n",
    "    return result\n",
    "\n",
    "find_language('woman')"
   ]
  },
  {
   "cell_type": "markdown",
   "metadata": {},
   "source": [
    "26\\. ★ What is the branching factor of the noun hypernym hierarchy? I.e. for every noun synset that has hyponyms — or children in the hypernym hierarchy — how many do they have on average? You can get all noun synsets using `wn.all_synsets('n')`."
   ]
  },
  {
   "cell_type": "code",
   "execution_count": 115,
   "metadata": {},
   "outputs": [
    {
     "name": "stdout",
     "output_type": "stream",
     "text": [
      "4.543820763194153\n"
     ]
    }
   ],
   "source": [
    "has_hyponyms = [s for s in wn.all_synsets('n') if s.hyponyms()]\n",
    "count_hyponyms = sum(len(s.hyponyms()) for s in has_hyponyms)\n",
    "print(count_hyponyms / len(has_hyponyms))"
   ]
  },
  {
   "cell_type": "markdown",
   "metadata": {},
   "source": [
    "27\\. ★ The polysemy of a word is the number of senses it has. Using WordNet, we can determine that the noun _dog_ has 7 senses with: `len(wn.synsets('dog', 'n'))`. Compute the average polysemy of nouns, verbs, adjectives and adverbs according to WordNet."
   ]
  },
  {
   "cell_type": "code",
   "execution_count": 136,
   "metadata": {},
   "outputs": [
    {
     "name": "stdout",
     "output_type": "stream",
     "text": [
      "noun : 1.2833560159282222\n",
      "verb : 2.1866273523545225\n",
      "adjective : 1.4104837960813446\n",
      "adverb : 1.2532916759651864\n"
     ]
    }
   ],
   "source": [
    "pos = [('noun','n'),('verb','v'),('adjective','a'),('adverb','r')]\n",
    "for p in pos:\n",
    "    synsets = list(nltk.corpus.wordnet.all_synsets(p[1]))\n",
    "    lemma_lists = [list(s.lemma_names()) for s in synsets]\n",
    "    lemma_set = set(i for s in lemma_lists for i in s)\n",
    "    meanings = sum(len(wn.synsets(i, p[1])) for i in lemma_set)\n",
    "    poly = meanings/len(lemma_set)\n",
    "    print(p[0],':',poly)"
   ]
  },
  {
   "cell_type": "markdown",
   "metadata": {},
   "source": [
    "28\\. ★ Use one of the predefined similarity measures to score the similarity of each of the following pairs of words. Rank the pairs in order of decreasing similarity. How close is your ranking to the order given here, an order that was established experimentally by ([Miller & Charles, 1998](http://www.nltk.org/book/bibliography.html#millercharles1998)): car-automobile, gem-jewel, journey-voyage, boy-lad, coast-shore, asylum-madhouse, magician-wizard, midday-noon, furnace-stove, food-fruit, bird-cock, bird-crane, tool-implement, brother-monk, lad-brother, crane-implement, journey-car, monk-oracle, cemetery-woodland, food-rooster, coast-hill, forest-graveyard, shore-woodland, monk-slave, coast-forest, lad-wizard, chord-smile, glass-magician, rooster-voyage, noon-string."
   ]
  },
  {
   "cell_type": "code",
   "execution_count": 176,
   "metadata": {},
   "outputs": [
    {
     "name": "stdout",
     "output_type": "stream",
     "text": [
      "[(('car', 'automobile'), 3.6375861597263857), (('gem', 'jewel'), 3.6375861597263857), (('magician', 'wizard'), 3.6375861597263857), (('midday', 'noon'), 3.6375861597263857), (('journey', 'voyage'), 2.9444389791664407), (('boy', 'lad'), 2.9444389791664407), (('coast', 'shore'), 2.9444389791664407), (('asylum', 'madhouse'), 2.9444389791664407), (('bird', 'cock'), 2.9444389791664407), (('tool', 'implement'), 2.9444389791664407), (('brother', 'monk'), 2.9444389791664407), (('bird', 'crane'), 2.2512917986064953), (('lad', 'brother'), 2.0281482472922856), (('crane', 'implement'), 2.0281482472922856), (('coast', 'hill'), 2.0281482472922856), (('shore', 'woodland'), 2.0281482472922856), (('monk', 'slave'), 2.0281482472922856), (('lad', 'wizard'), 2.0281482472922856), (('coast', 'forest'), 1.845826690498331), (('monk', 'oracle'), 1.55814461804655), (('glass', 'magician'), 1.55814461804655), (('cemetery', 'woodland'), 1.4403615823901665), (('forest', 'graveyard'), 1.4403615823901665), (('furnace', 'stove'), 1.3350010667323402), (('food', 'fruit'), 1.3350010667323402), (('chord', 'smile'), 1.2396908869280152), (('noon', 'string'), 1.1526795099383855), (('food', 'rooster'), 0.8649974374866046), (('journey', 'car'), 0.7472144018302211), (('rooster', 'voyage'), 0.4595323293784402)]\n"
     ]
    }
   ],
   "source": [
    "from operator import itemgetter\n",
    "\n",
    "word_pairs = [('car','automobile'),('gem','jewel'),('journey','voyage'),('boy','lad'),('coast','shore'),('asylum','madhouse'),('magician','wizard'),('midday','noon'),('furnace','stove'),('food','fruit'),('bird','cock'),('bird','crane'),('tool','implement'),('brother','monk'),('lad','brother'),('crane','implement'),('journey','car'),('monk','oracle'),('cemetery','woodland'),('food','rooster'),('coast','hill'),('forest','graveyard'),('shore','woodland'),('monk','slave'),('coast','forest'),('lad','wizard'),('chord','smile'),('glass','magician'),('rooster','voyage'),('noon','string')]\n",
    "scored_pairs = []\n",
    "for p in word_pairs:\n",
    "    best = 0\n",
    "    for x in wn.synsets(p[0]):\n",
    "        for y in wn.synsets(p[1]):\n",
    "            if x.pos() == y.pos():\n",
    "                sim = x.lch_similarity(y)\n",
    "            else:\n",
    "                sim = -1\n",
    "            if sim > best:\n",
    "                best = sim\n",
    "    t = (p, best)\n",
    "    scored_pairs.append(t)\n",
    "print(sorted(scored_pairs, key=lambda i: i[1], reverse=True))"
   ]
  },
  {
   "cell_type": "code",
   "execution_count": null,
   "metadata": {
    "collapsed": true
   },
   "outputs": [],
   "source": []
  }
 ],
 "metadata": {
  "kernelspec": {
   "display_name": "Python 3",
   "language": "python",
   "name": "python3"
  },
  "language_info": {
   "codemirror_mode": {
    "name": "ipython",
    "version": 3
   },
   "file_extension": ".py",
   "mimetype": "text/x-python",
   "name": "python",
   "nbconvert_exporter": "python",
   "pygments_lexer": "ipython3",
   "version": "3.6.1"
  }
 },
 "nbformat": 4,
 "nbformat_minor": 2
}
